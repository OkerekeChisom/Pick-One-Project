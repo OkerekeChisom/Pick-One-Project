{
 "cells": [
  {
   "cell_type": "markdown",
   "id": "fbc06877-058e-4d56-9d84-960d187b2f31",
   "metadata": {},
   "source": [
    "# Regression-EmissionsHighGranularity Metrics"
   ]
  },
  {
   "cell_type": "markdown",
   "id": "05a5a877-a2bc-49e5-b7d8-963e2ff66ae8",
   "metadata": {},
   "source": [
    "PyCaret’s Regression Module is a supervised machine learning module that is used for estimating the relationships between a dependent variable (often called the ‘outcome variable’, or ‘target’) and one or more independent variables (often called ‘features’, ‘predictors’, or ‘covariates’). \n",
    "\n",
    "The objective of regression is to:\n",
    "- Develop a predictive model that estimates total operational emissions (MtCO2e) or total emissions (MtCO2e) based on production volume, commodity type, and other emissions factors.\n",
    "- Determine how different factors like production value, commodity type (Sub-Bituminous vs. Metallurgical Coal, Natural Gas, Oil &  NGL), and specific emission sources (venting, flaring, fugitive methane, own fuel use, etc.) impact total emissions.\n",
    "- Forecast future emissions trends based on historical production and emission patterns."
   ]
  },
  {
   "cell_type": "markdown",
   "id": "26b86939-5522-4943-bbca-ad32103dbbde",
   "metadata": {},
   "source": [
    "## Import necessary libraries"
   ]
  },
  {
   "cell_type": "code",
   "execution_count": 37,
   "id": "a88d3e73-1e35-47be-a42c-38a6cd9a6ab2",
   "metadata": {},
   "outputs": [],
   "source": [
    "import numpy as np\n",
    "import pandas as pd\n",
    "import seaborn as sns\n",
    "import matplotlib.pyplot as plt\n",
    "\n",
    "from pycaret.regression import RegressionExperiment\n",
    "from pycaret.regression import setup, create_model, tune_model, plot_model"
   ]
  },
  {
   "cell_type": "markdown",
   "id": "639c0f17-2fe9-4b2f-a01a-fad1f1cb8625",
   "metadata": {},
   "source": [
    "## Setup"
   ]
  },
  {
   "cell_type": "markdown",
   "id": "2b9c06e5-06c7-4439-a6b3-a04245975ebd",
   "metadata": {},
   "source": [
    "This function initializes the training environment and creates the transformation pipeline. Setup function must be called before executing any other function. It takes two required parameters: data and target. All the other parameters are optional."
   ]
  },
  {
   "cell_type": "code",
   "execution_count": 38,
   "id": "f1d5c0cb-6206-48a1-a8d8-6242fb69b30e",
   "metadata": {},
   "outputs": [
    {
     "data": {
      "text/html": [
       "<div>\n",
       "<style scoped>\n",
       "    .dataframe tbody tr th:only-of-type {\n",
       "        vertical-align: middle;\n",
       "    }\n",
       "\n",
       "    .dataframe tbody tr th {\n",
       "        vertical-align: top;\n",
       "    }\n",
       "\n",
       "    .dataframe thead th {\n",
       "        text-align: right;\n",
       "    }\n",
       "</style>\n",
       "<table border=\"1\" class=\"dataframe\">\n",
       "  <thead>\n",
       "    <tr style=\"text-align: right;\">\n",
       "      <th></th>\n",
       "      <th>year</th>\n",
       "      <th>parent_entity</th>\n",
       "      <th>parent_type</th>\n",
       "      <th>reporting_entity</th>\n",
       "      <th>commodity</th>\n",
       "      <th>production_value</th>\n",
       "      <th>production_unit</th>\n",
       "      <th>product_emissions_MtCO2</th>\n",
       "      <th>flaring_emissions_MtCO2</th>\n",
       "      <th>venting_emissions_MtCO2</th>\n",
       "      <th>own_fuel_use_emissions_MtCO2</th>\n",
       "      <th>fugitive_methane_emissions_MtCO2e</th>\n",
       "      <th>fugitive_methane_emissions_MtCH4</th>\n",
       "      <th>total_operational_emissions_MtCO2e</th>\n",
       "      <th>total_emissions_MtCO2e</th>\n",
       "      <th>emissions_category</th>\n",
       "    </tr>\n",
       "  </thead>\n",
       "  <tbody>\n",
       "    <tr>\n",
       "      <th>0</th>\n",
       "      <td>1854</td>\n",
       "      <td>Adaro Energy</td>\n",
       "      <td>Investor-owned Company</td>\n",
       "      <td>Adaro Energy</td>\n",
       "      <td>Sub-Bituminous Coal</td>\n",
       "      <td>50.9000</td>\n",
       "      <td>Million tonnes/yr</td>\n",
       "      <td>92.3401</td>\n",
       "      <td>0.0</td>\n",
       "      <td>0.0</td>\n",
       "      <td>0.0</td>\n",
       "      <td>10.4316</td>\n",
       "      <td>0.3726</td>\n",
       "      <td>10.4316</td>\n",
       "      <td>102.7717</td>\n",
       "      <td>High</td>\n",
       "    </tr>\n",
       "    <tr>\n",
       "      <th>1</th>\n",
       "      <td>1855</td>\n",
       "      <td>Adaro Energy</td>\n",
       "      <td>Investor-owned Company</td>\n",
       "      <td>Adaro Energy</td>\n",
       "      <td>Metallurgical Coal</td>\n",
       "      <td>0.9000</td>\n",
       "      <td>Million tonnes/yr</td>\n",
       "      <td>2.3989</td>\n",
       "      <td>0.0</td>\n",
       "      <td>0.0</td>\n",
       "      <td>0.0</td>\n",
       "      <td>0.2710</td>\n",
       "      <td>0.0097</td>\n",
       "      <td>0.2710</td>\n",
       "      <td>2.6700</td>\n",
       "      <td>Low</td>\n",
       "    </tr>\n",
       "    <tr>\n",
       "      <th>2</th>\n",
       "      <td>1856</td>\n",
       "      <td>Adaro Energy</td>\n",
       "      <td>Investor-owned Company</td>\n",
       "      <td>Adaro Energy</td>\n",
       "      <td>Sub-Bituminous Coal</td>\n",
       "      <td>48.2300</td>\n",
       "      <td>Million tonnes/yr</td>\n",
       "      <td>87.4963</td>\n",
       "      <td>0.0</td>\n",
       "      <td>0.0</td>\n",
       "      <td>0.0</td>\n",
       "      <td>9.8844</td>\n",
       "      <td>0.3530</td>\n",
       "      <td>9.8844</td>\n",
       "      <td>97.3807</td>\n",
       "      <td>High</td>\n",
       "    </tr>\n",
       "    <tr>\n",
       "      <th>3</th>\n",
       "      <td>1857</td>\n",
       "      <td>Adaro Energy</td>\n",
       "      <td>Investor-owned Company</td>\n",
       "      <td>Adaro Energy</td>\n",
       "      <td>Metallurgical Coal</td>\n",
       "      <td>5.7700</td>\n",
       "      <td>Million tonnes/yr</td>\n",
       "      <td>15.3799</td>\n",
       "      <td>0.0</td>\n",
       "      <td>0.0</td>\n",
       "      <td>0.0</td>\n",
       "      <td>1.7375</td>\n",
       "      <td>0.0621</td>\n",
       "      <td>1.7375</td>\n",
       "      <td>17.1174</td>\n",
       "      <td>Low</td>\n",
       "    </tr>\n",
       "    <tr>\n",
       "      <th>4</th>\n",
       "      <td>1858</td>\n",
       "      <td>Adaro Energy</td>\n",
       "      <td>Investor-owned Company</td>\n",
       "      <td>Adaro Energy</td>\n",
       "      <td>Sub-Bituminous Coal</td>\n",
       "      <td>52.8073</td>\n",
       "      <td>Million tonnes/yr</td>\n",
       "      <td>95.8002</td>\n",
       "      <td>0.0</td>\n",
       "      <td>0.0</td>\n",
       "      <td>0.0</td>\n",
       "      <td>10.8225</td>\n",
       "      <td>0.3865</td>\n",
       "      <td>10.8225</td>\n",
       "      <td>106.6227</td>\n",
       "      <td>High</td>\n",
       "    </tr>\n",
       "  </tbody>\n",
       "</table>\n",
       "</div>"
      ],
      "text/plain": [
       "   year parent_entity             parent_type reporting_entity  \\\n",
       "0  1854  Adaro Energy  Investor-owned Company     Adaro Energy   \n",
       "1  1855  Adaro Energy  Investor-owned Company     Adaro Energy   \n",
       "2  1856  Adaro Energy  Investor-owned Company     Adaro Energy   \n",
       "3  1857  Adaro Energy  Investor-owned Company     Adaro Energy   \n",
       "4  1858  Adaro Energy  Investor-owned Company     Adaro Energy   \n",
       "\n",
       "             commodity  production_value    production_unit  \\\n",
       "0  Sub-Bituminous Coal           50.9000  Million tonnes/yr   \n",
       "1   Metallurgical Coal            0.9000  Million tonnes/yr   \n",
       "2  Sub-Bituminous Coal           48.2300  Million tonnes/yr   \n",
       "3   Metallurgical Coal            5.7700  Million tonnes/yr   \n",
       "4  Sub-Bituminous Coal           52.8073  Million tonnes/yr   \n",
       "\n",
       "   product_emissions_MtCO2  flaring_emissions_MtCO2  venting_emissions_MtCO2  \\\n",
       "0                  92.3401                      0.0                      0.0   \n",
       "1                   2.3989                      0.0                      0.0   \n",
       "2                  87.4963                      0.0                      0.0   \n",
       "3                  15.3799                      0.0                      0.0   \n",
       "4                  95.8002                      0.0                      0.0   \n",
       "\n",
       "   own_fuel_use_emissions_MtCO2  fugitive_methane_emissions_MtCO2e  \\\n",
       "0                           0.0                            10.4316   \n",
       "1                           0.0                             0.2710   \n",
       "2                           0.0                             9.8844   \n",
       "3                           0.0                             1.7375   \n",
       "4                           0.0                            10.8225   \n",
       "\n",
       "   fugitive_methane_emissions_MtCH4  total_operational_emissions_MtCO2e  \\\n",
       "0                            0.3726                             10.4316   \n",
       "1                            0.0097                              0.2710   \n",
       "2                            0.3530                              9.8844   \n",
       "3                            0.0621                              1.7375   \n",
       "4                            0.3865                             10.8225   \n",
       "\n",
       "   total_emissions_MtCO2e emissions_category  \n",
       "0                102.7717               High  \n",
       "1                  2.6700                Low  \n",
       "2                 97.3807               High  \n",
       "3                 17.1174                Low  \n",
       "4                106.6227               High  "
      ]
     },
     "execution_count": 38,
     "metadata": {},
     "output_type": "execute_result"
    }
   ],
   "source": [
    "# load sample dataset\n",
    "from pycaret.datasets import get_data\n",
    "df=pd.read_csv('emissions_high_granularity.csv')\n",
    "df.head()"
   ]
  },
  {
   "cell_type": "code",
   "execution_count": 39,
   "id": "731b1ef4-19d2-4217-9828-25474f3438fd",
   "metadata": {},
   "outputs": [
    {
     "data": {
      "text/plain": [
       "(169, 16)"
      ]
     },
     "execution_count": 39,
     "metadata": {},
     "output_type": "execute_result"
    }
   ],
   "source": [
    "df.shape"
   ]
  },
  {
   "cell_type": "code",
   "execution_count": 40,
   "id": "4a969492-116e-437b-9d7b-8f46ee3c90f5",
   "metadata": {},
   "outputs": [
    {
     "data": {
      "text/plain": [
       "Index(['year', 'parent_entity', 'parent_type', 'reporting_entity', 'commodity',\n",
       "       'production_value', 'production_unit', 'product_emissions_MtCO2',\n",
       "       'flaring_emissions_MtCO2', 'venting_emissions_MtCO2',\n",
       "       'own_fuel_use_emissions_MtCO2', 'fugitive_methane_emissions_MtCO2e',\n",
       "       'fugitive_methane_emissions_MtCH4',\n",
       "       'total_operational_emissions_MtCO2e', 'total_emissions_MtCO2e',\n",
       "       'emissions_category'],\n",
       "      dtype='object')"
      ]
     },
     "execution_count": 40,
     "metadata": {},
     "output_type": "execute_result"
    }
   ],
   "source": [
    "df.columns"
   ]
  },
  {
   "cell_type": "code",
   "execution_count": 41,
   "id": "f1222f81-f2e8-4af7-96ee-3aba49453296",
   "metadata": {},
   "outputs": [
    {
     "data": {
      "image/png": "[encoded data removed]",
      "text/plain": [
       "<Figure size 800x400 with 4 Axes>"
      ]
     },
     "metadata": {},
     "output_type": "display_data"
    }
   ],
   "source": [
    "fig,axes = plt.subplots(nrows=2, ncols=2, figsize=(8,4))\n",
    "sns.scatterplot(data=df, x='commodity', y='production_value', ax=axes[0,0])\n",
    "sns.scatterplot(data=df, x='product_emissions_MtCO2', y='production_value', ax=axes[0,1])\n",
    "sns.scatterplot(data=df, x='fugitive_methane_emissions_MtCO2e', y='production_value', ax=axes[1,0])\n",
    "sns.histplot(df['production_value'],  bins = 15, ax=axes[1,1])\n",
    "\n",
    "plt.show()"
   ]
  },
  {
   "cell_type": "markdown",
   "id": "f9543ba0-76f2-43e2-8f27-41de1a138111",
   "metadata": {},
   "source": [
    "## OOP API"
   ]
  },
  {
   "cell_type": "code",
   "execution_count": 42,
   "id": "3d7eb0a3-f831-4e92-8d3c-e6c8bfc69ad2",
   "metadata": {},
   "outputs": [
    {
     "data": {
      "text/html": [
       "<style type=\"text/css\">\n",
       "#T_bcb8d_row9_col1 {\n",
       "  background-color: lightgreen;\n",
       "}\n",
       "</style>\n",
       "<table id=\"T_bcb8d\">\n",
       "  <thead>\n",
       "    <tr>\n",
       "      <th class=\"blank level0\" >&nbsp;</th>\n",
       "      <th id=\"T_bcb8d_level0_col0\" class=\"col_heading level0 col0\" >Description</th>\n",
       "      <th id=\"T_bcb8d_level0_col1\" class=\"col_heading level0 col1\" >Value</th>\n",
       "    </tr>\n",
       "  </thead>\n",
       "  <tbody>\n",
       "    <tr>\n",
       "      <th id=\"T_bcb8d_level0_row0\" class=\"row_heading level0 row0\" >0</th>\n",
       "      <td id=\"T_bcb8d_row0_col0\" class=\"data row0 col0\" >Session id</td>\n",
       "      <td id=\"T_bcb8d_row0_col1\" class=\"data row0 col1\" >42</td>\n",
       "    </tr>\n",
       "    <tr>\n",
       "      <th id=\"T_bcb8d_level0_row1\" class=\"row_heading level0 row1\" >1</th>\n",
       "      <td id=\"T_bcb8d_row1_col0\" class=\"data row1 col0\" >Target</td>\n",
       "      <td id=\"T_bcb8d_row1_col1\" class=\"data row1 col1\" >production_value</td>\n",
       "    </tr>\n",
       "    <tr>\n",
       "      <th id=\"T_bcb8d_level0_row2\" class=\"row_heading level0 row2\" >2</th>\n",
       "      <td id=\"T_bcb8d_row2_col0\" class=\"data row2 col0\" >Target type</td>\n",
       "      <td id=\"T_bcb8d_row2_col1\" class=\"data row2 col1\" >Regression</td>\n",
       "    </tr>\n",
       "    <tr>\n",
       "      <th id=\"T_bcb8d_level0_row3\" class=\"row_heading level0 row3\" >3</th>\n",
       "      <td id=\"T_bcb8d_row3_col0\" class=\"data row3 col0\" >Original data shape</td>\n",
       "      <td id=\"T_bcb8d_row3_col1\" class=\"data row3 col1\" >(169, 16)</td>\n",
       "    </tr>\n",
       "    <tr>\n",
       "      <th id=\"T_bcb8d_level0_row4\" class=\"row_heading level0 row4\" >4</th>\n",
       "      <td id=\"T_bcb8d_row4_col0\" class=\"data row4 col0\" >Transformed data shape</td>\n",
       "      <td id=\"T_bcb8d_row4_col1\" class=\"data row4 col1\" >(169, 27)</td>\n",
       "    </tr>\n",
       "    <tr>\n",
       "      <th id=\"T_bcb8d_level0_row5\" class=\"row_heading level0 row5\" >5</th>\n",
       "      <td id=\"T_bcb8d_row5_col0\" class=\"data row5 col0\" >Transformed train set shape</td>\n",
       "      <td id=\"T_bcb8d_row5_col1\" class=\"data row5 col1\" >(118, 27)</td>\n",
       "    </tr>\n",
       "    <tr>\n",
       "      <th id=\"T_bcb8d_level0_row6\" class=\"row_heading level0 row6\" >6</th>\n",
       "      <td id=\"T_bcb8d_row6_col0\" class=\"data row6 col0\" >Transformed test set shape</td>\n",
       "      <td id=\"T_bcb8d_row6_col1\" class=\"data row6 col1\" >(51, 27)</td>\n",
       "    </tr>\n",
       "    <tr>\n",
       "      <th id=\"T_bcb8d_level0_row7\" class=\"row_heading level0 row7\" >7</th>\n",
       "      <td id=\"T_bcb8d_row7_col0\" class=\"data row7 col0\" >Numeric features</td>\n",
       "      <td id=\"T_bcb8d_row7_col1\" class=\"data row7 col1\" >9</td>\n",
       "    </tr>\n",
       "    <tr>\n",
       "      <th id=\"T_bcb8d_level0_row8\" class=\"row_heading level0 row8\" >8</th>\n",
       "      <td id=\"T_bcb8d_row8_col0\" class=\"data row8 col0\" >Categorical features</td>\n",
       "      <td id=\"T_bcb8d_row8_col1\" class=\"data row8 col1\" >6</td>\n",
       "    </tr>\n",
       "    <tr>\n",
       "      <th id=\"T_bcb8d_level0_row9\" class=\"row_heading level0 row9\" >9</th>\n",
       "      <td id=\"T_bcb8d_row9_col0\" class=\"data row9 col0\" >Preprocess</td>\n",
       "      <td id=\"T_bcb8d_row9_col1\" class=\"data row9 col1\" >True</td>\n",
       "    </tr>\n",
       "    <tr>\n",
       "      <th id=\"T_bcb8d_level0_row10\" class=\"row_heading level0 row10\" >10</th>\n",
       "      <td id=\"T_bcb8d_row10_col0\" class=\"data row10 col0\" >Imputation type</td>\n",
       "      <td id=\"T_bcb8d_row10_col1\" class=\"data row10 col1\" >simple</td>\n",
       "    </tr>\n",
       "    <tr>\n",
       "      <th id=\"T_bcb8d_level0_row11\" class=\"row_heading level0 row11\" >11</th>\n",
       "      <td id=\"T_bcb8d_row11_col0\" class=\"data row11 col0\" >Numeric imputation</td>\n",
       "      <td id=\"T_bcb8d_row11_col1\" class=\"data row11 col1\" >mean</td>\n",
       "    </tr>\n",
       "    <tr>\n",
       "      <th id=\"T_bcb8d_level0_row12\" class=\"row_heading level0 row12\" >12</th>\n",
       "      <td id=\"T_bcb8d_row12_col0\" class=\"data row12 col0\" >Categorical imputation</td>\n",
       "      <td id=\"T_bcb8d_row12_col1\" class=\"data row12 col1\" >mode</td>\n",
       "    </tr>\n",
       "    <tr>\n",
       "      <th id=\"T_bcb8d_level0_row13\" class=\"row_heading level0 row13\" >13</th>\n",
       "      <td id=\"T_bcb8d_row13_col0\" class=\"data row13 col0\" >Maximum one-hot encoding</td>\n",
       "      <td id=\"T_bcb8d_row13_col1\" class=\"data row13 col1\" >25</td>\n",
       "    </tr>\n",
       "    <tr>\n",
       "      <th id=\"T_bcb8d_level0_row14\" class=\"row_heading level0 row14\" >14</th>\n",
       "      <td id=\"T_bcb8d_row14_col0\" class=\"data row14 col0\" >Encoding method</td>\n",
       "      <td id=\"T_bcb8d_row14_col1\" class=\"data row14 col1\" >None</td>\n",
       "    </tr>\n",
       "    <tr>\n",
       "      <th id=\"T_bcb8d_level0_row15\" class=\"row_heading level0 row15\" >15</th>\n",
       "      <td id=\"T_bcb8d_row15_col0\" class=\"data row15 col0\" >Fold Generator</td>\n",
       "      <td id=\"T_bcb8d_row15_col1\" class=\"data row15 col1\" >KFold</td>\n",
       "    </tr>\n",
       "    <tr>\n",
       "      <th id=\"T_bcb8d_level0_row16\" class=\"row_heading level0 row16\" >16</th>\n",
       "      <td id=\"T_bcb8d_row16_col0\" class=\"data row16 col0\" >Fold Number</td>\n",
       "      <td id=\"T_bcb8d_row16_col1\" class=\"data row16 col1\" >10</td>\n",
       "    </tr>\n",
       "    <tr>\n",
       "      <th id=\"T_bcb8d_level0_row17\" class=\"row_heading level0 row17\" >17</th>\n",
       "      <td id=\"T_bcb8d_row17_col0\" class=\"data row17 col0\" >CPU Jobs</td>\n",
       "      <td id=\"T_bcb8d_row17_col1\" class=\"data row17 col1\" >-1</td>\n",
       "    </tr>\n",
       "    <tr>\n",
       "      <th id=\"T_bcb8d_level0_row18\" class=\"row_heading level0 row18\" >18</th>\n",
       "      <td id=\"T_bcb8d_row18_col0\" class=\"data row18 col0\" >Use GPU</td>\n",
       "      <td id=\"T_bcb8d_row18_col1\" class=\"data row18 col1\" >False</td>\n",
       "    </tr>\n",
       "    <tr>\n",
       "      <th id=\"T_bcb8d_level0_row19\" class=\"row_heading level0 row19\" >19</th>\n",
       "      <td id=\"T_bcb8d_row19_col0\" class=\"data row19 col0\" >Log Experiment</td>\n",
       "      <td id=\"T_bcb8d_row19_col1\" class=\"data row19 col1\" >False</td>\n",
       "    </tr>\n",
       "    <tr>\n",
       "      <th id=\"T_bcb8d_level0_row20\" class=\"row_heading level0 row20\" >20</th>\n",
       "      <td id=\"T_bcb8d_row20_col0\" class=\"data row20 col0\" >Experiment Name</td>\n",
       "      <td id=\"T_bcb8d_row20_col1\" class=\"data row20 col1\" >reg-default-name</td>\n",
       "    </tr>\n",
       "    <tr>\n",
       "      <th id=\"T_bcb8d_level0_row21\" class=\"row_heading level0 row21\" >21</th>\n",
       "      <td id=\"T_bcb8d_row21_col0\" class=\"data row21 col0\" >USI</td>\n",
       "      <td id=\"T_bcb8d_row21_col1\" class=\"data row21 col1\" >49c7</td>\n",
       "    </tr>\n",
       "  </tbody>\n",
       "</table>\n"
      ],
      "text/plain": [
       "<pandas.io.formats.style.Styler at 0x2a321df5a10>"
      ]
     },
     "metadata": {},
     "output_type": "display_data"
    },
    {
     "data": {
      "text/plain": [
       "<pycaret.regression.oop.RegressionExperiment at 0x2a321f44310>"
      ]
     },
     "execution_count": 42,
     "metadata": {},
     "output_type": "execute_result"
    }
   ],
   "source": [
    "# Initialize PyCaret experiment\n",
    "s = RegressionExperiment()\n",
    "s.setup(df, target = 'production_value', session_id = 42)\n"
   ]
  },
  {
   "cell_type": "markdown",
   "id": "ae0f5381-7850-418d-979b-5f6e39d8f6c5",
   "metadata": {},
   "source": [
    "## Compare Models"
   ]
  },
  {
   "cell_type": "markdown",
   "id": "914179d5-f2c9-40e1-a8c5-ca38224de12e",
   "metadata": {},
   "source": [
    "This function trains and evaluates the performance of all the estimators available in the model library using cross-validation. The output of this function is a scoring grid with average cross-validated scores. Metrics evaluated during CV can be accessed using the get_metrics function. Custom metrics can be added or removed using add_metric and remove_metric function."
   ]
  },
  {
   "cell_type": "code",
   "execution_count": 43,
   "id": "053af3a2-a59f-41e3-88b0-88c807f0dbb0",
   "metadata": {},
   "outputs": [
    {
     "data": {
      "text/html": [],
      "text/plain": [
       "<IPython.core.display.HTML object>"
      ]
     },
     "metadata": {},
     "output_type": "display_data"
    },
    {
     "data": {
      "text/html": [
       "<style type=\"text/css\">\n",
       "#T_644de th {\n",
       "  text-align: left;\n",
       "}\n",
       "#T_644de_row0_col0, #T_644de_row0_col1, #T_644de_row0_col3, #T_644de_row0_col5, #T_644de_row1_col0, #T_644de_row1_col2, #T_644de_row1_col6, #T_644de_row2_col0, #T_644de_row2_col1, #T_644de_row2_col2, #T_644de_row2_col3, #T_644de_row2_col4, #T_644de_row2_col5, #T_644de_row2_col6, #T_644de_row3_col0, #T_644de_row3_col1, #T_644de_row3_col2, #T_644de_row3_col3, #T_644de_row3_col4, #T_644de_row3_col5, #T_644de_row3_col6, #T_644de_row4_col0, #T_644de_row4_col1, #T_644de_row4_col2, #T_644de_row4_col3, #T_644de_row4_col4, #T_644de_row4_col5, #T_644de_row4_col6, #T_644de_row5_col0, #T_644de_row5_col1, #T_644de_row5_col2, #T_644de_row5_col3, #T_644de_row5_col4, #T_644de_row5_col5, #T_644de_row5_col6, #T_644de_row6_col0, #T_644de_row6_col1, #T_644de_row6_col2, #T_644de_row6_col3, #T_644de_row6_col4, #T_644de_row6_col5, #T_644de_row6_col6, #T_644de_row7_col0, #T_644de_row7_col1, #T_644de_row7_col2, #T_644de_row7_col3, #T_644de_row7_col4, #T_644de_row7_col5, #T_644de_row7_col6, #T_644de_row8_col0, #T_644de_row8_col1, #T_644de_row8_col2, #T_644de_row8_col3, #T_644de_row8_col4, #T_644de_row8_col5, #T_644de_row8_col6, #T_644de_row9_col0, #T_644de_row9_col1, #T_644de_row9_col2, #T_644de_row9_col3, #T_644de_row9_col4, #T_644de_row9_col5, #T_644de_row9_col6, #T_644de_row10_col0, #T_644de_row10_col1, #T_644de_row10_col2, #T_644de_row10_col3, #T_644de_row10_col4, #T_644de_row10_col5, #T_644de_row10_col6, #T_644de_row11_col0, #T_644de_row11_col1, #T_644de_row11_col2, #T_644de_row11_col3, #T_644de_row11_col4, #T_644de_row11_col5, #T_644de_row11_col6, #T_644de_row12_col0, #T_644de_row12_col1, #T_644de_row12_col2, #T_644de_row12_col3, #T_644de_row12_col4, #T_644de_row12_col5, #T_644de_row12_col6, #T_644de_row13_col0, #T_644de_row13_col1, #T_644de_row13_col2, #T_644de_row13_col3, #T_644de_row13_col4, #T_644de_row13_col5, #T_644de_row13_col6, #T_644de_row14_col0, #T_644de_row14_col1, #T_644de_row14_col2, #T_644de_row14_col3, #T_644de_row14_col4, #T_644de_row14_col5, #T_644de_row14_col6, #T_644de_row15_col0, #T_644de_row15_col1, #T_644de_row15_col2, #T_644de_row15_col3, #T_644de_row15_col4, #T_644de_row15_col5, #T_644de_row15_col6, #T_644de_row16_col0, #T_644de_row16_col1, #T_644de_row16_col2, #T_644de_row16_col3, #T_644de_row16_col4, #T_644de_row16_col5, #T_644de_row16_col6, #T_644de_row17_col0, #T_644de_row17_col1, #T_644de_row17_col2, #T_644de_row17_col3, #T_644de_row17_col4, #T_644de_row17_col5, #T_644de_row17_col6, #T_644de_row18_col0, #T_644de_row18_col1, #T_644de_row18_col2, #T_644de_row18_col3, #T_644de_row18_col4, #T_644de_row18_col5, #T_644de_row18_col6 {\n",
       "  text-align: left;\n",
       "}\n",
       "#T_644de_row0_col2, #T_644de_row0_col4, #T_644de_row0_col6, #T_644de_row1_col1, #T_644de_row1_col3, #T_644de_row1_col4, #T_644de_row1_col5 {\n",
       "  text-align: left;\n",
       "  background-color: yellow;\n",
       "}\n",
       "#T_644de_row0_col7, #T_644de_row1_col7, #T_644de_row2_col7, #T_644de_row3_col7, #T_644de_row4_col7, #T_644de_row5_col7, #T_644de_row6_col7, #T_644de_row7_col7, #T_644de_row8_col7, #T_644de_row9_col7, #T_644de_row10_col7, #T_644de_row11_col7, #T_644de_row12_col7, #T_644de_row13_col7, #T_644de_row14_col7, #T_644de_row15_col7, #T_644de_row16_col7, #T_644de_row18_col7 {\n",
       "  text-align: left;\n",
       "  background-color: lightgrey;\n",
       "}\n",
       "#T_644de_row17_col7 {\n",
       "  text-align: left;\n",
       "  background-color: yellow;\n",
       "  background-color: lightgrey;\n",
       "}\n",
       "</style>\n",
       "<table id=\"T_644de\">\n",
       "  <thead>\n",
       "    <tr>\n",
       "      <th class=\"blank level0\" >&nbsp;</th>\n",
       "      <th id=\"T_644de_level0_col0\" class=\"col_heading level0 col0\" >Model</th>\n",
       "      <th id=\"T_644de_level0_col1\" class=\"col_heading level0 col1\" >MAE</th>\n",
       "      <th id=\"T_644de_level0_col2\" class=\"col_heading level0 col2\" >MSE</th>\n",
       "      <th id=\"T_644de_level0_col3\" class=\"col_heading level0 col3\" >RMSE</th>\n",
       "      <th id=\"T_644de_level0_col4\" class=\"col_heading level0 col4\" >R2</th>\n",
       "      <th id=\"T_644de_level0_col5\" class=\"col_heading level0 col5\" >RMSLE</th>\n",
       "      <th id=\"T_644de_level0_col6\" class=\"col_heading level0 col6\" >MAPE</th>\n",
       "      <th id=\"T_644de_level0_col7\" class=\"col_heading level0 col7\" >TT (Sec)</th>\n",
       "    </tr>\n",
       "  </thead>\n",
       "  <tbody>\n",
       "    <tr>\n",
       "      <th id=\"T_644de_level0_row0\" class=\"row_heading level0 row0\" >lr</th>\n",
       "      <td id=\"T_644de_row0_col0\" class=\"data row0 col0\" >Linear Regression</td>\n",
       "      <td id=\"T_644de_row0_col1\" class=\"data row0 col1\" >0.1132</td>\n",
       "      <td id=\"T_644de_row0_col2\" class=\"data row0 col2\" >0.0980</td>\n",
       "      <td id=\"T_644de_row0_col3\" class=\"data row0 col3\" >0.2339</td>\n",
       "      <td id=\"T_644de_row0_col4\" class=\"data row0 col4\" >1.0000</td>\n",
       "      <td id=\"T_644de_row0_col5\" class=\"data row0 col5\" >0.0432</td>\n",
       "      <td id=\"T_644de_row0_col6\" class=\"data row0 col6\" >0.0904</td>\n",
       "      <td id=\"T_644de_row0_col7\" class=\"data row0 col7\" >1.9250</td>\n",
       "    </tr>\n",
       "    <tr>\n",
       "      <th id=\"T_644de_level0_row1\" class=\"row_heading level0 row1\" >br</th>\n",
       "      <td id=\"T_644de_row1_col0\" class=\"data row1 col0\" >Bayesian Ridge</td>\n",
       "      <td id=\"T_644de_row1_col1\" class=\"data row1 col1\" >0.0902</td>\n",
       "      <td id=\"T_644de_row1_col2\" class=\"data row1 col2\" >0.1000</td>\n",
       "      <td id=\"T_644de_row1_col3\" class=\"data row1 col3\" >0.2142</td>\n",
       "      <td id=\"T_644de_row1_col4\" class=\"data row1 col4\" >1.0000</td>\n",
       "      <td id=\"T_644de_row1_col5\" class=\"data row1 col5\" >0.0422</td>\n",
       "      <td id=\"T_644de_row1_col6\" class=\"data row1 col6\" >0.0927</td>\n",
       "      <td id=\"T_644de_row1_col7\" class=\"data row1 col7\" >0.0870</td>\n",
       "    </tr>\n",
       "    <tr>\n",
       "      <th id=\"T_644de_level0_row2\" class=\"row_heading level0 row2\" >lasso</th>\n",
       "      <td id=\"T_644de_row2_col0\" class=\"data row2 col0\" >Lasso Regression</td>\n",
       "      <td id=\"T_644de_row2_col1\" class=\"data row2 col1\" >2.8883</td>\n",
       "      <td id=\"T_644de_row2_col2\" class=\"data row2 col2\" >18.6493</td>\n",
       "      <td id=\"T_644de_row2_col3\" class=\"data row2 col3\" >4.1486</td>\n",
       "      <td id=\"T_644de_row2_col4\" class=\"data row2 col4\" >0.9999</td>\n",
       "      <td id=\"T_644de_row2_col5\" class=\"data row2 col5\" >0.2269</td>\n",
       "      <td id=\"T_644de_row2_col6\" class=\"data row2 col6\" >0.3202</td>\n",
       "      <td id=\"T_644de_row2_col7\" class=\"data row2 col7\" >0.1100</td>\n",
       "    </tr>\n",
       "    <tr>\n",
       "      <th id=\"T_644de_level0_row3\" class=\"row_heading level0 row3\" >ridge</th>\n",
       "      <td id=\"T_644de_row3_col0\" class=\"data row3 col0\" >Ridge Regression</td>\n",
       "      <td id=\"T_644de_row3_col1\" class=\"data row3 col1\" >2.7393</td>\n",
       "      <td id=\"T_644de_row3_col2\" class=\"data row3 col2\" >15.3978</td>\n",
       "      <td id=\"T_644de_row3_col3\" class=\"data row3 col3\" >3.8392</td>\n",
       "      <td id=\"T_644de_row3_col4\" class=\"data row3 col4\" >0.9999</td>\n",
       "      <td id=\"T_644de_row3_col5\" class=\"data row3 col5\" >0.2722</td>\n",
       "      <td id=\"T_644de_row3_col6\" class=\"data row3 col6\" >0.3933</td>\n",
       "      <td id=\"T_644de_row3_col7\" class=\"data row3 col7\" >0.1080</td>\n",
       "    </tr>\n",
       "    <tr>\n",
       "      <th id=\"T_644de_level0_row4\" class=\"row_heading level0 row4\" >llar</th>\n",
       "      <td id=\"T_644de_row4_col0\" class=\"data row4 col0\" >Lasso Least Angle Regression</td>\n",
       "      <td id=\"T_644de_row4_col1\" class=\"data row4 col1\" >1.8860</td>\n",
       "      <td id=\"T_644de_row4_col2\" class=\"data row4 col2\" >7.9757</td>\n",
       "      <td id=\"T_644de_row4_col3\" class=\"data row4 col3\" >2.7183</td>\n",
       "      <td id=\"T_644de_row4_col4\" class=\"data row4 col4\" >0.9999</td>\n",
       "      <td id=\"T_644de_row4_col5\" class=\"data row4 col5\" >0.1469</td>\n",
       "      <td id=\"T_644de_row4_col6\" class=\"data row4 col6\" >0.2080</td>\n",
       "      <td id=\"T_644de_row4_col7\" class=\"data row4 col7\" >0.1510</td>\n",
       "    </tr>\n",
       "    <tr>\n",
       "      <th id=\"T_644de_level0_row5\" class=\"row_heading level0 row5\" >et</th>\n",
       "      <td id=\"T_644de_row5_col0\" class=\"data row5 col0\" >Extra Trees Regressor</td>\n",
       "      <td id=\"T_644de_row5_col1\" class=\"data row5 col1\" >4.1085</td>\n",
       "      <td id=\"T_644de_row5_col2\" class=\"data row5 col2\" >95.5768</td>\n",
       "      <td id=\"T_644de_row5_col3\" class=\"data row5 col3\" >7.6121</td>\n",
       "      <td id=\"T_644de_row5_col4\" class=\"data row5 col4\" >0.9995</td>\n",
       "      <td id=\"T_644de_row5_col5\" class=\"data row5 col5\" >0.0998</td>\n",
       "      <td id=\"T_644de_row5_col6\" class=\"data row5 col6\" >0.1005</td>\n",
       "      <td id=\"T_644de_row5_col7\" class=\"data row5 col7\" >0.2200</td>\n",
       "    </tr>\n",
       "    <tr>\n",
       "      <th id=\"T_644de_level0_row6\" class=\"row_heading level0 row6\" >catboost</th>\n",
       "      <td id=\"T_644de_row6_col0\" class=\"data row6 col0\" >CatBoost Regressor</td>\n",
       "      <td id=\"T_644de_row6_col1\" class=\"data row6 col1\" >10.0701</td>\n",
       "      <td id=\"T_644de_row6_col2\" class=\"data row6 col2\" >363.9327</td>\n",
       "      <td id=\"T_644de_row6_col3\" class=\"data row6 col3\" >16.0973</td>\n",
       "      <td id=\"T_644de_row6_col4\" class=\"data row6 col4\" >0.9985</td>\n",
       "      <td id=\"T_644de_row6_col5\" class=\"data row6 col5\" >0.2336</td>\n",
       "      <td id=\"T_644de_row6_col6\" class=\"data row6 col6\" >0.4537</td>\n",
       "      <td id=\"T_644de_row6_col7\" class=\"data row6 col7\" >2.5100</td>\n",
       "    </tr>\n",
       "    <tr>\n",
       "      <th id=\"T_644de_level0_row7\" class=\"row_heading level0 row7\" >gbr</th>\n",
       "      <td id=\"T_644de_row7_col0\" class=\"data row7 col0\" >Gradient Boosting Regressor</td>\n",
       "      <td id=\"T_644de_row7_col1\" class=\"data row7 col1\" >12.5069</td>\n",
       "      <td id=\"T_644de_row7_col2\" class=\"data row7 col2\" >877.4653</td>\n",
       "      <td id=\"T_644de_row7_col3\" class=\"data row7 col3\" >22.1745</td>\n",
       "      <td id=\"T_644de_row7_col4\" class=\"data row7 col4\" >0.9973</td>\n",
       "      <td id=\"T_644de_row7_col5\" class=\"data row7 col5\" >0.1344</td>\n",
       "      <td id=\"T_644de_row7_col6\" class=\"data row7 col6\" >0.1488</td>\n",
       "      <td id=\"T_644de_row7_col7\" class=\"data row7 col7\" >0.1480</td>\n",
       "    </tr>\n",
       "    <tr>\n",
       "      <th id=\"T_644de_level0_row8\" class=\"row_heading level0 row8\" >rf</th>\n",
       "      <td id=\"T_644de_row8_col0\" class=\"data row8 col0\" >Random Forest Regressor</td>\n",
       "      <td id=\"T_644de_row8_col1\" class=\"data row8 col1\" >16.3538</td>\n",
       "      <td id=\"T_644de_row8_col2\" class=\"data row8 col2\" >1346.9018</td>\n",
       "      <td id=\"T_644de_row8_col3\" class=\"data row8 col3\" >29.2344</td>\n",
       "      <td id=\"T_644de_row8_col4\" class=\"data row8 col4\" >0.9965</td>\n",
       "      <td id=\"T_644de_row8_col5\" class=\"data row8 col5\" >0.1686</td>\n",
       "      <td id=\"T_644de_row8_col6\" class=\"data row8 col6\" >0.2576</td>\n",
       "      <td id=\"T_644de_row8_col7\" class=\"data row8 col7\" >0.2720</td>\n",
       "    </tr>\n",
       "    <tr>\n",
       "      <th id=\"T_644de_level0_row9\" class=\"row_heading level0 row9\" >dt</th>\n",
       "      <td id=\"T_644de_row9_col0\" class=\"data row9 col0\" >Decision Tree Regressor</td>\n",
       "      <td id=\"T_644de_row9_col1\" class=\"data row9 col1\" >17.9443</td>\n",
       "      <td id=\"T_644de_row9_col2\" class=\"data row9 col2\" >1206.0120</td>\n",
       "      <td id=\"T_644de_row9_col3\" class=\"data row9 col3\" >30.6297</td>\n",
       "      <td id=\"T_644de_row9_col4\" class=\"data row9 col4\" >0.9941</td>\n",
       "      <td id=\"T_644de_row9_col5\" class=\"data row9 col5\" >0.1767</td>\n",
       "      <td id=\"T_644de_row9_col6\" class=\"data row9 col6\" >0.1674</td>\n",
       "      <td id=\"T_644de_row9_col7\" class=\"data row9 col7\" >0.1030</td>\n",
       "    </tr>\n",
       "    <tr>\n",
       "      <th id=\"T_644de_level0_row10\" class=\"row_heading level0 row10\" >ada</th>\n",
       "      <td id=\"T_644de_row10_col0\" class=\"data row10 col0\" >AdaBoost Regressor</td>\n",
       "      <td id=\"T_644de_row10_col1\" class=\"data row10 col1\" >34.9427</td>\n",
       "      <td id=\"T_644de_row10_col2\" class=\"data row10 col2\" >2603.9731</td>\n",
       "      <td id=\"T_644de_row10_col3\" class=\"data row10 col3\" >45.2585</td>\n",
       "      <td id=\"T_644de_row10_col4\" class=\"data row10 col4\" >0.9875</td>\n",
       "      <td id=\"T_644de_row10_col5\" class=\"data row10 col5\" >0.8732</td>\n",
       "      <td id=\"T_644de_row10_col6\" class=\"data row10 col6\" >3.4406</td>\n",
       "      <td id=\"T_644de_row10_col7\" class=\"data row10 col7\" >0.1360</td>\n",
       "    </tr>\n",
       "    <tr>\n",
       "      <th id=\"T_644de_level0_row11\" class=\"row_heading level0 row11\" >en</th>\n",
       "      <td id=\"T_644de_row11_col0\" class=\"data row11 col0\" >Elastic Net</td>\n",
       "      <td id=\"T_644de_row11_col1\" class=\"data row11 col1\" >32.4362</td>\n",
       "      <td id=\"T_644de_row11_col2\" class=\"data row11 col2\" >2873.2632</td>\n",
       "      <td id=\"T_644de_row11_col3\" class=\"data row11 col3\" >51.1048</td>\n",
       "      <td id=\"T_644de_row11_col4\" class=\"data row11 col4\" >0.9823</td>\n",
       "      <td id=\"T_644de_row11_col5\" class=\"data row11 col5\" >0.9079</td>\n",
       "      <td id=\"T_644de_row11_col6\" class=\"data row11 col6\" >5.8943</td>\n",
       "      <td id=\"T_644de_row11_col7\" class=\"data row11 col7\" >0.1120</td>\n",
       "    </tr>\n",
       "    <tr>\n",
       "      <th id=\"T_644de_level0_row12\" class=\"row_heading level0 row12\" >huber</th>\n",
       "      <td id=\"T_644de_row12_col0\" class=\"data row12 col0\" >Huber Regressor</td>\n",
       "      <td id=\"T_644de_row12_col1\" class=\"data row12 col1\" >28.8452</td>\n",
       "      <td id=\"T_644de_row12_col2\" class=\"data row12 col2\" >2788.0475</td>\n",
       "      <td id=\"T_644de_row12_col3\" class=\"data row12 col3\" >51.6135</td>\n",
       "      <td id=\"T_644de_row12_col4\" class=\"data row12 col4\" >0.9713</td>\n",
       "      <td id=\"T_644de_row12_col5\" class=\"data row12 col5\" >0.9850</td>\n",
       "      <td id=\"T_644de_row12_col6\" class=\"data row12 col6\" >9.5920</td>\n",
       "      <td id=\"T_644de_row12_col7\" class=\"data row12 col7\" >0.1210</td>\n",
       "    </tr>\n",
       "    <tr>\n",
       "      <th id=\"T_644de_level0_row13\" class=\"row_heading level0 row13\" >lightgbm</th>\n",
       "      <td id=\"T_644de_row13_col0\" class=\"data row13 col0\" >Light Gradient Boosting Machine</td>\n",
       "      <td id=\"T_644de_row13_col1\" class=\"data row13 col1\" >61.3438</td>\n",
       "      <td id=\"T_644de_row13_col2\" class=\"data row13 col2\" >18829.3424</td>\n",
       "      <td id=\"T_644de_row13_col3\" class=\"data row13 col3\" >108.3886</td>\n",
       "      <td id=\"T_644de_row13_col4\" class=\"data row13 col4\" >0.9615</td>\n",
       "      <td id=\"T_644de_row13_col5\" class=\"data row13 col5\" >0.4858</td>\n",
       "      <td id=\"T_644de_row13_col6\" class=\"data row13 col6\" >1.9150</td>\n",
       "      <td id=\"T_644de_row13_col7\" class=\"data row13 col7\" >0.1310</td>\n",
       "    </tr>\n",
       "    <tr>\n",
       "      <th id=\"T_644de_level0_row14\" class=\"row_heading level0 row14\" >omp</th>\n",
       "      <td id=\"T_644de_row14_col0\" class=\"data row14 col0\" >Orthogonal Matching Pursuit</td>\n",
       "      <td id=\"T_644de_row14_col1\" class=\"data row14 col1\" >81.7566</td>\n",
       "      <td id=\"T_644de_row14_col2\" class=\"data row14 col2\" >13860.1230</td>\n",
       "      <td id=\"T_644de_row14_col3\" class=\"data row14 col3\" >115.1577</td>\n",
       "      <td id=\"T_644de_row14_col4\" class=\"data row14 col4\" >0.8645</td>\n",
       "      <td id=\"T_644de_row14_col5\" class=\"data row14 col5\" >1.0995</td>\n",
       "      <td id=\"T_644de_row14_col6\" class=\"data row14 col6\" >5.7269</td>\n",
       "      <td id=\"T_644de_row14_col7\" class=\"data row14 col7\" >0.1080</td>\n",
       "    </tr>\n",
       "    <tr>\n",
       "      <th id=\"T_644de_level0_row15\" class=\"row_heading level0 row15\" >knn</th>\n",
       "      <td id=\"T_644de_row15_col0\" class=\"data row15 col0\" >K Neighbors Regressor</td>\n",
       "      <td id=\"T_644de_row15_col1\" class=\"data row15 col1\" >139.3057</td>\n",
       "      <td id=\"T_644de_row15_col2\" class=\"data row15 col2\" >98763.1904</td>\n",
       "      <td id=\"T_644de_row15_col3\" class=\"data row15 col3\" >267.1284</td>\n",
       "      <td id=\"T_644de_row15_col4\" class=\"data row15 col4\" >0.7644</td>\n",
       "      <td id=\"T_644de_row15_col5\" class=\"data row15 col5\" >0.5930</td>\n",
       "      <td id=\"T_644de_row15_col6\" class=\"data row15 col6\" >1.6608</td>\n",
       "      <td id=\"T_644de_row15_col7\" class=\"data row15 col7\" >0.0900</td>\n",
       "    </tr>\n",
       "    <tr>\n",
       "      <th id=\"T_644de_level0_row16\" class=\"row_heading level0 row16\" >dummy</th>\n",
       "      <td id=\"T_644de_row16_col0\" class=\"data row16 col0\" >Dummy Regressor</td>\n",
       "      <td id=\"T_644de_row16_col1\" class=\"data row16 col1\" >513.8139</td>\n",
       "      <td id=\"T_644de_row16_col2\" class=\"data row16 col2\" >430176.3297</td>\n",
       "      <td id=\"T_644de_row16_col3\" class=\"data row16 col3\" >628.1869</td>\n",
       "      <td id=\"T_644de_row16_col4\" class=\"data row16 col4\" >-1.7025</td>\n",
       "      <td id=\"T_644de_row16_col5\" class=\"data row16 col5\" >2.2465</td>\n",
       "      <td id=\"T_644de_row16_col6\" class=\"data row16 col6\" >38.0666</td>\n",
       "      <td id=\"T_644de_row16_col7\" class=\"data row16 col7\" >0.1070</td>\n",
       "    </tr>\n",
       "    <tr>\n",
       "      <th id=\"T_644de_level0_row17\" class=\"row_heading level0 row17\" >par</th>\n",
       "      <td id=\"T_644de_row17_col0\" class=\"data row17 col0\" >Passive Aggressive Regressor</td>\n",
       "      <td id=\"T_644de_row17_col1\" class=\"data row17 col1\" >684.2810</td>\n",
       "      <td id=\"T_644de_row17_col2\" class=\"data row17 col2\" >720712.0781</td>\n",
       "      <td id=\"T_644de_row17_col3\" class=\"data row17 col3\" >763.3682</td>\n",
       "      <td id=\"T_644de_row17_col4\" class=\"data row17 col4\" >-2.2359</td>\n",
       "      <td id=\"T_644de_row17_col5\" class=\"data row17 col5\" >2.2797</td>\n",
       "      <td id=\"T_644de_row17_col6\" class=\"data row17 col6\" >61.0164</td>\n",
       "      <td id=\"T_644de_row17_col7\" class=\"data row17 col7\" >0.0860</td>\n",
       "    </tr>\n",
       "    <tr>\n",
       "      <th id=\"T_644de_level0_row18\" class=\"row_heading level0 row18\" >lar</th>\n",
       "      <td id=\"T_644de_row18_col0\" class=\"data row18 col0\" >Least Angle Regression</td>\n",
       "      <td id=\"T_644de_row18_col1\" class=\"data row18 col1\" >3661424170.3564</td>\n",
       "      <td id=\"T_644de_row18_col2\" class=\"data row18 col2\" >145710683884744294400.0000</td>\n",
       "      <td id=\"T_644de_row18_col3\" class=\"data row18 col3\" >5083245282.4806</td>\n",
       "      <td id=\"T_644de_row18_col4\" class=\"data row18 col4\" >-318124230357818.3750</td>\n",
       "      <td id=\"T_644de_row18_col5\" class=\"data row18 col5\" >13.6411</td>\n",
       "      <td id=\"T_644de_row18_col6\" class=\"data row18 col6\" >521831911.0415</td>\n",
       "      <td id=\"T_644de_row18_col7\" class=\"data row18 col7\" >0.1610</td>\n",
       "    </tr>\n",
       "  </tbody>\n",
       "</table>\n"
      ],
      "text/plain": [
       "<pandas.io.formats.style.Styler at 0x2a310aef890>"
      ]
     },
     "metadata": {},
     "output_type": "display_data"
    },
    {
     "data": {
      "text/html": [],
      "text/plain": [
       "<IPython.core.display.HTML object>"
      ]
     },
     "metadata": {},
     "output_type": "display_data"
    }
   ],
   "source": [
    "best = s.compare_models()"
   ]
  },
  {
   "cell_type": "code",
   "execution_count": 44,
   "id": "5a07c46c-3933-45eb-b36a-1c4ce250f132",
   "metadata": {},
   "outputs": [
    {
     "name": "stdout",
     "output_type": "stream",
     "text": [
      "LinearRegression(n_jobs=-1)\n"
     ]
    }
   ],
   "source": [
    "print(best)"
   ]
  },
  {
   "cell_type": "markdown",
   "id": "b884304e-ec88-4f33-a6c7-a89ea7384d74",
   "metadata": {},
   "source": [
    "## Analyze Model\n"
   ]
  },
  {
   "cell_type": "markdown",
   "id": "5d4d81c1-f90a-414a-aa22-539baf7a4fd4",
   "metadata": {},
   "source": [
    "This function analyzes the performance of a trained model on the test set. It may require re-training the model in certain cases."
   ]
  },
  {
   "cell_type": "code",
   "execution_count": 9,
   "id": "f849b54d-fa89-406d-9f94-36bda07999a0",
   "metadata": {},
   "outputs": [
    {
     "data": {
      "application/vnd.jupyter.widget-view+json": {
       "model_id": "0828fac3ee894106a258fa6437d1fd7c",
       "version_major": 2,
       "version_minor": 0
      },
      "text/plain": [
       "interactive(children=(ToggleButtons(description='Plot Type:', icons=('',), options=(('Pipeline Plot', 'pipelin…"
      ]
     },
     "metadata": {},
     "output_type": "display_data"
    }
   ],
   "source": [
    "s.evaluate_model(best)"
   ]
  },
  {
   "cell_type": "markdown",
   "id": "3ff67744-6256-4891-bef6-79883f8aa5be",
   "metadata": {},
   "source": [
    "## Create Model"
   ]
  },
  {
   "cell_type": "code",
   "execution_count": 45,
   "id": "3219a65d-f2bd-4bf4-aa9d-5ad99e19c9ce",
   "metadata": {},
   "outputs": [
    {
     "data": {
      "text/html": [],
      "text/plain": [
       "<IPython.core.display.HTML object>"
      ]
     },
     "metadata": {},
     "output_type": "display_data"
    },
    {
     "data": {
      "text/html": [
       "<style type=\"text/css\">\n",
       "#T_fee93_row10_col0, #T_fee93_row10_col1, #T_fee93_row10_col2, #T_fee93_row10_col3, #T_fee93_row10_col4, #T_fee93_row10_col5 {\n",
       "  background: yellow;\n",
       "}\n",
       "</style>\n",
       "<table id=\"T_fee93\">\n",
       "  <thead>\n",
       "    <tr>\n",
       "      <th class=\"blank level0\" >&nbsp;</th>\n",
       "      <th id=\"T_fee93_level0_col0\" class=\"col_heading level0 col0\" >MAE</th>\n",
       "      <th id=\"T_fee93_level0_col1\" class=\"col_heading level0 col1\" >MSE</th>\n",
       "      <th id=\"T_fee93_level0_col2\" class=\"col_heading level0 col2\" >RMSE</th>\n",
       "      <th id=\"T_fee93_level0_col3\" class=\"col_heading level0 col3\" >R2</th>\n",
       "      <th id=\"T_fee93_level0_col4\" class=\"col_heading level0 col4\" >RMSLE</th>\n",
       "      <th id=\"T_fee93_level0_col5\" class=\"col_heading level0 col5\" >MAPE</th>\n",
       "    </tr>\n",
       "    <tr>\n",
       "      <th class=\"index_name level0\" >Fold</th>\n",
       "      <th class=\"blank col0\" >&nbsp;</th>\n",
       "      <th class=\"blank col1\" >&nbsp;</th>\n",
       "      <th class=\"blank col2\" >&nbsp;</th>\n",
       "      <th class=\"blank col3\" >&nbsp;</th>\n",
       "      <th class=\"blank col4\" >&nbsp;</th>\n",
       "      <th class=\"blank col5\" >&nbsp;</th>\n",
       "    </tr>\n",
       "  </thead>\n",
       "  <tbody>\n",
       "    <tr>\n",
       "      <th id=\"T_fee93_level0_row0\" class=\"row_heading level0 row0\" >0</th>\n",
       "      <td id=\"T_fee93_row0_col0\" class=\"data row0 col0\" >0.0611</td>\n",
       "      <td id=\"T_fee93_row0_col1\" class=\"data row0 col1\" >0.0088</td>\n",
       "      <td id=\"T_fee93_row0_col2\" class=\"data row0 col2\" >0.0937</td>\n",
       "      <td id=\"T_fee93_row0_col3\" class=\"data row0 col3\" >1.0000</td>\n",
       "      <td id=\"T_fee93_row0_col4\" class=\"data row0 col4\" >0.0027</td>\n",
       "      <td id=\"T_fee93_row0_col5\" class=\"data row0 col5\" >0.0014</td>\n",
       "    </tr>\n",
       "    <tr>\n",
       "      <th id=\"T_fee93_level0_row1\" class=\"row_heading level0 row1\" >1</th>\n",
       "      <td id=\"T_fee93_row1_col0\" class=\"data row1 col0\" >0.0715</td>\n",
       "      <td id=\"T_fee93_row1_col1\" class=\"data row1 col1\" >0.0076</td>\n",
       "      <td id=\"T_fee93_row1_col2\" class=\"data row1 col2\" >0.0869</td>\n",
       "      <td id=\"T_fee93_row1_col3\" class=\"data row1 col3\" >1.0000</td>\n",
       "      <td id=\"T_fee93_row1_col4\" class=\"data row1 col4\" >0.0048</td>\n",
       "      <td id=\"T_fee93_row1_col5\" class=\"data row1 col5\" >0.0031</td>\n",
       "    </tr>\n",
       "    <tr>\n",
       "      <th id=\"T_fee93_level0_row2\" class=\"row_heading level0 row2\" >2</th>\n",
       "      <td id=\"T_fee93_row2_col0\" class=\"data row2 col0\" >0.0618</td>\n",
       "      <td id=\"T_fee93_row2_col1\" class=\"data row2 col1\" >0.0059</td>\n",
       "      <td id=\"T_fee93_row2_col2\" class=\"data row2 col2\" >0.0766</td>\n",
       "      <td id=\"T_fee93_row2_col3\" class=\"data row2 col3\" >1.0000</td>\n",
       "      <td id=\"T_fee93_row2_col4\" class=\"data row2 col4\" >0.0036</td>\n",
       "      <td id=\"T_fee93_row2_col5\" class=\"data row2 col5\" >0.0024</td>\n",
       "    </tr>\n",
       "    <tr>\n",
       "      <th id=\"T_fee93_level0_row3\" class=\"row_heading level0 row3\" >3</th>\n",
       "      <td id=\"T_fee93_row3_col0\" class=\"data row3 col0\" >0.0426</td>\n",
       "      <td id=\"T_fee93_row3_col1\" class=\"data row3 col1\" >0.0026</td>\n",
       "      <td id=\"T_fee93_row3_col2\" class=\"data row3 col2\" >0.0505</td>\n",
       "      <td id=\"T_fee93_row3_col3\" class=\"data row3 col3\" >1.0000</td>\n",
       "      <td id=\"T_fee93_row3_col4\" class=\"data row3 col4\" >0.0033</td>\n",
       "      <td id=\"T_fee93_row3_col5\" class=\"data row3 col5\" >0.0014</td>\n",
       "    </tr>\n",
       "    <tr>\n",
       "      <th id=\"T_fee93_level0_row4\" class=\"row_heading level0 row4\" >4</th>\n",
       "      <td id=\"T_fee93_row4_col0\" class=\"data row4 col0\" >0.2909</td>\n",
       "      <td id=\"T_fee93_row4_col1\" class=\"data row4 col1\" >0.4184</td>\n",
       "      <td id=\"T_fee93_row4_col2\" class=\"data row4 col2\" >0.6468</td>\n",
       "      <td id=\"T_fee93_row4_col3\" class=\"data row4 col3\" >1.0000</td>\n",
       "      <td id=\"T_fee93_row4_col4\" class=\"data row4 col4\" >0.0886</td>\n",
       "      <td id=\"T_fee93_row4_col5\" class=\"data row4 col5\" >0.0480</td>\n",
       "    </tr>\n",
       "    <tr>\n",
       "      <th id=\"T_fee93_level0_row5\" class=\"row_heading level0 row5\" >5</th>\n",
       "      <td id=\"T_fee93_row5_col0\" class=\"data row5 col0\" >0.0949</td>\n",
       "      <td id=\"T_fee93_row5_col1\" class=\"data row5 col1\" >0.0579</td>\n",
       "      <td id=\"T_fee93_row5_col2\" class=\"data row5 col2\" >0.2406</td>\n",
       "      <td id=\"T_fee93_row5_col3\" class=\"data row5 col3\" >1.0000</td>\n",
       "      <td id=\"T_fee93_row5_col4\" class=\"data row5 col4\" >0.0378</td>\n",
       "      <td id=\"T_fee93_row5_col5\" class=\"data row5 col5\" >0.0149</td>\n",
       "    </tr>\n",
       "    <tr>\n",
       "      <th id=\"T_fee93_level0_row6\" class=\"row_heading level0 row6\" >6</th>\n",
       "      <td id=\"T_fee93_row6_col0\" class=\"data row6 col0\" >0.0976</td>\n",
       "      <td id=\"T_fee93_row6_col1\" class=\"data row6 col1\" >0.0141</td>\n",
       "      <td id=\"T_fee93_row6_col2\" class=\"data row6 col2\" >0.1188</td>\n",
       "      <td id=\"T_fee93_row6_col3\" class=\"data row6 col3\" >1.0000</td>\n",
       "      <td id=\"T_fee93_row6_col4\" class=\"data row6 col4\" >0.0015</td>\n",
       "      <td id=\"T_fee93_row6_col5\" class=\"data row6 col5\" >0.0008</td>\n",
       "    </tr>\n",
       "    <tr>\n",
       "      <th id=\"T_fee93_level0_row7\" class=\"row_heading level0 row7\" >7</th>\n",
       "      <td id=\"T_fee93_row7_col0\" class=\"data row7 col0\" >0.1759</td>\n",
       "      <td id=\"T_fee93_row7_col1\" class=\"data row7 col1\" >0.2751</td>\n",
       "      <td id=\"T_fee93_row7_col2\" class=\"data row7 col2\" >0.5245</td>\n",
       "      <td id=\"T_fee93_row7_col3\" class=\"data row7 col3\" >1.0000</td>\n",
       "      <td id=\"T_fee93_row7_col4\" class=\"data row7 col4\" >0.2177</td>\n",
       "      <td id=\"T_fee93_row7_col5\" class=\"data row7 col5\" >0.6871</td>\n",
       "    </tr>\n",
       "    <tr>\n",
       "      <th id=\"T_fee93_level0_row8\" class=\"row_heading level0 row8\" >8</th>\n",
       "      <td id=\"T_fee93_row8_col0\" class=\"data row8 col0\" >0.1753</td>\n",
       "      <td id=\"T_fee93_row8_col1\" class=\"data row8 col1\" >0.1852</td>\n",
       "      <td id=\"T_fee93_row8_col2\" class=\"data row8 col2\" >0.4303</td>\n",
       "      <td id=\"T_fee93_row8_col3\" class=\"data row8 col3\" >1.0000</td>\n",
       "      <td id=\"T_fee93_row8_col4\" class=\"data row8 col4\" >0.0686</td>\n",
       "      <td id=\"T_fee93_row8_col5\" class=\"data row8 col5\" >0.1430</td>\n",
       "    </tr>\n",
       "    <tr>\n",
       "      <th id=\"T_fee93_level0_row9\" class=\"row_heading level0 row9\" >9</th>\n",
       "      <td id=\"T_fee93_row9_col0\" class=\"data row9 col0\" >0.0608</td>\n",
       "      <td id=\"T_fee93_row9_col1\" class=\"data row9 col1\" >0.0049</td>\n",
       "      <td id=\"T_fee93_row9_col2\" class=\"data row9 col2\" >0.0699</td>\n",
       "      <td id=\"T_fee93_row9_col3\" class=\"data row9 col3\" >1.0000</td>\n",
       "      <td id=\"T_fee93_row9_col4\" class=\"data row9 col4\" >0.0031</td>\n",
       "      <td id=\"T_fee93_row9_col5\" class=\"data row9 col5\" >0.0014</td>\n",
       "    </tr>\n",
       "    <tr>\n",
       "      <th id=\"T_fee93_level0_row10\" class=\"row_heading level0 row10\" >Mean</th>\n",
       "      <td id=\"T_fee93_row10_col0\" class=\"data row10 col0\" >0.1132</td>\n",
       "      <td id=\"T_fee93_row10_col1\" class=\"data row10 col1\" >0.0980</td>\n",
       "      <td id=\"T_fee93_row10_col2\" class=\"data row10 col2\" >0.2339</td>\n",
       "      <td id=\"T_fee93_row10_col3\" class=\"data row10 col3\" >1.0000</td>\n",
       "      <td id=\"T_fee93_row10_col4\" class=\"data row10 col4\" >0.0432</td>\n",
       "      <td id=\"T_fee93_row10_col5\" class=\"data row10 col5\" >0.0904</td>\n",
       "    </tr>\n",
       "    <tr>\n",
       "      <th id=\"T_fee93_level0_row11\" class=\"row_heading level0 row11\" >Std</th>\n",
       "      <td id=\"T_fee93_row11_col0\" class=\"data row11 col0\" >0.0740</td>\n",
       "      <td id=\"T_fee93_row11_col1\" class=\"data row11 col1\" >0.1388</td>\n",
       "      <td id=\"T_fee93_row11_col2\" class=\"data row11 col2\" >0.2082</td>\n",
       "      <td id=\"T_fee93_row11_col3\" class=\"data row11 col3\" >0.0000</td>\n",
       "      <td id=\"T_fee93_row11_col4\" class=\"data row11 col4\" >0.0654</td>\n",
       "      <td id=\"T_fee93_row11_col5\" class=\"data row11 col5\" >0.2034</td>\n",
       "    </tr>\n",
       "  </tbody>\n",
       "</table>\n"
      ],
      "text/plain": [
       "<pandas.io.formats.style.Styler at 0x2a310b0d3d0>"
      ]
     },
     "metadata": {},
     "output_type": "display_data"
    },
    {
     "data": {
      "text/html": [],
      "text/plain": [
       "<IPython.core.display.HTML object>"
      ]
     },
     "metadata": {},
     "output_type": "display_data"
    }
   ],
   "source": [
    "lr_mdl = s.create_model('lr')"
   ]
  },
  {
   "cell_type": "code",
   "execution_count": 46,
   "id": "7df0ea1b-9f7d-4646-90c0-142ea68f1f4b",
   "metadata": {},
   "outputs": [
    {
     "name": "stdout",
     "output_type": "stream",
     "text": [
      "LinearRegression(n_jobs=-1)\n"
     ]
    }
   ],
   "source": [
    "print(lr_mdl)"
   ]
  },
  {
   "cell_type": "code",
   "execution_count": 12,
   "id": "97613cd4-cf59-4e61-8b93-77e3a1183fef",
   "metadata": {},
   "outputs": [
    {
     "data": {
      "application/vnd.jupyter.widget-view+json": {
       "model_id": "2315449d2e734ac18d3f8901db951327",
       "version_major": 2,
       "version_minor": 0
      },
      "text/plain": [
       "interactive(children=(ToggleButtons(description='Plot Type:', icons=('',), options=(('Pipeline Plot', 'pipelin…"
      ]
     },
     "metadata": {},
     "output_type": "display_data"
    }
   ],
   "source": [
    "# or\n",
    "s.evaluate_model(lr_mdl)"
   ]
  },
  {
   "cell_type": "code",
   "execution_count": 13,
   "id": "7bf3bd81-4ba8-4c70-8678-47cf4d5da668",
   "metadata": {},
   "outputs": [
    {
     "data": {
      "text/plain": [
       "production_value\n",
       "1277.500000    4\n",
       "2689.430420    3\n",
       "29.860701      2\n",
       "97.323601      2\n",
       "1382.864746    1\n",
       "              ..\n",
       "789.099976     1\n",
       "47.200001      1\n",
       "10.900000      1\n",
       "97.765999      1\n",
       "712.681396     1\n",
       "Name: count, Length: 162, dtype: int64"
      ]
     },
     "execution_count": 13,
     "metadata": {},
     "output_type": "execute_result"
    }
   ],
   "source": [
    "s.y_transformed.value_counts()"
   ]
  },
  {
   "cell_type": "markdown",
   "id": "dad4b082-fe8c-49f1-863d-c37bd2036c8f",
   "metadata": {},
   "source": [
    "## Tune best model( lr)"
   ]
  },
  {
   "cell_type": "code",
   "execution_count": 47,
   "id": "5645e679-3bbd-48da-a33b-37e0472476f2",
   "metadata": {},
   "outputs": [
    {
     "data": {
      "text/html": [],
      "text/plain": [
       "<IPython.core.display.HTML object>"
      ]
     },
     "metadata": {},
     "output_type": "display_data"
    },
    {
     "data": {
      "text/html": [
       "<style type=\"text/css\">\n",
       "#T_d2305_row10_col0, #T_d2305_row10_col1, #T_d2305_row10_col2, #T_d2305_row10_col3, #T_d2305_row10_col4, #T_d2305_row10_col5 {\n",
       "  background: yellow;\n",
       "}\n",
       "</style>\n",
       "<table id=\"T_d2305\">\n",
       "  <thead>\n",
       "    <tr>\n",
       "      <th class=\"blank level0\" >&nbsp;</th>\n",
       "      <th id=\"T_d2305_level0_col0\" class=\"col_heading level0 col0\" >MAE</th>\n",
       "      <th id=\"T_d2305_level0_col1\" class=\"col_heading level0 col1\" >MSE</th>\n",
       "      <th id=\"T_d2305_level0_col2\" class=\"col_heading level0 col2\" >RMSE</th>\n",
       "      <th id=\"T_d2305_level0_col3\" class=\"col_heading level0 col3\" >R2</th>\n",
       "      <th id=\"T_d2305_level0_col4\" class=\"col_heading level0 col4\" >RMSLE</th>\n",
       "      <th id=\"T_d2305_level0_col5\" class=\"col_heading level0 col5\" >MAPE</th>\n",
       "    </tr>\n",
       "    <tr>\n",
       "      <th class=\"index_name level0\" >Fold</th>\n",
       "      <th class=\"blank col0\" >&nbsp;</th>\n",
       "      <th class=\"blank col1\" >&nbsp;</th>\n",
       "      <th class=\"blank col2\" >&nbsp;</th>\n",
       "      <th class=\"blank col3\" >&nbsp;</th>\n",
       "      <th class=\"blank col4\" >&nbsp;</th>\n",
       "      <th class=\"blank col5\" >&nbsp;</th>\n",
       "    </tr>\n",
       "  </thead>\n",
       "  <tbody>\n",
       "    <tr>\n",
       "      <th id=\"T_d2305_level0_row0\" class=\"row_heading level0 row0\" >0</th>\n",
       "      <td id=\"T_d2305_row0_col0\" class=\"data row0 col0\" >0.0611</td>\n",
       "      <td id=\"T_d2305_row0_col1\" class=\"data row0 col1\" >0.0088</td>\n",
       "      <td id=\"T_d2305_row0_col2\" class=\"data row0 col2\" >0.0937</td>\n",
       "      <td id=\"T_d2305_row0_col3\" class=\"data row0 col3\" >1.0000</td>\n",
       "      <td id=\"T_d2305_row0_col4\" class=\"data row0 col4\" >0.0027</td>\n",
       "      <td id=\"T_d2305_row0_col5\" class=\"data row0 col5\" >0.0014</td>\n",
       "    </tr>\n",
       "    <tr>\n",
       "      <th id=\"T_d2305_level0_row1\" class=\"row_heading level0 row1\" >1</th>\n",
       "      <td id=\"T_d2305_row1_col0\" class=\"data row1 col0\" >0.0715</td>\n",
       "      <td id=\"T_d2305_row1_col1\" class=\"data row1 col1\" >0.0076</td>\n",
       "      <td id=\"T_d2305_row1_col2\" class=\"data row1 col2\" >0.0869</td>\n",
       "      <td id=\"T_d2305_row1_col3\" class=\"data row1 col3\" >1.0000</td>\n",
       "      <td id=\"T_d2305_row1_col4\" class=\"data row1 col4\" >0.0048</td>\n",
       "      <td id=\"T_d2305_row1_col5\" class=\"data row1 col5\" >0.0031</td>\n",
       "    </tr>\n",
       "    <tr>\n",
       "      <th id=\"T_d2305_level0_row2\" class=\"row_heading level0 row2\" >2</th>\n",
       "      <td id=\"T_d2305_row2_col0\" class=\"data row2 col0\" >0.0618</td>\n",
       "      <td id=\"T_d2305_row2_col1\" class=\"data row2 col1\" >0.0059</td>\n",
       "      <td id=\"T_d2305_row2_col2\" class=\"data row2 col2\" >0.0766</td>\n",
       "      <td id=\"T_d2305_row2_col3\" class=\"data row2 col3\" >1.0000</td>\n",
       "      <td id=\"T_d2305_row2_col4\" class=\"data row2 col4\" >0.0036</td>\n",
       "      <td id=\"T_d2305_row2_col5\" class=\"data row2 col5\" >0.0024</td>\n",
       "    </tr>\n",
       "    <tr>\n",
       "      <th id=\"T_d2305_level0_row3\" class=\"row_heading level0 row3\" >3</th>\n",
       "      <td id=\"T_d2305_row3_col0\" class=\"data row3 col0\" >0.0426</td>\n",
       "      <td id=\"T_d2305_row3_col1\" class=\"data row3 col1\" >0.0026</td>\n",
       "      <td id=\"T_d2305_row3_col2\" class=\"data row3 col2\" >0.0505</td>\n",
       "      <td id=\"T_d2305_row3_col3\" class=\"data row3 col3\" >1.0000</td>\n",
       "      <td id=\"T_d2305_row3_col4\" class=\"data row3 col4\" >0.0033</td>\n",
       "      <td id=\"T_d2305_row3_col5\" class=\"data row3 col5\" >0.0014</td>\n",
       "    </tr>\n",
       "    <tr>\n",
       "      <th id=\"T_d2305_level0_row4\" class=\"row_heading level0 row4\" >4</th>\n",
       "      <td id=\"T_d2305_row4_col0\" class=\"data row4 col0\" >0.2909</td>\n",
       "      <td id=\"T_d2305_row4_col1\" class=\"data row4 col1\" >0.4184</td>\n",
       "      <td id=\"T_d2305_row4_col2\" class=\"data row4 col2\" >0.6468</td>\n",
       "      <td id=\"T_d2305_row4_col3\" class=\"data row4 col3\" >1.0000</td>\n",
       "      <td id=\"T_d2305_row4_col4\" class=\"data row4 col4\" >0.0886</td>\n",
       "      <td id=\"T_d2305_row4_col5\" class=\"data row4 col5\" >0.0480</td>\n",
       "    </tr>\n",
       "    <tr>\n",
       "      <th id=\"T_d2305_level0_row5\" class=\"row_heading level0 row5\" >5</th>\n",
       "      <td id=\"T_d2305_row5_col0\" class=\"data row5 col0\" >0.0949</td>\n",
       "      <td id=\"T_d2305_row5_col1\" class=\"data row5 col1\" >0.0579</td>\n",
       "      <td id=\"T_d2305_row5_col2\" class=\"data row5 col2\" >0.2406</td>\n",
       "      <td id=\"T_d2305_row5_col3\" class=\"data row5 col3\" >1.0000</td>\n",
       "      <td id=\"T_d2305_row5_col4\" class=\"data row5 col4\" >0.0378</td>\n",
       "      <td id=\"T_d2305_row5_col5\" class=\"data row5 col5\" >0.0149</td>\n",
       "    </tr>\n",
       "    <tr>\n",
       "      <th id=\"T_d2305_level0_row6\" class=\"row_heading level0 row6\" >6</th>\n",
       "      <td id=\"T_d2305_row6_col0\" class=\"data row6 col0\" >0.0976</td>\n",
       "      <td id=\"T_d2305_row6_col1\" class=\"data row6 col1\" >0.0141</td>\n",
       "      <td id=\"T_d2305_row6_col2\" class=\"data row6 col2\" >0.1188</td>\n",
       "      <td id=\"T_d2305_row6_col3\" class=\"data row6 col3\" >1.0000</td>\n",
       "      <td id=\"T_d2305_row6_col4\" class=\"data row6 col4\" >0.0015</td>\n",
       "      <td id=\"T_d2305_row6_col5\" class=\"data row6 col5\" >0.0008</td>\n",
       "    </tr>\n",
       "    <tr>\n",
       "      <th id=\"T_d2305_level0_row7\" class=\"row_heading level0 row7\" >7</th>\n",
       "      <td id=\"T_d2305_row7_col0\" class=\"data row7 col0\" >0.1759</td>\n",
       "      <td id=\"T_d2305_row7_col1\" class=\"data row7 col1\" >0.2751</td>\n",
       "      <td id=\"T_d2305_row7_col2\" class=\"data row7 col2\" >0.5245</td>\n",
       "      <td id=\"T_d2305_row7_col3\" class=\"data row7 col3\" >1.0000</td>\n",
       "      <td id=\"T_d2305_row7_col4\" class=\"data row7 col4\" >0.2177</td>\n",
       "      <td id=\"T_d2305_row7_col5\" class=\"data row7 col5\" >0.6871</td>\n",
       "    </tr>\n",
       "    <tr>\n",
       "      <th id=\"T_d2305_level0_row8\" class=\"row_heading level0 row8\" >8</th>\n",
       "      <td id=\"T_d2305_row8_col0\" class=\"data row8 col0\" >0.1753</td>\n",
       "      <td id=\"T_d2305_row8_col1\" class=\"data row8 col1\" >0.1852</td>\n",
       "      <td id=\"T_d2305_row8_col2\" class=\"data row8 col2\" >0.4303</td>\n",
       "      <td id=\"T_d2305_row8_col3\" class=\"data row8 col3\" >1.0000</td>\n",
       "      <td id=\"T_d2305_row8_col4\" class=\"data row8 col4\" >0.0686</td>\n",
       "      <td id=\"T_d2305_row8_col5\" class=\"data row8 col5\" >0.1430</td>\n",
       "    </tr>\n",
       "    <tr>\n",
       "      <th id=\"T_d2305_level0_row9\" class=\"row_heading level0 row9\" >9</th>\n",
       "      <td id=\"T_d2305_row9_col0\" class=\"data row9 col0\" >0.0608</td>\n",
       "      <td id=\"T_d2305_row9_col1\" class=\"data row9 col1\" >0.0049</td>\n",
       "      <td id=\"T_d2305_row9_col2\" class=\"data row9 col2\" >0.0699</td>\n",
       "      <td id=\"T_d2305_row9_col3\" class=\"data row9 col3\" >1.0000</td>\n",
       "      <td id=\"T_d2305_row9_col4\" class=\"data row9 col4\" >0.0031</td>\n",
       "      <td id=\"T_d2305_row9_col5\" class=\"data row9 col5\" >0.0014</td>\n",
       "    </tr>\n",
       "    <tr>\n",
       "      <th id=\"T_d2305_level0_row10\" class=\"row_heading level0 row10\" >Mean</th>\n",
       "      <td id=\"T_d2305_row10_col0\" class=\"data row10 col0\" >0.1132</td>\n",
       "      <td id=\"T_d2305_row10_col1\" class=\"data row10 col1\" >0.0980</td>\n",
       "      <td id=\"T_d2305_row10_col2\" class=\"data row10 col2\" >0.2339</td>\n",
       "      <td id=\"T_d2305_row10_col3\" class=\"data row10 col3\" >1.0000</td>\n",
       "      <td id=\"T_d2305_row10_col4\" class=\"data row10 col4\" >0.0432</td>\n",
       "      <td id=\"T_d2305_row10_col5\" class=\"data row10 col5\" >0.0904</td>\n",
       "    </tr>\n",
       "    <tr>\n",
       "      <th id=\"T_d2305_level0_row11\" class=\"row_heading level0 row11\" >Std</th>\n",
       "      <td id=\"T_d2305_row11_col0\" class=\"data row11 col0\" >0.0740</td>\n",
       "      <td id=\"T_d2305_row11_col1\" class=\"data row11 col1\" >0.1388</td>\n",
       "      <td id=\"T_d2305_row11_col2\" class=\"data row11 col2\" >0.2082</td>\n",
       "      <td id=\"T_d2305_row11_col3\" class=\"data row11 col3\" >0.0000</td>\n",
       "      <td id=\"T_d2305_row11_col4\" class=\"data row11 col4\" >0.0654</td>\n",
       "      <td id=\"T_d2305_row11_col5\" class=\"data row11 col5\" >0.2034</td>\n",
       "    </tr>\n",
       "  </tbody>\n",
       "</table>\n"
      ],
      "text/plain": [
       "<pandas.io.formats.style.Styler at 0x2a31ecb5950>"
      ]
     },
     "metadata": {},
     "output_type": "display_data"
    },
    {
     "data": {
      "text/html": [],
      "text/plain": [
       "<IPython.core.display.HTML object>"
      ]
     },
     "metadata": {},
     "output_type": "display_data"
    },
    {
     "name": "stdout",
     "output_type": "stream",
     "text": [
      "Fitting 10 folds for each of 2 candidates, totalling 20 fits\n",
      "Original model was better than the tuned model, hence it will be returned. NOTE: The display metrics are for the tuned model (not the original one).\n"
     ]
    }
   ],
   "source": [
    "tuned_lr_mdl = s.tune_model(lr_mdl)"
   ]
  },
  {
   "cell_type": "code",
   "execution_count": 48,
   "id": "a3bd28c3-d107-4de2-9d3c-e2335c30a6c1",
   "metadata": {},
   "outputs": [
    {
     "name": "stdout",
     "output_type": "stream",
     "text": [
      "LinearRegression(n_jobs=-1)\n"
     ]
    }
   ],
   "source": [
    "print(tuned_lr_mdl)"
   ]
  },
  {
   "cell_type": "markdown",
   "id": "2e824fc1-9133-4467-ba55-e0bb132fb486",
   "metadata": {},
   "source": [
    "## Predictions"
   ]
  },
  {
   "cell_type": "markdown",
   "id": "b471e7bc-8067-4d7d-a823-9f519fa6a2a1",
   "metadata": {},
   "source": [
    "This function predicts prediction_label using the trained model. When data is None, it predicts label and score on the test set (created during the setup function)."
   ]
  },
  {
   "cell_type": "code",
   "execution_count": 49,
   "id": "064bb70d-9e6e-4b1b-b307-1c65e7df1be4",
   "metadata": {},
   "outputs": [
    {
     "data": {
      "text/html": [
       "<style type=\"text/css\">\n",
       "</style>\n",
       "<table id=\"T_0b4b1\">\n",
       "  <thead>\n",
       "    <tr>\n",
       "      <th class=\"blank level0\" >&nbsp;</th>\n",
       "      <th id=\"T_0b4b1_level0_col0\" class=\"col_heading level0 col0\" >Model</th>\n",
       "      <th id=\"T_0b4b1_level0_col1\" class=\"col_heading level0 col1\" >MAE</th>\n",
       "      <th id=\"T_0b4b1_level0_col2\" class=\"col_heading level0 col2\" >MSE</th>\n",
       "      <th id=\"T_0b4b1_level0_col3\" class=\"col_heading level0 col3\" >RMSE</th>\n",
       "      <th id=\"T_0b4b1_level0_col4\" class=\"col_heading level0 col4\" >R2</th>\n",
       "      <th id=\"T_0b4b1_level0_col5\" class=\"col_heading level0 col5\" >RMSLE</th>\n",
       "      <th id=\"T_0b4b1_level0_col6\" class=\"col_heading level0 col6\" >MAPE</th>\n",
       "    </tr>\n",
       "  </thead>\n",
       "  <tbody>\n",
       "    <tr>\n",
       "      <th id=\"T_0b4b1_level0_row0\" class=\"row_heading level0 row0\" >0</th>\n",
       "      <td id=\"T_0b4b1_row0_col0\" class=\"data row0 col0\" >Linear Regression</td>\n",
       "      <td id=\"T_0b4b1_row0_col1\" class=\"data row0 col1\" >0.0564</td>\n",
       "      <td id=\"T_0b4b1_row0_col2\" class=\"data row0 col2\" >0.0061</td>\n",
       "      <td id=\"T_0b4b1_row0_col3\" class=\"data row0 col3\" >0.0780</td>\n",
       "      <td id=\"T_0b4b1_row0_col4\" class=\"data row0 col4\" >1.0000</td>\n",
       "      <td id=\"T_0b4b1_row0_col5\" class=\"data row0 col5\" >0.0199</td>\n",
       "      <td id=\"T_0b4b1_row0_col6\" class=\"data row0 col6\" >0.0106</td>\n",
       "    </tr>\n",
       "  </tbody>\n",
       "</table>\n"
      ],
      "text/plain": [
       "<pandas.io.formats.style.Styler at 0x2a321dfeb50>"
      ]
     },
     "metadata": {},
     "output_type": "display_data"
    }
   ],
   "source": [
    "pred= s.predict_model(tuned_lr_mdl)\n"
   ]
  },
  {
   "cell_type": "markdown",
   "id": "99db2baf-990e-468c-abe5-431cd22a543c",
   "metadata": {},
   "source": [
    "The evaluation metrics are calculated on the test set. The second output is the pd.DataFrame with predictions on the test set (see the last two columns). To generate labels on the unseen (new) dataset, simply pass the dataset in the predict_model function."
   ]
  },
  {
   "cell_type": "code",
   "execution_count": 50,
   "id": "c9dea50e-88ca-493d-8009-f1c448b4799b",
   "metadata": {},
   "outputs": [
    {
     "data": {
      "text/html": [
       "<style type=\"text/css\">\n",
       "</style>\n",
       "<table id=\"T_08ac7\">\n",
       "  <thead>\n",
       "    <tr>\n",
       "      <th class=\"blank level0\" >&nbsp;</th>\n",
       "      <th id=\"T_08ac7_level0_col0\" class=\"col_heading level0 col0\" >Model</th>\n",
       "      <th id=\"T_08ac7_level0_col1\" class=\"col_heading level0 col1\" >MAE</th>\n",
       "      <th id=\"T_08ac7_level0_col2\" class=\"col_heading level0 col2\" >MSE</th>\n",
       "      <th id=\"T_08ac7_level0_col3\" class=\"col_heading level0 col3\" >RMSE</th>\n",
       "      <th id=\"T_08ac7_level0_col4\" class=\"col_heading level0 col4\" >R2</th>\n",
       "      <th id=\"T_08ac7_level0_col5\" class=\"col_heading level0 col5\" >RMSLE</th>\n",
       "      <th id=\"T_08ac7_level0_col6\" class=\"col_heading level0 col6\" >MAPE</th>\n",
       "    </tr>\n",
       "  </thead>\n",
       "  <tbody>\n",
       "    <tr>\n",
       "      <th id=\"T_08ac7_level0_row0\" class=\"row_heading level0 row0\" >0</th>\n",
       "      <td id=\"T_08ac7_row0_col0\" class=\"data row0 col0\" >Linear Regression</td>\n",
       "      <td id=\"T_08ac7_row0_col1\" class=\"data row0 col1\" >0.0564</td>\n",
       "      <td id=\"T_08ac7_row0_col2\" class=\"data row0 col2\" >0.0061</td>\n",
       "      <td id=\"T_08ac7_row0_col3\" class=\"data row0 col3\" >0.0780</td>\n",
       "      <td id=\"T_08ac7_row0_col4\" class=\"data row0 col4\" >1.0000</td>\n",
       "      <td id=\"T_08ac7_row0_col5\" class=\"data row0 col5\" >0.0199</td>\n",
       "      <td id=\"T_08ac7_row0_col6\" class=\"data row0 col6\" >0.0106</td>\n",
       "    </tr>\n",
       "  </tbody>\n",
       "</table>\n"
      ],
      "text/plain": [
       "<pandas.io.formats.style.Styler at 0x2a31d2b6b50>"
      ]
     },
     "metadata": {},
     "output_type": "display_data"
    },
    {
     "data": {
      "text/html": [
       "<div>\n",
       "<style scoped>\n",
       "    .dataframe tbody tr th:only-of-type {\n",
       "        vertical-align: middle;\n",
       "    }\n",
       "\n",
       "    .dataframe tbody tr th {\n",
       "        vertical-align: top;\n",
       "    }\n",
       "\n",
       "    .dataframe thead th {\n",
       "        text-align: right;\n",
       "    }\n",
       "</style>\n",
       "<table border=\"1\" class=\"dataframe\">\n",
       "  <thead>\n",
       "    <tr style=\"text-align: right;\">\n",
       "      <th></th>\n",
       "      <th>year</th>\n",
       "      <th>parent_entity</th>\n",
       "      <th>parent_type</th>\n",
       "      <th>reporting_entity</th>\n",
       "      <th>commodity</th>\n",
       "      <th>production_unit</th>\n",
       "      <th>product_emissions_MtCO2</th>\n",
       "      <th>flaring_emissions_MtCO2</th>\n",
       "      <th>venting_emissions_MtCO2</th>\n",
       "      <th>own_fuel_use_emissions_MtCO2</th>\n",
       "      <th>fugitive_methane_emissions_MtCO2e</th>\n",
       "      <th>fugitive_methane_emissions_MtCH4</th>\n",
       "      <th>total_operational_emissions_MtCO2e</th>\n",
       "      <th>total_emissions_MtCO2e</th>\n",
       "      <th>emissions_category</th>\n",
       "      <th>production_value</th>\n",
       "      <th>prediction_label</th>\n",
       "    </tr>\n",
       "  </thead>\n",
       "  <tbody>\n",
       "    <tr>\n",
       "      <th>138</th>\n",
       "      <td>1992</td>\n",
       "      <td>Abu Dhabi National Oil Company</td>\n",
       "      <td>State-owned Entity</td>\n",
       "      <td>Abu Dhabi National Oil Company</td>\n",
       "      <td>Oil &amp; NGL</td>\n",
       "      <td>Million bbl/yr</td>\n",
       "      <td>249.710800</td>\n",
       "      <td>3.9815</td>\n",
       "      <td>0.9570</td>\n",
       "      <td>0.0</td>\n",
       "      <td>13.4490</td>\n",
       "      <td>0.4803</td>\n",
       "      <td>18.387600</td>\n",
       "      <td>268.098389</td>\n",
       "      <td>High</td>\n",
       "      <td>672.299988</td>\n",
       "      <td>672.352568</td>\n",
       "    </tr>\n",
       "    <tr>\n",
       "      <th>30</th>\n",
       "      <td>1884</td>\n",
       "      <td>Adaro Energy</td>\n",
       "      <td>Investor-owned Company</td>\n",
       "      <td>Adaro Energy</td>\n",
       "      <td>Sub-Bituminous Coal</td>\n",
       "      <td>Million tonnes/yr</td>\n",
       "      <td>2.539800</td>\n",
       "      <td>0.0000</td>\n",
       "      <td>0.0000</td>\n",
       "      <td>0.0</td>\n",
       "      <td>0.2869</td>\n",
       "      <td>0.0102</td>\n",
       "      <td>0.286900</td>\n",
       "      <td>2.826700</td>\n",
       "      <td>Low</td>\n",
       "      <td>1.400000</td>\n",
       "      <td>1.511887</td>\n",
       "    </tr>\n",
       "    <tr>\n",
       "      <th>119</th>\n",
       "      <td>1973</td>\n",
       "      <td>Abu Dhabi National Oil Company</td>\n",
       "      <td>State-owned Entity</td>\n",
       "      <td>Abu Dhabi</td>\n",
       "      <td>Oil &amp; NGL</td>\n",
       "      <td>Million bbl/yr</td>\n",
       "      <td>43.721699</td>\n",
       "      <td>0.6971</td>\n",
       "      <td>0.1676</td>\n",
       "      <td>0.0</td>\n",
       "      <td>2.3548</td>\n",
       "      <td>0.0841</td>\n",
       "      <td>3.219500</td>\n",
       "      <td>46.941101</td>\n",
       "      <td>Low</td>\n",
       "      <td>117.712502</td>\n",
       "      <td>117.573831</td>\n",
       "    </tr>\n",
       "    <tr>\n",
       "      <th>29</th>\n",
       "      <td>1883</td>\n",
       "      <td>Adaro Energy</td>\n",
       "      <td>Investor-owned Company</td>\n",
       "      <td>Adaro Energy</td>\n",
       "      <td>Sub-Bituminous Coal</td>\n",
       "      <td>Million tonnes/yr</td>\n",
       "      <td>1.814100</td>\n",
       "      <td>0.0000</td>\n",
       "      <td>0.0000</td>\n",
       "      <td>0.0</td>\n",
       "      <td>0.2049</td>\n",
       "      <td>0.0073</td>\n",
       "      <td>0.204900</td>\n",
       "      <td>2.019100</td>\n",
       "      <td>Low</td>\n",
       "      <td>1.000000</td>\n",
       "      <td>1.214529</td>\n",
       "    </tr>\n",
       "    <tr>\n",
       "      <th>143</th>\n",
       "      <td>1997</td>\n",
       "      <td>Abu Dhabi National Oil Company</td>\n",
       "      <td>State-owned Entity</td>\n",
       "      <td>Abu Dhabi National Oil Company</td>\n",
       "      <td>Oil &amp; NGL</td>\n",
       "      <td>Million bbl/yr</td>\n",
       "      <td>263.007904</td>\n",
       "      <td>4.1936</td>\n",
       "      <td>1.0080</td>\n",
       "      <td>0.0</td>\n",
       "      <td>14.1652</td>\n",
       "      <td>0.5059</td>\n",
       "      <td>19.366699</td>\n",
       "      <td>282.374603</td>\n",
       "      <td>High</td>\n",
       "      <td>708.099976</td>\n",
       "      <td>708.068473</td>\n",
       "    </tr>\n",
       "  </tbody>\n",
       "</table>\n",
       "</div>"
      ],
      "text/plain": [
       "     year                   parent_entity             parent_type  \\\n",
       "138  1992  Abu Dhabi National Oil Company      State-owned Entity   \n",
       "30   1884                    Adaro Energy  Investor-owned Company   \n",
       "119  1973  Abu Dhabi National Oil Company      State-owned Entity   \n",
       "29   1883                    Adaro Energy  Investor-owned Company   \n",
       "143  1997  Abu Dhabi National Oil Company      State-owned Entity   \n",
       "\n",
       "                   reporting_entity            commodity    production_unit  \\\n",
       "138  Abu Dhabi National Oil Company            Oil & NGL     Million bbl/yr   \n",
       "30                     Adaro Energy  Sub-Bituminous Coal  Million tonnes/yr   \n",
       "119                       Abu Dhabi            Oil & NGL     Million bbl/yr   \n",
       "29                     Adaro Energy  Sub-Bituminous Coal  Million tonnes/yr   \n",
       "143  Abu Dhabi National Oil Company            Oil & NGL     Million bbl/yr   \n",
       "\n",
       "     product_emissions_MtCO2  flaring_emissions_MtCO2  \\\n",
       "138               249.710800                   3.9815   \n",
       "30                  2.539800                   0.0000   \n",
       "119                43.721699                   0.6971   \n",
       "29                  1.814100                   0.0000   \n",
       "143               263.007904                   4.1936   \n",
       "\n",
       "     venting_emissions_MtCO2  own_fuel_use_emissions_MtCO2  \\\n",
       "138                   0.9570                           0.0   \n",
       "30                    0.0000                           0.0   \n",
       "119                   0.1676                           0.0   \n",
       "29                    0.0000                           0.0   \n",
       "143                   1.0080                           0.0   \n",
       "\n",
       "     fugitive_methane_emissions_MtCO2e  fugitive_methane_emissions_MtCH4  \\\n",
       "138                            13.4490                            0.4803   \n",
       "30                              0.2869                            0.0102   \n",
       "119                             2.3548                            0.0841   \n",
       "29                              0.2049                            0.0073   \n",
       "143                            14.1652                            0.5059   \n",
       "\n",
       "     total_operational_emissions_MtCO2e  total_emissions_MtCO2e  \\\n",
       "138                           18.387600              268.098389   \n",
       "30                             0.286900                2.826700   \n",
       "119                            3.219500               46.941101   \n",
       "29                             0.204900                2.019100   \n",
       "143                           19.366699              282.374603   \n",
       "\n",
       "    emissions_category  production_value  prediction_label  \n",
       "138               High        672.299988        672.352568  \n",
       "30                 Low          1.400000          1.511887  \n",
       "119                Low        117.712502        117.573831  \n",
       "29                 Low          1.000000          1.214529  \n",
       "143               High        708.099976        708.068473  "
      ]
     },
     "execution_count": 50,
     "metadata": {},
     "output_type": "execute_result"
    }
   ],
   "source": [
    "predictions = s.predict_model(tuned_lr_mdl)\n",
    "predictions.head()"
   ]
  },
  {
   "cell_type": "markdown",
   "id": "09706e3a-1ed1-4aad-a855-70483f4a7625",
   "metadata": {},
   "source": [
    "## Using plot_model function to generate plots individually.\n"
   ]
  },
  {
   "cell_type": "code",
   "execution_count": 51,
   "id": "9f5ab868-de87-4bcd-90e9-e8a571df87df",
   "metadata": {},
   "outputs": [
    {
     "data": {
      "text/html": [
       "<div>\n",
       "<style scoped>\n",
       "    .dataframe tbody tr th:only-of-type {\n",
       "        vertical-align: middle;\n",
       "    }\n",
       "\n",
       "    .dataframe tbody tr th {\n",
       "        vertical-align: top;\n",
       "    }\n",
       "\n",
       "    .dataframe thead th {\n",
       "        text-align: right;\n",
       "    }\n",
       "</style>\n",
       "<table border=\"1\" class=\"dataframe\">\n",
       "  <thead>\n",
       "    <tr style=\"text-align: right;\">\n",
       "      <th></th>\n",
       "      <th>plots</th>\n",
       "    </tr>\n",
       "  </thead>\n",
       "  <tbody>\n",
       "    <tr>\n",
       "      <th>pipeline</th>\n",
       "      <td>Pipeline Plot</td>\n",
       "    </tr>\n",
       "    <tr>\n",
       "      <th>parameter</th>\n",
       "      <td>Hyperparameters</td>\n",
       "    </tr>\n",
       "    <tr>\n",
       "      <th>residuals</th>\n",
       "      <td>Residuals</td>\n",
       "    </tr>\n",
       "    <tr>\n",
       "      <th>error</th>\n",
       "      <td>Prediction Error</td>\n",
       "    </tr>\n",
       "    <tr>\n",
       "      <th>cooks</th>\n",
       "      <td>Cooks Distance</td>\n",
       "    </tr>\n",
       "    <tr>\n",
       "      <th>rfe</th>\n",
       "      <td>Feature Selection</td>\n",
       "    </tr>\n",
       "    <tr>\n",
       "      <th>learning</th>\n",
       "      <td>Learning Curve</td>\n",
       "    </tr>\n",
       "    <tr>\n",
       "      <th>manifold</th>\n",
       "      <td>Manifold Learning</td>\n",
       "    </tr>\n",
       "    <tr>\n",
       "      <th>vc</th>\n",
       "      <td>Validation Curve</td>\n",
       "    </tr>\n",
       "    <tr>\n",
       "      <th>feature</th>\n",
       "      <td>Feature Importance</td>\n",
       "    </tr>\n",
       "    <tr>\n",
       "      <th>feature_all</th>\n",
       "      <td>Feature Importance (All)</td>\n",
       "    </tr>\n",
       "    <tr>\n",
       "      <th>tree</th>\n",
       "      <td>Decision Tree</td>\n",
       "    </tr>\n",
       "    <tr>\n",
       "      <th>residuals_interactive</th>\n",
       "      <td>Interactive Residuals</td>\n",
       "    </tr>\n",
       "  </tbody>\n",
       "</table>\n",
       "</div>"
      ],
      "text/plain": [
       "                                          plots\n",
       "pipeline                          Pipeline Plot\n",
       "parameter                       Hyperparameters\n",
       "residuals                             Residuals\n",
       "error                          Prediction Error\n",
       "cooks                            Cooks Distance\n",
       "rfe                           Feature Selection\n",
       "learning                         Learning Curve\n",
       "manifold                      Manifold Learning\n",
       "vc                             Validation Curve\n",
       "feature                      Feature Importance\n",
       "feature_all            Feature Importance (All)\n",
       "tree                              Decision Tree\n",
       "residuals_interactive     Interactive Residuals"
      ]
     },
     "execution_count": 51,
     "metadata": {},
     "output_type": "execute_result"
    }
   ],
   "source": [
    "pd.DataFrame(s._available_plots, index=['plots']).T"
   ]
  },
  {
   "cell_type": "code",
   "execution_count": 52,
   "id": "78255e24-c5ce-4b45-9bd7-34e4c6e7f76e",
   "metadata": {},
   "outputs": [
    {
     "data": {
      "text/html": [],
      "text/plain": [
       "<IPython.core.display.HTML object>"
      ]
     },
     "metadata": {},
     "output_type": "display_data"
    },
    {
     "data": {
      "text/html": [
       "<div>\n",
       "<style scoped>\n",
       "    .dataframe tbody tr th:only-of-type {\n",
       "        vertical-align: middle;\n",
       "    }\n",
       "\n",
       "    .dataframe tbody tr th {\n",
       "        vertical-align: top;\n",
       "    }\n",
       "\n",
       "    .dataframe thead th {\n",
       "        text-align: right;\n",
       "    }\n",
       "</style>\n",
       "<table border=\"1\" class=\"dataframe\">\n",
       "  <thead>\n",
       "    <tr style=\"text-align: right;\">\n",
       "      <th></th>\n",
       "      <th>Parameters</th>\n",
       "    </tr>\n",
       "  </thead>\n",
       "  <tbody>\n",
       "    <tr>\n",
       "      <th>copy_X</th>\n",
       "      <td>True</td>\n",
       "    </tr>\n",
       "    <tr>\n",
       "      <th>fit_intercept</th>\n",
       "      <td>True</td>\n",
       "    </tr>\n",
       "    <tr>\n",
       "      <th>n_jobs</th>\n",
       "      <td>-1</td>\n",
       "    </tr>\n",
       "    <tr>\n",
       "      <th>positive</th>\n",
       "      <td>False</td>\n",
       "    </tr>\n",
       "  </tbody>\n",
       "</table>\n",
       "</div>"
      ],
      "text/plain": [
       "              Parameters\n",
       "copy_X              True\n",
       "fit_intercept       True\n",
       "n_jobs                -1\n",
       "positive           False"
      ]
     },
     "metadata": {},
     "output_type": "display_data"
    },
    {
     "name": "stdout",
     "output_type": "stream",
     "text": [
      "None\n"
     ]
    }
   ],
   "source": [
    "available_params = s.plot_model(tuned_lr_mdl, plot = 'parameter')\n",
    "print(available_params)"
   ]
  },
  {
   "cell_type": "code",
   "execution_count": 53,
   "id": "4407e744-c39b-48b4-afdb-b926c4782209",
   "metadata": {},
   "outputs": [
    {
     "data": {
      "text/html": [],
      "text/plain": [
       "<IPython.core.display.HTML object>"
      ]
     },
     "metadata": {},
     "output_type": "display_data"
    },
    {
     "data": {
      "image/png": "[encoded data removed]",
      "text/plain": [
       "<Figure size 800x550 with 2 Axes>"
      ]
     },
     "metadata": {},
     "output_type": "display_data"
    }
   ],
   "source": [
    "s.plot_model(tuned_lr_mdl, plot = 'residuals')\n"
   ]
  },
  {
   "cell_type": "code",
   "execution_count": 54,
   "id": "b916447f-3bcb-482c-806a-768ad1c6467b",
   "metadata": {},
   "outputs": [
    {
     "data": {
      "text/html": [],
      "text/plain": [
       "<IPython.core.display.HTML object>"
      ]
     },
     "metadata": {},
     "output_type": "display_data"
    },
    {
     "data": {
      "image/png": "[encoded data removed]",
      "text/plain": [
       "<Figure size 800x500 with 1 Axes>"
      ]
     },
     "metadata": {},
     "output_type": "display_data"
    }
   ],
   "source": [
    "s.plot_model(tuned_lr_mdl, plot = 'feature')"
   ]
  },
  {
   "cell_type": "code",
   "execution_count": 55,
   "id": "c55140e9-6f9e-4fb3-a2ac-8676d0e5e12f",
   "metadata": {},
   "outputs": [
    {
     "data": {
      "text/html": [],
      "text/plain": [
       "<IPython.core.display.HTML object>"
      ]
     },
     "metadata": {},
     "output_type": "display_data"
    },
    {
     "data": {
      "image/png": "[encoded data removed]",
      "text/plain": [
       "<Figure size 800x550 with 1 Axes>"
      ]
     },
     "metadata": {},
     "output_type": "display_data"
    }
   ],
   "source": [
    "s.plot_model(tuned_lr_mdl, plot = 'error')"
   ]
  },
  {
   "cell_type": "markdown",
   "id": "5cf927b8-413f-4901-b185-272123dd553f",
   "metadata": {},
   "source": [
    "## Metrices"
   ]
  },
  {
   "cell_type": "code",
   "execution_count": 56,
   "id": "249b3a55-69f8-46c6-93ae-7bce712b0fc9",
   "metadata": {},
   "outputs": [
    {
     "data": {
      "text/plain": [
       "['mae', 'mse', 'rmse', 'r2', 'rmsle', 'mape']"
      ]
     },
     "execution_count": 56,
     "metadata": {},
     "output_type": "execute_result"
    }
   ],
   "source": [
    "# All available metrics\n",
    "list(s._all_metrics.keys())"
   ]
  },
  {
   "cell_type": "code",
   "execution_count": 57,
   "id": "f81422fd-6797-45c6-8d98-5301ef909fe1",
   "metadata": {},
   "outputs": [
    {
     "data": {
      "text/plain": [
       "['lr',\n",
       " 'lasso',\n",
       " 'ridge',\n",
       " 'en',\n",
       " 'lar',\n",
       " 'llar',\n",
       " 'omp',\n",
       " 'br',\n",
       " 'ard',\n",
       " 'par',\n",
       " 'ransac',\n",
       " 'tr',\n",
       " 'huber',\n",
       " 'kr',\n",
       " 'svm',\n",
       " 'knn',\n",
       " 'dt',\n",
       " 'rf',\n",
       " 'et',\n",
       " 'ada',\n",
       " 'gbr',\n",
       " 'mlp',\n",
       " 'lightgbm',\n",
       " 'catboost',\n",
       " 'dummy']"
      ]
     },
     "execution_count": 57,
     "metadata": {},
     "output_type": "execute_result"
    }
   ],
   "source": [
    "# pd.DataFrame(s._all_models, index=['stuff']).T\n",
    "list(s._all_models.keys())"
   ]
  },
  {
   "cell_type": "code",
   "execution_count": 58,
   "id": "c794e142-9710-4fcc-b23d-a5c90458aea7",
   "metadata": {},
   "outputs": [
    {
     "data": {
      "text/html": [
       "<div>\n",
       "<style scoped>\n",
       "    .dataframe tbody tr th:only-of-type {\n",
       "        vertical-align: middle;\n",
       "    }\n",
       "\n",
       "    .dataframe tbody tr th {\n",
       "        vertical-align: top;\n",
       "    }\n",
       "\n",
       "    .dataframe thead th {\n",
       "        text-align: right;\n",
       "    }\n",
       "</style>\n",
       "<table border=\"1\" class=\"dataframe\">\n",
       "  <thead>\n",
       "    <tr style=\"text-align: right;\">\n",
       "      <th></th>\n",
       "      <th>production_value</th>\n",
       "    </tr>\n",
       "  </thead>\n",
       "  <tbody>\n",
       "    <tr>\n",
       "      <th>count</th>\n",
       "      <td>169.000000</td>\n",
       "    </tr>\n",
       "    <tr>\n",
       "      <th>mean</th>\n",
       "      <td>517.610641</td>\n",
       "    </tr>\n",
       "    <tr>\n",
       "      <th>std</th>\n",
       "      <td>638.228700</td>\n",
       "    </tr>\n",
       "    <tr>\n",
       "      <th>min</th>\n",
       "      <td>0.220000</td>\n",
       "    </tr>\n",
       "    <tr>\n",
       "      <th>25%</th>\n",
       "      <td>26.780000</td>\n",
       "    </tr>\n",
       "    <tr>\n",
       "      <th>50%</th>\n",
       "      <td>294.182700</td>\n",
       "    </tr>\n",
       "    <tr>\n",
       "      <th>75%</th>\n",
       "      <td>779.300000</td>\n",
       "    </tr>\n",
       "    <tr>\n",
       "      <th>max</th>\n",
       "      <td>2689.430300</td>\n",
       "    </tr>\n",
       "  </tbody>\n",
       "</table>\n",
       "</div>"
      ],
      "text/plain": [
       "       production_value\n",
       "count        169.000000\n",
       "mean         517.610641\n",
       "std          638.228700\n",
       "min            0.220000\n",
       "25%           26.780000\n",
       "50%          294.182700\n",
       "75%          779.300000\n",
       "max         2689.430300"
      ]
     },
     "execution_count": 58,
     "metadata": {},
     "output_type": "execute_result"
    }
   ],
   "source": [
    "df[['production_value']].describe()"
   ]
  },
  {
   "cell_type": "markdown",
   "id": "8d7e869e-63c6-4a35-a62f-ba67d69145fc",
   "metadata": {},
   "source": [
    "### Create scores (Metrics values)"
   ]
  },
  {
   "cell_type": "code",
   "execution_count": 59,
   "id": "b1db933f-aeac-46cb-87b0-b365b22b643d",
   "metadata": {},
   "outputs": [],
   "source": [
    "scores = pd.DataFrame(\n",
    "    s._calculate_metrics(y_test=pred['production_value'], \n",
    "                         pred=pred['prediction_label'], \n",
    "                         pred_prob='lr Regression'), \n",
    "    index=['scores']\n",
    ")"
   ]
  },
  {
   "cell_type": "code",
   "execution_count": 60,
   "id": "579dff3a-89da-47e8-ae07-8febc2924196",
   "metadata": {},
   "outputs": [
    {
     "data": {
      "text/html": [
       "<div>\n",
       "<style scoped>\n",
       "    .dataframe tbody tr th:only-of-type {\n",
       "        vertical-align: middle;\n",
       "    }\n",
       "\n",
       "    .dataframe tbody tr th {\n",
       "        vertical-align: top;\n",
       "    }\n",
       "\n",
       "    .dataframe thead th {\n",
       "        text-align: right;\n",
       "    }\n",
       "</style>\n",
       "<table border=\"1\" class=\"dataframe\">\n",
       "  <thead>\n",
       "    <tr style=\"text-align: right;\">\n",
       "      <th></th>\n",
       "      <th>MAE</th>\n",
       "      <th>MSE</th>\n",
       "      <th>RMSE</th>\n",
       "      <th>R2</th>\n",
       "      <th>RMSLE</th>\n",
       "      <th>MAPE</th>\n",
       "    </tr>\n",
       "  </thead>\n",
       "  <tbody>\n",
       "    <tr>\n",
       "      <th>scores</th>\n",
       "      <td>0.056402</td>\n",
       "      <td>0.006091</td>\n",
       "      <td>0.078045</td>\n",
       "      <td>1.0</td>\n",
       "      <td>0.019896</td>\n",
       "      <td>0.01061</td>\n",
       "    </tr>\n",
       "  </tbody>\n",
       "</table>\n",
       "</div>"
      ],
      "text/plain": [
       "             MAE       MSE      RMSE   R2     RMSLE     MAPE\n",
       "scores  0.056402  0.006091  0.078045  1.0  0.019896  0.01061"
      ]
     },
     "execution_count": 60,
     "metadata": {},
     "output_type": "execute_result"
    }
   ],
   "source": [
    "scores"
   ]
  },
  {
   "cell_type": "code",
   "execution_count": 61,
   "id": "70fb59c0-9412-4e16-a80d-47bbc35d89eb",
   "metadata": {},
   "outputs": [
    {
     "name": "stdout",
     "output_type": "stream",
     "text": [
      "R2: 0.9999999839755294\n"
     ]
    }
   ],
   "source": [
    "print(f\"R2: {scores.loc['scores','R2']}\")"
   ]
  },
  {
   "cell_type": "markdown",
   "id": "a126d98e-b696-42b0-bf04-a4143f08a9f6",
   "metadata": {},
   "source": [
    "## Save the model\n"
   ]
  },
  {
   "cell_type": "code",
   "execution_count": 62,
   "id": "57622a69-edc0-4aa2-9e09-ee678c04b2a3",
   "metadata": {},
   "outputs": [
    {
     "name": "stdout",
     "output_type": "stream",
     "text": [
      "Transformation Pipeline and Model Successfully Saved\n"
     ]
    },
    {
     "data": {
      "text/plain": [
       "(Pipeline(memory=Memory(location=None),\n",
       "          steps=[('numerical_imputer',\n",
       "                  TransformerWrapper(include=['year', 'product_emissions_MtCO2',\n",
       "                                              'flaring_emissions_MtCO2',\n",
       "                                              'venting_emissions_MtCO2',\n",
       "                                              'own_fuel_use_emissions_MtCO2',\n",
       "                                              'fugitive_methane_emissions_MtCO2e',\n",
       "                                              'fugitive_methane_emissions_MtCH4',\n",
       "                                              'total_operational_emissions_MtCO2e',\n",
       "                                              'total_emissions_MtCO2e'],\n",
       "                                     transf...\n",
       "                                                                          'data_type': dtype('O'),\n",
       "                                                                          'mapping': High    0\n",
       " Low     1\n",
       " NaN    -1\n",
       " dtype: int64}]))),\n",
       "                 ('onehot_encoding',\n",
       "                  TransformerWrapper(include=['parent_entity',\n",
       "                                              'reporting_entity', 'commodity',\n",
       "                                              'production_unit'],\n",
       "                                     transformer=OneHotEncoder(cols=['parent_entity',\n",
       "                                                                     'reporting_entity',\n",
       "                                                                     'commodity',\n",
       "                                                                     'production_unit'],\n",
       "                                                               handle_missing='return_nan',\n",
       "                                                               use_cat_names=True))),\n",
       "                 ('trained_model', LinearRegression(n_jobs=-1))]),\n",
       " 'my_best_pipeline_Emission.pkl')"
      ]
     },
     "execution_count": 62,
     "metadata": {},
     "output_type": "execute_result"
    }
   ],
   "source": [
    "s.save_model(tuned_lr_mdl, 'my_best_pipeline_Emission')"
   ]
  },
  {
   "cell_type": "markdown",
   "id": "2966f7a4-0db7-475b-a1c5-bd69b9b13445",
   "metadata": {},
   "source": [
    "## To load the model back in the environment:"
   ]
  },
  {
   "cell_type": "code",
   "execution_count": 63,
   "id": "1998c64c-a5b5-41e2-95c0-543cc79df610",
   "metadata": {},
   "outputs": [],
   "source": [
    "# loaded_model = s.load_model('my_best_pipeline')\n",
    "# print(loaded_model)"
   ]
  },
  {
   "cell_type": "markdown",
   "id": "15189712-6d70-47d7-9e08-86e3efc7854d",
   "metadata": {},
   "source": [
    "## List of Available Plots(ID-Name)\n",
    "-  '**pipeline**'-Pipeline Plot\n",
    "-  '**parameter**'-Hyperparameters\n",
    "-  '**residuals**'-\tResiduals\n",
    "-  '**error**'-\tPrediction Error\n",
    "-  '**cooks**'-\tCooks Distance\n",
    "-  '**rfe**'-\tFeature Selection\n",
    "-  '**learning**'-\tLearning Curve\n",
    "-  '**manifold**'-\tManifold Learning\n",
    "-  '**vc**'-\tValidation Curve\n",
    "-  '**feature**'-\tFeature Importance\n",
    "-  '**feature_all**'-\tFeature Importance (All)\n",
    "-  '**tree**'-\tDecision Tree\n",
    "-  '**residuals_interactive**'-\tInteractive Residuals\n"
   ]
  },
  {
   "cell_type": "markdown",
   "id": "7f2c8004-9d3b-40ff-8ace-4ebfd2854166",
   "metadata": {},
   "source": [
    "### Derived Models"
   ]
  },
  {
   "cell_type": "code",
   "execution_count": 64,
   "id": "2a400f76-452c-4ddb-ad6b-732b7b2d59cb",
   "metadata": {},
   "outputs": [
    {
     "name": "stdout",
     "output_type": "stream",
     "text": [
      "LinearRegression(n_jobs=-1)\n"
     ]
    }
   ],
   "source": [
    "print(lr_mdl)"
   ]
  },
  {
   "cell_type": "code",
   "execution_count": 65,
   "id": "d581a97b-0da7-4b47-a289-4bec07eaf692",
   "metadata": {},
   "outputs": [
    {
     "name": "stdout",
     "output_type": "stream",
     "text": [
      "LinearRegression(n_jobs=-1)\n"
     ]
    }
   ],
   "source": [
    "print(tuned_lr_mdl)"
   ]
  }
 ],
 "metadata": {
  "kernelspec": {
   "display_name": "Python 3 (ipykernel)",
   "language": "python",
   "name": "python3"
  },
  "language_info": {
   "codemirror_mode": {
    "name": "ipython",
    "version": 3
   },
   "file_extension": ".py",
   "mimetype": "text/x-python",
   "name": "python",
   "nbconvert_exporter": "python",
   "pygments_lexer": "ipython3",
   "version": "3.11.11"
  }
 },
 "nbformat": 4,
 "nbformat_minor": 5
}
