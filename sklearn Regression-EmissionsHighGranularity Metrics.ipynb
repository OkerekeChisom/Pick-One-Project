{
 "cells": [
  {
   "cell_type": "markdown",
   "id": "7e19ab10-1170-4f68-90da-d6bcb43f1cd7",
   "metadata": {},
   "source": [
    "# Scikit-learn Regression-EmissionsHighGranularity Metrics"
   ]
  },
  {
   "cell_type": "markdown",
   "id": "4a7d8836-1adc-418a-8372-5746a9224a78",
   "metadata": {},
   "source": [
    "# Carbon Majors Emissions Dataset\n",
    "\n",
    "### Dataset Variables\n",
    "-  **year**: The year of the data point\n",
    "-  **parent_entity**: The entity to whom the emissions are traced to\n",
    "-  **parent_type**: The type of parent_entity. Can be one of: investor-owned company, state-owned entity, nation state.\n",
    "-  **commodity**:Specifies which commodity the production refers to: Oil and NGL, Natural Gas, Anthracite Coal, Bituminous Coal, Lignite Coal, Metallurgical Coal, Sub-Bituminous Coal, Thermal Coal, or Cement.\n",
    "-  **production_value**: The quantity of production\n",
    "-  **production_unit**: The unit of production (Oil & NGL - million barrels, Natural Gas - billion cubic feet, Coal - million tonnes, Cement - million tonnes CO2 (see methodology for explanation)). Units - Billion cubic feet per year (Bcf/yr), Million barrels per year (Million bbl/yr), or Million tonnes per year (Million tonnes/yr).\n",
    "-  **total_emissions_MtCO2e**: \tThe total emissions traced to the 'parent_entity' in the 'year'. Units - million tonnes of carbon dioxide equivalent (MtCO2e)."
   ]
  },
  {
   "cell_type": "markdown",
   "id": "a17840c4-e186-45c8-89ff-c47c3e5f283d",
   "metadata": {},
   "source": [
    "## Model Objective"
   ]
  },
  {
   "cell_type": "markdown",
   "id": "7f93be1d-9741-4136-af0e-8edf61a4d6b5",
   "metadata": {},
   "source": [
    "- Develop a predictive model that estimates total operational emissions (MtCO2e) or total emissions (MtCO2e) based on production volume, commodity type, and other emissions factors.\n",
    "- Determine how different factors like production value, commodity type (Sub-Bituminous vs. Metallurgical Coal, Natural Gas, Oil &  NGL), and specific emission sources (venting, flaring, fugitive methane, own fuel use, etc.) impact total emissions.\n",
    "- Forecast future emissions trends based on historical production and emission patterns."
   ]
  },
  {
   "cell_type": "markdown",
   "id": "705dc787-d6ca-4b11-8772-7e628eede9d2",
   "metadata": {},
   "source": [
    "## Import necessary libraries\n"
   ]
  },
  {
   "cell_type": "code",
   "execution_count": 1,
   "id": "84d3627a-da18-4bc7-b51a-2b0976f0d86f",
   "metadata": {},
   "outputs": [],
   "source": [
    "import pandas as pd\n",
    "import numpy as np\n",
    "import matplotlib.pyplot as plt\n",
    "import seaborn as sns\n",
    "\n",
    "from pycaret.datasets import get_data\n",
    "from imblearn.over_sampling import SMOTE\n",
    "from sklearn.metrics import mean_squared_log_error\n",
    "\n",
    "from sklearn.model_selection import train_test_split\n",
    "from sklearn.linear_model import LinearRegression\n",
    "from sklearn.model_selection import learning_curve\n",
    "\n",
    "from pycaret.regression import * \n",
    "from sklearn.metrics import mean_absolute_error, mean_squared_error, r2_score, explained_variance_score\n",
    "\n",
    "import scipy as sp\n",
    "\n",
    "import myfuns"
   ]
  },
  {
   "cell_type": "markdown",
   "id": "959a90e2-6a22-4dd1-8242-e6b396d1b980",
   "metadata": {},
   "source": [
    "## Import Data"
   ]
  },
  {
   "cell_type": "code",
   "execution_count": 2,
   "id": "a2a92d7e-315a-4820-b3c3-7822bfec12f0",
   "metadata": {},
   "outputs": [
    {
     "data": {
      "text/html": [
       "<div>\n",
       "<style scoped>\n",
       "    .dataframe tbody tr th:only-of-type {\n",
       "        vertical-align: middle;\n",
       "    }\n",
       "\n",
       "    .dataframe tbody tr th {\n",
       "        vertical-align: top;\n",
       "    }\n",
       "\n",
       "    .dataframe thead th {\n",
       "        text-align: right;\n",
       "    }\n",
       "</style>\n",
       "<table border=\"1\" class=\"dataframe\">\n",
       "  <thead>\n",
       "    <tr style=\"text-align: right;\">\n",
       "      <th></th>\n",
       "      <th>year</th>\n",
       "      <th>parent_entity</th>\n",
       "      <th>parent_type</th>\n",
       "      <th>reporting_entity</th>\n",
       "      <th>commodity</th>\n",
       "      <th>production_value</th>\n",
       "      <th>production_unit</th>\n",
       "      <th>product_emissions_MtCO2</th>\n",
       "      <th>flaring_emissions_MtCO2</th>\n",
       "      <th>venting_emissions_MtCO2</th>\n",
       "      <th>own_fuel_use_emissions_MtCO2</th>\n",
       "      <th>fugitive_methane_emissions_MtCO2e</th>\n",
       "      <th>fugitive_methane_emissions_MtCH4</th>\n",
       "      <th>total_operational_emissions_MtCO2e</th>\n",
       "      <th>total_emissions_MtCO2e</th>\n",
       "      <th>emissions_category</th>\n",
       "    </tr>\n",
       "  </thead>\n",
       "  <tbody>\n",
       "    <tr>\n",
       "      <th>0</th>\n",
       "      <td>1854</td>\n",
       "      <td>Adaro Energy</td>\n",
       "      <td>Investor-owned Company</td>\n",
       "      <td>Adaro Energy</td>\n",
       "      <td>Sub-Bituminous Coal</td>\n",
       "      <td>50.9000</td>\n",
       "      <td>Million tonnes/yr</td>\n",
       "      <td>92.3401</td>\n",
       "      <td>0.0</td>\n",
       "      <td>0.0</td>\n",
       "      <td>0.0</td>\n",
       "      <td>10.4316</td>\n",
       "      <td>0.3726</td>\n",
       "      <td>10.4316</td>\n",
       "      <td>102.7717</td>\n",
       "      <td>High</td>\n",
       "    </tr>\n",
       "    <tr>\n",
       "      <th>1</th>\n",
       "      <td>1855</td>\n",
       "      <td>Adaro Energy</td>\n",
       "      <td>Investor-owned Company</td>\n",
       "      <td>Adaro Energy</td>\n",
       "      <td>Metallurgical Coal</td>\n",
       "      <td>0.9000</td>\n",
       "      <td>Million tonnes/yr</td>\n",
       "      <td>2.3989</td>\n",
       "      <td>0.0</td>\n",
       "      <td>0.0</td>\n",
       "      <td>0.0</td>\n",
       "      <td>0.2710</td>\n",
       "      <td>0.0097</td>\n",
       "      <td>0.2710</td>\n",
       "      <td>2.6700</td>\n",
       "      <td>Low</td>\n",
       "    </tr>\n",
       "    <tr>\n",
       "      <th>2</th>\n",
       "      <td>1856</td>\n",
       "      <td>Adaro Energy</td>\n",
       "      <td>Investor-owned Company</td>\n",
       "      <td>Adaro Energy</td>\n",
       "      <td>Sub-Bituminous Coal</td>\n",
       "      <td>48.2300</td>\n",
       "      <td>Million tonnes/yr</td>\n",
       "      <td>87.4963</td>\n",
       "      <td>0.0</td>\n",
       "      <td>0.0</td>\n",
       "      <td>0.0</td>\n",
       "      <td>9.8844</td>\n",
       "      <td>0.3530</td>\n",
       "      <td>9.8844</td>\n",
       "      <td>97.3807</td>\n",
       "      <td>High</td>\n",
       "    </tr>\n",
       "    <tr>\n",
       "      <th>3</th>\n",
       "      <td>1857</td>\n",
       "      <td>Adaro Energy</td>\n",
       "      <td>Investor-owned Company</td>\n",
       "      <td>Adaro Energy</td>\n",
       "      <td>Metallurgical Coal</td>\n",
       "      <td>5.7700</td>\n",
       "      <td>Million tonnes/yr</td>\n",
       "      <td>15.3799</td>\n",
       "      <td>0.0</td>\n",
       "      <td>0.0</td>\n",
       "      <td>0.0</td>\n",
       "      <td>1.7375</td>\n",
       "      <td>0.0621</td>\n",
       "      <td>1.7375</td>\n",
       "      <td>17.1174</td>\n",
       "      <td>Low</td>\n",
       "    </tr>\n",
       "    <tr>\n",
       "      <th>4</th>\n",
       "      <td>1858</td>\n",
       "      <td>Adaro Energy</td>\n",
       "      <td>Investor-owned Company</td>\n",
       "      <td>Adaro Energy</td>\n",
       "      <td>Sub-Bituminous Coal</td>\n",
       "      <td>52.8073</td>\n",
       "      <td>Million tonnes/yr</td>\n",
       "      <td>95.8002</td>\n",
       "      <td>0.0</td>\n",
       "      <td>0.0</td>\n",
       "      <td>0.0</td>\n",
       "      <td>10.8225</td>\n",
       "      <td>0.3865</td>\n",
       "      <td>10.8225</td>\n",
       "      <td>106.6227</td>\n",
       "      <td>High</td>\n",
       "    </tr>\n",
       "  </tbody>\n",
       "</table>\n",
       "</div>"
      ],
      "text/plain": [
       "   year parent_entity             parent_type reporting_entity  \\\n",
       "0  1854  Adaro Energy  Investor-owned Company     Adaro Energy   \n",
       "1  1855  Adaro Energy  Investor-owned Company     Adaro Energy   \n",
       "2  1856  Adaro Energy  Investor-owned Company     Adaro Energy   \n",
       "3  1857  Adaro Energy  Investor-owned Company     Adaro Energy   \n",
       "4  1858  Adaro Energy  Investor-owned Company     Adaro Energy   \n",
       "\n",
       "             commodity  production_value    production_unit  \\\n",
       "0  Sub-Bituminous Coal           50.9000  Million tonnes/yr   \n",
       "1   Metallurgical Coal            0.9000  Million tonnes/yr   \n",
       "2  Sub-Bituminous Coal           48.2300  Million tonnes/yr   \n",
       "3   Metallurgical Coal            5.7700  Million tonnes/yr   \n",
       "4  Sub-Bituminous Coal           52.8073  Million tonnes/yr   \n",
       "\n",
       "   product_emissions_MtCO2  flaring_emissions_MtCO2  venting_emissions_MtCO2  \\\n",
       "0                  92.3401                      0.0                      0.0   \n",
       "1                   2.3989                      0.0                      0.0   \n",
       "2                  87.4963                      0.0                      0.0   \n",
       "3                  15.3799                      0.0                      0.0   \n",
       "4                  95.8002                      0.0                      0.0   \n",
       "\n",
       "   own_fuel_use_emissions_MtCO2  fugitive_methane_emissions_MtCO2e  \\\n",
       "0                           0.0                            10.4316   \n",
       "1                           0.0                             0.2710   \n",
       "2                           0.0                             9.8844   \n",
       "3                           0.0                             1.7375   \n",
       "4                           0.0                            10.8225   \n",
       "\n",
       "   fugitive_methane_emissions_MtCH4  total_operational_emissions_MtCO2e  \\\n",
       "0                            0.3726                             10.4316   \n",
       "1                            0.0097                              0.2710   \n",
       "2                            0.3530                              9.8844   \n",
       "3                            0.0621                              1.7375   \n",
       "4                            0.3865                             10.8225   \n",
       "\n",
       "   total_emissions_MtCO2e emissions_category  \n",
       "0                102.7717               High  \n",
       "1                  2.6700                Low  \n",
       "2                 97.3807               High  \n",
       "3                 17.1174                Low  \n",
       "4                106.6227               High  "
      ]
     },
     "execution_count": 2,
     "metadata": {},
     "output_type": "execute_result"
    }
   ],
   "source": [
    "# load sample dataset\n",
    "df=pd.read_csv('emissions_high_granularity.csv')\n",
    "df.head()"
   ]
  },
  {
   "cell_type": "markdown",
   "id": "95b4f270-8a73-4516-838d-f3253f36f97d",
   "metadata": {},
   "source": [
    "## EDA"
   ]
  },
  {
   "cell_type": "markdown",
   "id": "efe35c37-20a5-4e42-97d5-6013ac7098ee",
   "metadata": {},
   "source": [
    "The complete [y-dat profilling report](https://okerekechisom.github.io/ydata/YDATA%20EmissionsHighGranularity.html)"
   ]
  },
  {
   "cell_type": "code",
   "execution_count": 3,
   "id": "9f91accc-0310-4797-900a-f2794d816bb6",
   "metadata": {},
   "outputs": [
    {
     "data": {
      "text/plain": [
       "year                                  0\n",
       "parent_entity                         0\n",
       "parent_type                           0\n",
       "reporting_entity                      0\n",
       "commodity                             0\n",
       "production_value                      0\n",
       "production_unit                       0\n",
       "product_emissions_MtCO2               0\n",
       "flaring_emissions_MtCO2               0\n",
       "venting_emissions_MtCO2               0\n",
       "own_fuel_use_emissions_MtCO2          0\n",
       "fugitive_methane_emissions_MtCO2e     0\n",
       "fugitive_methane_emissions_MtCH4      0\n",
       "total_operational_emissions_MtCO2e    0\n",
       "total_emissions_MtCO2e                0\n",
       "emissions_category                    0\n",
       "dtype: int64"
      ]
     },
     "execution_count": 3,
     "metadata": {},
     "output_type": "execute_result"
    }
   ],
   "source": [
    "# check for nulls\n",
    "df.isna().sum()"
   ]
  },
  {
   "cell_type": "code",
   "execution_count": 4,
   "id": "458b7d21-8351-42a0-8811-2bd616e5d701",
   "metadata": {},
   "outputs": [
    {
     "name": "stdout",
     "output_type": "stream",
     "text": [
      "<class 'pandas.core.frame.DataFrame'>\n",
      "RangeIndex: 169 entries, 0 to 168\n",
      "Data columns (total 16 columns):\n",
      " #   Column                              Non-Null Count  Dtype  \n",
      "---  ------                              --------------  -----  \n",
      " 0   year                                169 non-null    int64  \n",
      " 1   parent_entity                       169 non-null    object \n",
      " 2   parent_type                         169 non-null    object \n",
      " 3   reporting_entity                    169 non-null    object \n",
      " 4   commodity                           169 non-null    object \n",
      " 5   production_value                    169 non-null    float64\n",
      " 6   production_unit                     169 non-null    object \n",
      " 7   product_emissions_MtCO2             169 non-null    float64\n",
      " 8   flaring_emissions_MtCO2             169 non-null    float64\n",
      " 9   venting_emissions_MtCO2             169 non-null    float64\n",
      " 10  own_fuel_use_emissions_MtCO2        169 non-null    float64\n",
      " 11  fugitive_methane_emissions_MtCO2e   169 non-null    float64\n",
      " 12  fugitive_methane_emissions_MtCH4    169 non-null    float64\n",
      " 13  total_operational_emissions_MtCO2e  169 non-null    float64\n",
      " 14  total_emissions_MtCO2e              169 non-null    float64\n",
      " 15  emissions_category                  169 non-null    object \n",
      "dtypes: float64(9), int64(1), object(6)\n",
      "memory usage: 21.3+ KB\n"
     ]
    },
    {
     "data": {
      "text/plain": [
       "(169, 16)"
      ]
     },
     "execution_count": 4,
     "metadata": {},
     "output_type": "execute_result"
    }
   ],
   "source": [
    "df.info()\n",
    "df.shape"
   ]
  },
  {
   "cell_type": "markdown",
   "id": "2df77e97-ef37-412c-a97c-7129a2d50019",
   "metadata": {},
   "source": [
    "## EDA Visualizations"
   ]
  },
  {
   "cell_type": "code",
   "execution_count": 5,
   "id": "9a18ba2e-5f5f-44f9-a53f-d2ec4851aae1",
   "metadata": {},
   "outputs": [
    {
     "data": {
      "image/png": "[encoded data removed]",
      "text/plain": [
       "<Figure size 800x400 with 4 Axes>"
      ]
     },
     "metadata": {},
     "output_type": "display_data"
    }
   ],
   "source": [
    "fig,axes = plt.subplots(nrows=2, ncols=2, figsize=(8,4))\n",
    "sns.scatterplot(data=df, x='commodity', y='production_value', ax=axes[0,0])\n",
    "sns.scatterplot(data=df, x='product_emissions_MtCO2', y='production_value', ax=axes[0,1])\n",
    "sns.scatterplot(data=df, x='fugitive_methane_emissions_MtCO2e', y='production_value', ax=axes[1,0])\n",
    "sns.histplot(df['production_value'],  bins = 15, ax=axes[1,1])\n",
    "\n",
    "plt.show()"
   ]
  },
  {
   "cell_type": "markdown",
   "id": "b8250b14-66b0-4708-90c7-b2183aa40c53",
   "metadata": {},
   "source": [
    "## Prepare the X and y data\n",
    "\n",
    "- Use one hot encoding for any object or categorical features\n",
    "- Standardize / Normalize any numeric features"
   ]
  },
  {
   "cell_type": "code",
   "execution_count": 6,
   "id": "ffade831-d057-4815-b60d-d224f9f32023",
   "metadata": {},
   "outputs": [],
   "source": [
    "df = df.copy()"
   ]
  },
  {
   "cell_type": "code",
   "execution_count": 7,
   "id": "18c129ea-4a61-4753-b7a7-53c866ebe305",
   "metadata": {},
   "outputs": [],
   "source": [
    "X = df.drop(['production_value' ], axis =1)\n",
    "y = df['production_value']"
   ]
  },
  {
   "cell_type": "code",
   "execution_count": 8,
   "id": "9ab4d21e-9a39-457d-b14e-385be246032f",
   "metadata": {},
   "outputs": [
    {
     "data": {
      "text/html": [
       "<div>\n",
       "<style scoped>\n",
       "    .dataframe tbody tr th:only-of-type {\n",
       "        vertical-align: middle;\n",
       "    }\n",
       "\n",
       "    .dataframe tbody tr th {\n",
       "        vertical-align: top;\n",
       "    }\n",
       "\n",
       "    .dataframe thead th {\n",
       "        text-align: right;\n",
       "    }\n",
       "</style>\n",
       "<table border=\"1\" class=\"dataframe\">\n",
       "  <thead>\n",
       "    <tr style=\"text-align: right;\">\n",
       "      <th></th>\n",
       "      <th>year</th>\n",
       "      <th>product_emissions_MtCO2</th>\n",
       "      <th>flaring_emissions_MtCO2</th>\n",
       "      <th>venting_emissions_MtCO2</th>\n",
       "      <th>own_fuel_use_emissions_MtCO2</th>\n",
       "      <th>fugitive_methane_emissions_MtCO2e</th>\n",
       "      <th>fugitive_methane_emissions_MtCH4</th>\n",
       "      <th>total_operational_emissions_MtCO2e</th>\n",
       "      <th>total_emissions_MtCO2e</th>\n",
       "      <th>parent_entity_Adani Enterprises</th>\n",
       "      <th>...</th>\n",
       "      <th>reporting_entity_Abu Dhabi</th>\n",
       "      <th>reporting_entity_Abu Dhabi National Oil Company</th>\n",
       "      <th>reporting_entity_Adani Enterprises</th>\n",
       "      <th>reporting_entity_Adaro Energy</th>\n",
       "      <th>commodity_Natural Gas</th>\n",
       "      <th>commodity_Oil &amp; NGL</th>\n",
       "      <th>commodity_Sub-Bituminous Coal</th>\n",
       "      <th>production_unit_Million bbl/yr</th>\n",
       "      <th>production_unit_Million tonnes/yr</th>\n",
       "      <th>emissions_category_Low</th>\n",
       "    </tr>\n",
       "  </thead>\n",
       "  <tbody>\n",
       "    <tr>\n",
       "      <th>0</th>\n",
       "      <td>1854</td>\n",
       "      <td>92.3401</td>\n",
       "      <td>0.0</td>\n",
       "      <td>0.0</td>\n",
       "      <td>0.0</td>\n",
       "      <td>10.4316</td>\n",
       "      <td>0.3726</td>\n",
       "      <td>10.4316</td>\n",
       "      <td>102.7717</td>\n",
       "      <td>False</td>\n",
       "      <td>...</td>\n",
       "      <td>False</td>\n",
       "      <td>False</td>\n",
       "      <td>False</td>\n",
       "      <td>True</td>\n",
       "      <td>False</td>\n",
       "      <td>False</td>\n",
       "      <td>True</td>\n",
       "      <td>False</td>\n",
       "      <td>True</td>\n",
       "      <td>False</td>\n",
       "    </tr>\n",
       "    <tr>\n",
       "      <th>1</th>\n",
       "      <td>1855</td>\n",
       "      <td>2.3989</td>\n",
       "      <td>0.0</td>\n",
       "      <td>0.0</td>\n",
       "      <td>0.0</td>\n",
       "      <td>0.2710</td>\n",
       "      <td>0.0097</td>\n",
       "      <td>0.2710</td>\n",
       "      <td>2.6700</td>\n",
       "      <td>False</td>\n",
       "      <td>...</td>\n",
       "      <td>False</td>\n",
       "      <td>False</td>\n",
       "      <td>False</td>\n",
       "      <td>True</td>\n",
       "      <td>False</td>\n",
       "      <td>False</td>\n",
       "      <td>False</td>\n",
       "      <td>False</td>\n",
       "      <td>True</td>\n",
       "      <td>True</td>\n",
       "    </tr>\n",
       "    <tr>\n",
       "      <th>2</th>\n",
       "      <td>1856</td>\n",
       "      <td>87.4963</td>\n",
       "      <td>0.0</td>\n",
       "      <td>0.0</td>\n",
       "      <td>0.0</td>\n",
       "      <td>9.8844</td>\n",
       "      <td>0.3530</td>\n",
       "      <td>9.8844</td>\n",
       "      <td>97.3807</td>\n",
       "      <td>False</td>\n",
       "      <td>...</td>\n",
       "      <td>False</td>\n",
       "      <td>False</td>\n",
       "      <td>False</td>\n",
       "      <td>True</td>\n",
       "      <td>False</td>\n",
       "      <td>False</td>\n",
       "      <td>True</td>\n",
       "      <td>False</td>\n",
       "      <td>True</td>\n",
       "      <td>False</td>\n",
       "    </tr>\n",
       "    <tr>\n",
       "      <th>3</th>\n",
       "      <td>1857</td>\n",
       "      <td>15.3799</td>\n",
       "      <td>0.0</td>\n",
       "      <td>0.0</td>\n",
       "      <td>0.0</td>\n",
       "      <td>1.7375</td>\n",
       "      <td>0.0621</td>\n",
       "      <td>1.7375</td>\n",
       "      <td>17.1174</td>\n",
       "      <td>False</td>\n",
       "      <td>...</td>\n",
       "      <td>False</td>\n",
       "      <td>False</td>\n",
       "      <td>False</td>\n",
       "      <td>True</td>\n",
       "      <td>False</td>\n",
       "      <td>False</td>\n",
       "      <td>False</td>\n",
       "      <td>False</td>\n",
       "      <td>True</td>\n",
       "      <td>True</td>\n",
       "    </tr>\n",
       "    <tr>\n",
       "      <th>4</th>\n",
       "      <td>1858</td>\n",
       "      <td>95.8002</td>\n",
       "      <td>0.0</td>\n",
       "      <td>0.0</td>\n",
       "      <td>0.0</td>\n",
       "      <td>10.8225</td>\n",
       "      <td>0.3865</td>\n",
       "      <td>10.8225</td>\n",
       "      <td>106.6227</td>\n",
       "      <td>False</td>\n",
       "      <td>...</td>\n",
       "      <td>False</td>\n",
       "      <td>False</td>\n",
       "      <td>False</td>\n",
       "      <td>True</td>\n",
       "      <td>False</td>\n",
       "      <td>False</td>\n",
       "      <td>True</td>\n",
       "      <td>False</td>\n",
       "      <td>True</td>\n",
       "      <td>False</td>\n",
       "    </tr>\n",
       "  </tbody>\n",
       "</table>\n",
       "<p>5 rows × 22 columns</p>\n",
       "</div>"
      ],
      "text/plain": [
       "   year  product_emissions_MtCO2  flaring_emissions_MtCO2  \\\n",
       "0  1854                  92.3401                      0.0   \n",
       "1  1855                   2.3989                      0.0   \n",
       "2  1856                  87.4963                      0.0   \n",
       "3  1857                  15.3799                      0.0   \n",
       "4  1858                  95.8002                      0.0   \n",
       "\n",
       "   venting_emissions_MtCO2  own_fuel_use_emissions_MtCO2  \\\n",
       "0                      0.0                           0.0   \n",
       "1                      0.0                           0.0   \n",
       "2                      0.0                           0.0   \n",
       "3                      0.0                           0.0   \n",
       "4                      0.0                           0.0   \n",
       "\n",
       "   fugitive_methane_emissions_MtCO2e  fugitive_methane_emissions_MtCH4  \\\n",
       "0                            10.4316                            0.3726   \n",
       "1                             0.2710                            0.0097   \n",
       "2                             9.8844                            0.3530   \n",
       "3                             1.7375                            0.0621   \n",
       "4                            10.8225                            0.3865   \n",
       "\n",
       "   total_operational_emissions_MtCO2e  total_emissions_MtCO2e  \\\n",
       "0                             10.4316                102.7717   \n",
       "1                              0.2710                  2.6700   \n",
       "2                              9.8844                 97.3807   \n",
       "3                              1.7375                 17.1174   \n",
       "4                             10.8225                106.6227   \n",
       "\n",
       "   parent_entity_Adani Enterprises  ...  reporting_entity_Abu Dhabi  \\\n",
       "0                            False  ...                       False   \n",
       "1                            False  ...                       False   \n",
       "2                            False  ...                       False   \n",
       "3                            False  ...                       False   \n",
       "4                            False  ...                       False   \n",
       "\n",
       "   reporting_entity_Abu Dhabi National Oil Company  \\\n",
       "0                                            False   \n",
       "1                                            False   \n",
       "2                                            False   \n",
       "3                                            False   \n",
       "4                                            False   \n",
       "\n",
       "   reporting_entity_Adani Enterprises  reporting_entity_Adaro Energy  \\\n",
       "0                               False                           True   \n",
       "1                               False                           True   \n",
       "2                               False                           True   \n",
       "3                               False                           True   \n",
       "4                               False                           True   \n",
       "\n",
       "   commodity_Natural Gas  commodity_Oil & NGL  commodity_Sub-Bituminous Coal  \\\n",
       "0                  False                False                           True   \n",
       "1                  False                False                          False   \n",
       "2                  False                False                           True   \n",
       "3                  False                False                          False   \n",
       "4                  False                False                           True   \n",
       "\n",
       "   production_unit_Million bbl/yr  production_unit_Million tonnes/yr  \\\n",
       "0                           False                               True   \n",
       "1                           False                               True   \n",
       "2                           False                               True   \n",
       "3                           False                               True   \n",
       "4                           False                               True   \n",
       "\n",
       "   emissions_category_Low  \n",
       "0                   False  \n",
       "1                    True  \n",
       "2                   False  \n",
       "3                    True  \n",
       "4                   False  \n",
       "\n",
       "[5 rows x 22 columns]"
      ]
     },
     "execution_count": 8,
     "metadata": {},
     "output_type": "execute_result"
    }
   ],
   "source": [
    "# one-hot encoding \n",
    "X = pd.get_dummies(X, drop_first=True)\n",
    "X.head()"
   ]
  },
  {
   "cell_type": "code",
   "execution_count": 9,
   "id": "7c5cafa9-c314-41e1-99f0-0ff60876515e",
   "metadata": {},
   "outputs": [
    {
     "data": {
      "text/plain": [
       "(array([50.8316625 , -0.18018907, 48.18099154,  6.87639169, 52.74614023]),\n",
       " 0    50.9000\n",
       " 1     0.9000\n",
       " 2    48.2300\n",
       " 3     5.7700\n",
       " 4    52.8073\n",
       " Name: production_value, dtype: float64)"
      ]
     },
     "execution_count": 9,
     "metadata": {},
     "output_type": "execute_result"
    }
   ],
   "source": [
    "#  Predicting against all data  -basically just drawing a line as we have no test data\n",
    "full_md1 =LinearRegression()\n",
    "full_md1.fit(X,y)\n",
    "y_hat = full_md1.predict(X)\n",
    "y_hat[:5], y[:5]\n"
   ]
  },
  {
   "cell_type": "markdown",
   "id": "13222973-b0a4-4bd3-8ed7-e15a2efc8150",
   "metadata": {},
   "source": [
    "## Establish the base units to compare the resultant metrics  ...."
   ]
  },
  {
   "cell_type": "code",
   "execution_count": 10,
   "id": "940e344f-4fb4-419b-93b9-4cc6c9868d58",
   "metadata": {},
   "outputs": [
    {
     "data": {
      "text/plain": [
       "(517.6106414201183, 294.1827, 0.22, 2689.4303, 2689.2103)"
      ]
     },
     "execution_count": 10,
     "metadata": {},
     "output_type": "execute_result"
    }
   ],
   "source": [
    "df['production_value'].mean(),df['production_value'].median(), df['production_value'].min(),df['production_value'].max(),df['production_value'].max()-df['production_value'].min()\n"
   ]
  },
  {
   "cell_type": "code",
   "execution_count": 11,
   "id": "60c55c8a-4b45-4d1b-9186-accdf9fadfc8",
   "metadata": {},
   "outputs": [
    {
     "data": {
      "text/plain": [
       "(517.6106414201183, 294.1827, 0.22, 2689.4303, 2689.2103)"
      ]
     },
     "execution_count": 11,
     "metadata": {},
     "output_type": "execute_result"
    }
   ],
   "source": [
    "\n",
    "   # OR\n",
    "ymin = np.min(df['production_value'])\n",
    "ymax = np.max(df['production_value'])\n",
    "yrange = (np.max(df['production_value']) - np.min(df['production_value']))\n",
    "ymean= np.mean(df['production_value'])\n",
    "ymedian=  np.median(df['production_value'])\n",
    "\n",
    "\n",
    "ymean, ymedian, ymin,ymax,yrange"
   ]
  },
  {
   "cell_type": "markdown",
   "id": "14c06c36-420a-4e53-b984-98e8252424bc",
   "metadata": {},
   "source": [
    "## Create and Fit the Model"
   ]
  },
  {
   "cell_type": "code",
   "execution_count": 12,
   "id": "a363c0ca-2cbe-4329-8789-d7f52a2d3196",
   "metadata": {},
   "outputs": [],
   "source": [
    "X_train, X_test, y_train, y_test = train_test_split(X, y, test_size=0.3, random_state=42)"
   ]
  },
  {
   "cell_type": "code",
   "execution_count": 13,
   "id": "930866e9-7c59-4a3f-a436-217df9d1e26e",
   "metadata": {},
   "outputs": [
    {
     "data": {
      "text/plain": [
       "((118, 22), 118)"
      ]
     },
     "execution_count": 13,
     "metadata": {},
     "output_type": "execute_result"
    }
   ],
   "source": [
    "X_train.shape, len(X_train)"
   ]
  },
  {
   "cell_type": "code",
   "execution_count": 14,
   "id": "1a0a6c48-aedf-44db-9679-ad713e46b0fb",
   "metadata": {},
   "outputs": [
    {
     "data": {
      "text/plain": [
       "((118, 22), (51, 22), (118,), (51,))"
      ]
     },
     "execution_count": 14,
     "metadata": {},
     "output_type": "execute_result"
    }
   ],
   "source": [
    "X_train.shape, X_test.shape, y_train.shape, y_test.shape"
   ]
  },
  {
   "cell_type": "code",
   "execution_count": 15,
   "id": "899536b3-060b-4a67-96ea-e4f828113d53",
   "metadata": {},
   "outputs": [
    {
     "data": {
      "text/plain": [
       "production_value\n",
       "2689.4303    2\n",
       "29.8607      2\n",
       "97.3236      2\n",
       "1277.5000    2\n",
       "996.9280     1\n",
       "            ..\n",
       "20.8000      1\n",
       "254.2225     1\n",
       "85.8955      1\n",
       "145.1240     1\n",
       "861.6736     1\n",
       "Name: count, Length: 114, dtype: int64"
      ]
     },
     "execution_count": 15,
     "metadata": {},
     "output_type": "execute_result"
    }
   ],
   "source": [
    "y_train.value_counts()"
   ]
  },
  {
   "cell_type": "code",
   "execution_count": 16,
   "id": "79f425a1-b9f4-4d10-bf1d-935c07cd749c",
   "metadata": {},
   "outputs": [
    {
     "data": {
      "text/plain": [
       "production_value\n",
       "2689.4303    2\n",
       "29.8607      2\n",
       "97.3236      2\n",
       "1277.5000    2\n",
       "996.9280     1\n",
       "            ..\n",
       "20.8000      1\n",
       "254.2225     1\n",
       "85.8955      1\n",
       "145.1240     1\n",
       "861.6736     1\n",
       "Name: count, Length: 114, dtype: int64"
      ]
     },
     "execution_count": 16,
     "metadata": {},
     "output_type": "execute_result"
    }
   ],
   "source": [
    "y_train.value_counts()"
   ]
  },
  {
   "cell_type": "code",
   "execution_count": 17,
   "id": "8bb0c385-0258-4cae-a9e5-5b31c959acd0",
   "metadata": {},
   "outputs": [],
   "source": [
    "md1_selected= 'LinearRegression'"
   ]
  },
  {
   "cell_type": "code",
   "execution_count": 18,
   "id": "ba2332d3-68bd-41b8-acc3-e293278aec18",
   "metadata": {},
   "outputs": [
    {
     "data": {
      "text/html": [
       "<style>#sk-container-id-1 {\n",
       "  /* Definition of color scheme common for light and dark mode */\n",
       "  --sklearn-color-text: black;\n",
       "  --sklearn-color-line: gray;\n",
       "  /* Definition of color scheme for unfitted estimators */\n",
       "  --sklearn-color-unfitted-level-0: #fff5e6;\n",
       "  --sklearn-color-unfitted-level-1: #f6e4d2;\n",
       "  --sklearn-color-unfitted-level-2: #ffe0b3;\n",
       "  --sklearn-color-unfitted-level-3: chocolate;\n",
       "  /* Definition of color scheme for fitted estimators */\n",
       "  --sklearn-color-fitted-level-0: #f0f8ff;\n",
       "  --sklearn-color-fitted-level-1: #d4ebff;\n",
       "  --sklearn-color-fitted-level-2: #b3dbfd;\n",
       "  --sklearn-color-fitted-level-3: cornflowerblue;\n",
       "\n",
       "  /* Specific color for light theme */\n",
       "  --sklearn-color-text-on-default-background: var(--sg-text-color, var(--theme-code-foreground, var(--jp-content-font-color1, black)));\n",
       "  --sklearn-color-background: var(--sg-background-color, var(--theme-background, var(--jp-layout-color0, white)));\n",
       "  --sklearn-color-border-box: var(--sg-text-color, var(--theme-code-foreground, var(--jp-content-font-color1, black)));\n",
       "  --sklearn-color-icon: #696969;\n",
       "\n",
       "  @media (prefers-color-scheme: dark) {\n",
       "    /* Redefinition of color scheme for dark theme */\n",
       "    --sklearn-color-text-on-default-background: var(--sg-text-color, var(--theme-code-foreground, var(--jp-content-font-color1, white)));\n",
       "    --sklearn-color-background: var(--sg-background-color, var(--theme-background, var(--jp-layout-color0, #111)));\n",
       "    --sklearn-color-border-box: var(--sg-text-color, var(--theme-code-foreground, var(--jp-content-font-color1, white)));\n",
       "    --sklearn-color-icon: #878787;\n",
       "  }\n",
       "}\n",
       "\n",
       "#sk-container-id-1 {\n",
       "  color: var(--sklearn-color-text);\n",
       "}\n",
       "\n",
       "#sk-container-id-1 pre {\n",
       "  padding: 0;\n",
       "}\n",
       "\n",
       "#sk-container-id-1 input.sk-hidden--visually {\n",
       "  border: 0;\n",
       "  clip: rect(1px 1px 1px 1px);\n",
       "  clip: rect(1px, 1px, 1px, 1px);\n",
       "  height: 1px;\n",
       "  margin: -1px;\n",
       "  overflow: hidden;\n",
       "  padding: 0;\n",
       "  position: absolute;\n",
       "  width: 1px;\n",
       "}\n",
       "\n",
       "#sk-container-id-1 div.sk-dashed-wrapped {\n",
       "  border: 1px dashed var(--sklearn-color-line);\n",
       "  margin: 0 0.4em 0.5em 0.4em;\n",
       "  box-sizing: border-box;\n",
       "  padding-bottom: 0.4em;\n",
       "  background-color: var(--sklearn-color-background);\n",
       "}\n",
       "\n",
       "#sk-container-id-1 div.sk-container {\n",
       "  /* jupyter's `normalize.less` sets `[hidden] { display: none; }`\n",
       "     but bootstrap.min.css set `[hidden] { display: none !important; }`\n",
       "     so we also need the `!important` here to be able to override the\n",
       "     default hidden behavior on the sphinx rendered scikit-learn.org.\n",
       "     See: https://github.com/scikit-learn/scikit-learn/issues/21755 */\n",
       "  display: inline-block !important;\n",
       "  position: relative;\n",
       "}\n",
       "\n",
       "#sk-container-id-1 div.sk-text-repr-fallback {\n",
       "  display: none;\n",
       "}\n",
       "\n",
       "div.sk-parallel-item,\n",
       "div.sk-serial,\n",
       "div.sk-item {\n",
       "  /* draw centered vertical line to link estimators */\n",
       "  background-image: linear-gradient(var(--sklearn-color-text-on-default-background), var(--sklearn-color-text-on-default-background));\n",
       "  background-size: 2px 100%;\n",
       "  background-repeat: no-repeat;\n",
       "  background-position: center center;\n",
       "}\n",
       "\n",
       "/* Parallel-specific style estimator block */\n",
       "\n",
       "#sk-container-id-1 div.sk-parallel-item::after {\n",
       "  content: \"\";\n",
       "  width: 100%;\n",
       "  border-bottom: 2px solid var(--sklearn-color-text-on-default-background);\n",
       "  flex-grow: 1;\n",
       "}\n",
       "\n",
       "#sk-container-id-1 div.sk-parallel {\n",
       "  display: flex;\n",
       "  align-items: stretch;\n",
       "  justify-content: center;\n",
       "  background-color: var(--sklearn-color-background);\n",
       "  position: relative;\n",
       "}\n",
       "\n",
       "#sk-container-id-1 div.sk-parallel-item {\n",
       "  display: flex;\n",
       "  flex-direction: column;\n",
       "}\n",
       "\n",
       "#sk-container-id-1 div.sk-parallel-item:first-child::after {\n",
       "  align-self: flex-end;\n",
       "  width: 50%;\n",
       "}\n",
       "\n",
       "#sk-container-id-1 div.sk-parallel-item:last-child::after {\n",
       "  align-self: flex-start;\n",
       "  width: 50%;\n",
       "}\n",
       "\n",
       "#sk-container-id-1 div.sk-parallel-item:only-child::after {\n",
       "  width: 0;\n",
       "}\n",
       "\n",
       "/* Serial-specific style estimator block */\n",
       "\n",
       "#sk-container-id-1 div.sk-serial {\n",
       "  display: flex;\n",
       "  flex-direction: column;\n",
       "  align-items: center;\n",
       "  background-color: var(--sklearn-color-background);\n",
       "  padding-right: 1em;\n",
       "  padding-left: 1em;\n",
       "}\n",
       "\n",
       "\n",
       "/* Toggleable style: style used for estimator/Pipeline/ColumnTransformer box that is\n",
       "clickable and can be expanded/collapsed.\n",
       "- Pipeline and ColumnTransformer use this feature and define the default style\n",
       "- Estimators will overwrite some part of the style using the `sk-estimator` class\n",
       "*/\n",
       "\n",
       "/* Pipeline and ColumnTransformer style (default) */\n",
       "\n",
       "#sk-container-id-1 div.sk-toggleable {\n",
       "  /* Default theme specific background. It is overwritten whether we have a\n",
       "  specific estimator or a Pipeline/ColumnTransformer */\n",
       "  background-color: var(--sklearn-color-background);\n",
       "}\n",
       "\n",
       "/* Toggleable label */\n",
       "#sk-container-id-1 label.sk-toggleable__label {\n",
       "  cursor: pointer;\n",
       "  display: block;\n",
       "  width: 100%;\n",
       "  margin-bottom: 0;\n",
       "  padding: 0.5em;\n",
       "  box-sizing: border-box;\n",
       "  text-align: center;\n",
       "}\n",
       "\n",
       "#sk-container-id-1 label.sk-toggleable__label-arrow:before {\n",
       "  /* Arrow on the left of the label */\n",
       "  content: \"▸\";\n",
       "  float: left;\n",
       "  margin-right: 0.25em;\n",
       "  color: var(--sklearn-color-icon);\n",
       "}\n",
       "\n",
       "#sk-container-id-1 label.sk-toggleable__label-arrow:hover:before {\n",
       "  color: var(--sklearn-color-text);\n",
       "}\n",
       "\n",
       "/* Toggleable content - dropdown */\n",
       "\n",
       "#sk-container-id-1 div.sk-toggleable__content {\n",
       "  max-height: 0;\n",
       "  max-width: 0;\n",
       "  overflow: hidden;\n",
       "  text-align: left;\n",
       "  /* unfitted */\n",
       "  background-color: var(--sklearn-color-unfitted-level-0);\n",
       "}\n",
       "\n",
       "#sk-container-id-1 div.sk-toggleable__content.fitted {\n",
       "  /* fitted */\n",
       "  background-color: var(--sklearn-color-fitted-level-0);\n",
       "}\n",
       "\n",
       "#sk-container-id-1 div.sk-toggleable__content pre {\n",
       "  margin: 0.2em;\n",
       "  border-radius: 0.25em;\n",
       "  color: var(--sklearn-color-text);\n",
       "  /* unfitted */\n",
       "  background-color: var(--sklearn-color-unfitted-level-0);\n",
       "}\n",
       "\n",
       "#sk-container-id-1 div.sk-toggleable__content.fitted pre {\n",
       "  /* unfitted */\n",
       "  background-color: var(--sklearn-color-fitted-level-0);\n",
       "}\n",
       "\n",
       "#sk-container-id-1 input.sk-toggleable__control:checked~div.sk-toggleable__content {\n",
       "  /* Expand drop-down */\n",
       "  max-height: 200px;\n",
       "  max-width: 100%;\n",
       "  overflow: auto;\n",
       "}\n",
       "\n",
       "#sk-container-id-1 input.sk-toggleable__control:checked~label.sk-toggleable__label-arrow:before {\n",
       "  content: \"▾\";\n",
       "}\n",
       "\n",
       "/* Pipeline/ColumnTransformer-specific style */\n",
       "\n",
       "#sk-container-id-1 div.sk-label input.sk-toggleable__control:checked~label.sk-toggleable__label {\n",
       "  color: var(--sklearn-color-text);\n",
       "  background-color: var(--sklearn-color-unfitted-level-2);\n",
       "}\n",
       "\n",
       "#sk-container-id-1 div.sk-label.fitted input.sk-toggleable__control:checked~label.sk-toggleable__label {\n",
       "  background-color: var(--sklearn-color-fitted-level-2);\n",
       "}\n",
       "\n",
       "/* Estimator-specific style */\n",
       "\n",
       "/* Colorize estimator box */\n",
       "#sk-container-id-1 div.sk-estimator input.sk-toggleable__control:checked~label.sk-toggleable__label {\n",
       "  /* unfitted */\n",
       "  background-color: var(--sklearn-color-unfitted-level-2);\n",
       "}\n",
       "\n",
       "#sk-container-id-1 div.sk-estimator.fitted input.sk-toggleable__control:checked~label.sk-toggleable__label {\n",
       "  /* fitted */\n",
       "  background-color: var(--sklearn-color-fitted-level-2);\n",
       "}\n",
       "\n",
       "#sk-container-id-1 div.sk-label label.sk-toggleable__label,\n",
       "#sk-container-id-1 div.sk-label label {\n",
       "  /* The background is the default theme color */\n",
       "  color: var(--sklearn-color-text-on-default-background);\n",
       "}\n",
       "\n",
       "/* On hover, darken the color of the background */\n",
       "#sk-container-id-1 div.sk-label:hover label.sk-toggleable__label {\n",
       "  color: var(--sklearn-color-text);\n",
       "  background-color: var(--sklearn-color-unfitted-level-2);\n",
       "}\n",
       "\n",
       "/* Label box, darken color on hover, fitted */\n",
       "#sk-container-id-1 div.sk-label.fitted:hover label.sk-toggleable__label.fitted {\n",
       "  color: var(--sklearn-color-text);\n",
       "  background-color: var(--sklearn-color-fitted-level-2);\n",
       "}\n",
       "\n",
       "/* Estimator label */\n",
       "\n",
       "#sk-container-id-1 div.sk-label label {\n",
       "  font-family: monospace;\n",
       "  font-weight: bold;\n",
       "  display: inline-block;\n",
       "  line-height: 1.2em;\n",
       "}\n",
       "\n",
       "#sk-container-id-1 div.sk-label-container {\n",
       "  text-align: center;\n",
       "}\n",
       "\n",
       "/* Estimator-specific */\n",
       "#sk-container-id-1 div.sk-estimator {\n",
       "  font-family: monospace;\n",
       "  border: 1px dotted var(--sklearn-color-border-box);\n",
       "  border-radius: 0.25em;\n",
       "  box-sizing: border-box;\n",
       "  margin-bottom: 0.5em;\n",
       "  /* unfitted */\n",
       "  background-color: var(--sklearn-color-unfitted-level-0);\n",
       "}\n",
       "\n",
       "#sk-container-id-1 div.sk-estimator.fitted {\n",
       "  /* fitted */\n",
       "  background-color: var(--sklearn-color-fitted-level-0);\n",
       "}\n",
       "\n",
       "/* on hover */\n",
       "#sk-container-id-1 div.sk-estimator:hover {\n",
       "  /* unfitted */\n",
       "  background-color: var(--sklearn-color-unfitted-level-2);\n",
       "}\n",
       "\n",
       "#sk-container-id-1 div.sk-estimator.fitted:hover {\n",
       "  /* fitted */\n",
       "  background-color: var(--sklearn-color-fitted-level-2);\n",
       "}\n",
       "\n",
       "/* Specification for estimator info (e.g. \"i\" and \"?\") */\n",
       "\n",
       "/* Common style for \"i\" and \"?\" */\n",
       "\n",
       ".sk-estimator-doc-link,\n",
       "a:link.sk-estimator-doc-link,\n",
       "a:visited.sk-estimator-doc-link {\n",
       "  float: right;\n",
       "  font-size: smaller;\n",
       "  line-height: 1em;\n",
       "  font-family: monospace;\n",
       "  background-color: var(--sklearn-color-background);\n",
       "  border-radius: 1em;\n",
       "  height: 1em;\n",
       "  width: 1em;\n",
       "  text-decoration: none !important;\n",
       "  margin-left: 1ex;\n",
       "  /* unfitted */\n",
       "  border: var(--sklearn-color-unfitted-level-1) 1pt solid;\n",
       "  color: var(--sklearn-color-unfitted-level-1);\n",
       "}\n",
       "\n",
       ".sk-estimator-doc-link.fitted,\n",
       "a:link.sk-estimator-doc-link.fitted,\n",
       "a:visited.sk-estimator-doc-link.fitted {\n",
       "  /* fitted */\n",
       "  border: var(--sklearn-color-fitted-level-1) 1pt solid;\n",
       "  color: var(--sklearn-color-fitted-level-1);\n",
       "}\n",
       "\n",
       "/* On hover */\n",
       "div.sk-estimator:hover .sk-estimator-doc-link:hover,\n",
       ".sk-estimator-doc-link:hover,\n",
       "div.sk-label-container:hover .sk-estimator-doc-link:hover,\n",
       ".sk-estimator-doc-link:hover {\n",
       "  /* unfitted */\n",
       "  background-color: var(--sklearn-color-unfitted-level-3);\n",
       "  color: var(--sklearn-color-background);\n",
       "  text-decoration: none;\n",
       "}\n",
       "\n",
       "div.sk-estimator.fitted:hover .sk-estimator-doc-link.fitted:hover,\n",
       ".sk-estimator-doc-link.fitted:hover,\n",
       "div.sk-label-container:hover .sk-estimator-doc-link.fitted:hover,\n",
       ".sk-estimator-doc-link.fitted:hover {\n",
       "  /* fitted */\n",
       "  background-color: var(--sklearn-color-fitted-level-3);\n",
       "  color: var(--sklearn-color-background);\n",
       "  text-decoration: none;\n",
       "}\n",
       "\n",
       "/* Span, style for the box shown on hovering the info icon */\n",
       ".sk-estimator-doc-link span {\n",
       "  display: none;\n",
       "  z-index: 9999;\n",
       "  position: relative;\n",
       "  font-weight: normal;\n",
       "  right: .2ex;\n",
       "  padding: .5ex;\n",
       "  margin: .5ex;\n",
       "  width: min-content;\n",
       "  min-width: 20ex;\n",
       "  max-width: 50ex;\n",
       "  color: var(--sklearn-color-text);\n",
       "  box-shadow: 2pt 2pt 4pt #999;\n",
       "  /* unfitted */\n",
       "  background: var(--sklearn-color-unfitted-level-0);\n",
       "  border: .5pt solid var(--sklearn-color-unfitted-level-3);\n",
       "}\n",
       "\n",
       ".sk-estimator-doc-link.fitted span {\n",
       "  /* fitted */\n",
       "  background: var(--sklearn-color-fitted-level-0);\n",
       "  border: var(--sklearn-color-fitted-level-3);\n",
       "}\n",
       "\n",
       ".sk-estimator-doc-link:hover span {\n",
       "  display: block;\n",
       "}\n",
       "\n",
       "/* \"?\"-specific style due to the `<a>` HTML tag */\n",
       "\n",
       "#sk-container-id-1 a.estimator_doc_link {\n",
       "  float: right;\n",
       "  font-size: 1rem;\n",
       "  line-height: 1em;\n",
       "  font-family: monospace;\n",
       "  background-color: var(--sklearn-color-background);\n",
       "  border-radius: 1rem;\n",
       "  height: 1rem;\n",
       "  width: 1rem;\n",
       "  text-decoration: none;\n",
       "  /* unfitted */\n",
       "  color: var(--sklearn-color-unfitted-level-1);\n",
       "  border: var(--sklearn-color-unfitted-level-1) 1pt solid;\n",
       "}\n",
       "\n",
       "#sk-container-id-1 a.estimator_doc_link.fitted {\n",
       "  /* fitted */\n",
       "  border: var(--sklearn-color-fitted-level-1) 1pt solid;\n",
       "  color: var(--sklearn-color-fitted-level-1);\n",
       "}\n",
       "\n",
       "/* On hover */\n",
       "#sk-container-id-1 a.estimator_doc_link:hover {\n",
       "  /* unfitted */\n",
       "  background-color: var(--sklearn-color-unfitted-level-3);\n",
       "  color: var(--sklearn-color-background);\n",
       "  text-decoration: none;\n",
       "}\n",
       "\n",
       "#sk-container-id-1 a.estimator_doc_link.fitted:hover {\n",
       "  /* fitted */\n",
       "  background-color: var(--sklearn-color-fitted-level-3);\n",
       "}\n",
       "</style><div id=\"sk-container-id-1\" class=\"sk-top-container\"><div class=\"sk-text-repr-fallback\"><pre>LinearRegression(n_jobs=-1)</pre><b>In a Jupyter environment, please rerun this cell to show the HTML representation or trust the notebook. <br />On GitHub, the HTML representation is unable to render, please try loading this page with nbviewer.org.</b></div><div class=\"sk-container\" hidden><div class=\"sk-item\"><div class=\"sk-estimator  sk-toggleable\"><input class=\"sk-toggleable__control sk-hidden--visually\" id=\"sk-estimator-id-1\" type=\"checkbox\" checked><label for=\"sk-estimator-id-1\" class=\"sk-toggleable__label  sk-toggleable__label-arrow \">&nbsp;&nbsp;LinearRegression<a class=\"sk-estimator-doc-link \" rel=\"noreferrer\" target=\"_blank\" href=\"https://scikit-learn.org/1.4/modules/generated/sklearn.linear_model.LinearRegression.html\">?<span>Documentation for LinearRegression</span></a><span class=\"sk-estimator-doc-link \">i<span>Not fitted</span></span></label><div class=\"sk-toggleable__content \"><pre>LinearRegression(n_jobs=-1)</pre></div> </div></div></div></div>"
      ],
      "text/plain": [
       "LinearRegression(n_jobs=-1)"
      ]
     },
     "execution_count": 18,
     "metadata": {},
     "output_type": "execute_result"
    }
   ],
   "source": [
    "# Initialize the LinearRegression model\n",
    "md1 = LinearRegression(n_jobs=-1)\n",
    "md1"
   ]
  },
  {
   "cell_type": "code",
   "execution_count": 19,
   "id": "f23c0d34-43c9-44ea-970f-7dfc6b68d865",
   "metadata": {},
   "outputs": [
    {
     "data": {
      "text/html": [
       "<style>#sk-container-id-2 {\n",
       "  /* Definition of color scheme common for light and dark mode */\n",
       "  --sklearn-color-text: black;\n",
       "  --sklearn-color-line: gray;\n",
       "  /* Definition of color scheme for unfitted estimators */\n",
       "  --sklearn-color-unfitted-level-0: #fff5e6;\n",
       "  --sklearn-color-unfitted-level-1: #f6e4d2;\n",
       "  --sklearn-color-unfitted-level-2: #ffe0b3;\n",
       "  --sklearn-color-unfitted-level-3: chocolate;\n",
       "  /* Definition of color scheme for fitted estimators */\n",
       "  --sklearn-color-fitted-level-0: #f0f8ff;\n",
       "  --sklearn-color-fitted-level-1: #d4ebff;\n",
       "  --sklearn-color-fitted-level-2: #b3dbfd;\n",
       "  --sklearn-color-fitted-level-3: cornflowerblue;\n",
       "\n",
       "  /* Specific color for light theme */\n",
       "  --sklearn-color-text-on-default-background: var(--sg-text-color, var(--theme-code-foreground, var(--jp-content-font-color1, black)));\n",
       "  --sklearn-color-background: var(--sg-background-color, var(--theme-background, var(--jp-layout-color0, white)));\n",
       "  --sklearn-color-border-box: var(--sg-text-color, var(--theme-code-foreground, var(--jp-content-font-color1, black)));\n",
       "  --sklearn-color-icon: #696969;\n",
       "\n",
       "  @media (prefers-color-scheme: dark) {\n",
       "    /* Redefinition of color scheme for dark theme */\n",
       "    --sklearn-color-text-on-default-background: var(--sg-text-color, var(--theme-code-foreground, var(--jp-content-font-color1, white)));\n",
       "    --sklearn-color-background: var(--sg-background-color, var(--theme-background, var(--jp-layout-color0, #111)));\n",
       "    --sklearn-color-border-box: var(--sg-text-color, var(--theme-code-foreground, var(--jp-content-font-color1, white)));\n",
       "    --sklearn-color-icon: #878787;\n",
       "  }\n",
       "}\n",
       "\n",
       "#sk-container-id-2 {\n",
       "  color: var(--sklearn-color-text);\n",
       "}\n",
       "\n",
       "#sk-container-id-2 pre {\n",
       "  padding: 0;\n",
       "}\n",
       "\n",
       "#sk-container-id-2 input.sk-hidden--visually {\n",
       "  border: 0;\n",
       "  clip: rect(1px 1px 1px 1px);\n",
       "  clip: rect(1px, 1px, 1px, 1px);\n",
       "  height: 1px;\n",
       "  margin: -1px;\n",
       "  overflow: hidden;\n",
       "  padding: 0;\n",
       "  position: absolute;\n",
       "  width: 1px;\n",
       "}\n",
       "\n",
       "#sk-container-id-2 div.sk-dashed-wrapped {\n",
       "  border: 1px dashed var(--sklearn-color-line);\n",
       "  margin: 0 0.4em 0.5em 0.4em;\n",
       "  box-sizing: border-box;\n",
       "  padding-bottom: 0.4em;\n",
       "  background-color: var(--sklearn-color-background);\n",
       "}\n",
       "\n",
       "#sk-container-id-2 div.sk-container {\n",
       "  /* jupyter's `normalize.less` sets `[hidden] { display: none; }`\n",
       "     but bootstrap.min.css set `[hidden] { display: none !important; }`\n",
       "     so we also need the `!important` here to be able to override the\n",
       "     default hidden behavior on the sphinx rendered scikit-learn.org.\n",
       "     See: https://github.com/scikit-learn/scikit-learn/issues/21755 */\n",
       "  display: inline-block !important;\n",
       "  position: relative;\n",
       "}\n",
       "\n",
       "#sk-container-id-2 div.sk-text-repr-fallback {\n",
       "  display: none;\n",
       "}\n",
       "\n",
       "div.sk-parallel-item,\n",
       "div.sk-serial,\n",
       "div.sk-item {\n",
       "  /* draw centered vertical line to link estimators */\n",
       "  background-image: linear-gradient(var(--sklearn-color-text-on-default-background), var(--sklearn-color-text-on-default-background));\n",
       "  background-size: 2px 100%;\n",
       "  background-repeat: no-repeat;\n",
       "  background-position: center center;\n",
       "}\n",
       "\n",
       "/* Parallel-specific style estimator block */\n",
       "\n",
       "#sk-container-id-2 div.sk-parallel-item::after {\n",
       "  content: \"\";\n",
       "  width: 100%;\n",
       "  border-bottom: 2px solid var(--sklearn-color-text-on-default-background);\n",
       "  flex-grow: 1;\n",
       "}\n",
       "\n",
       "#sk-container-id-2 div.sk-parallel {\n",
       "  display: flex;\n",
       "  align-items: stretch;\n",
       "  justify-content: center;\n",
       "  background-color: var(--sklearn-color-background);\n",
       "  position: relative;\n",
       "}\n",
       "\n",
       "#sk-container-id-2 div.sk-parallel-item {\n",
       "  display: flex;\n",
       "  flex-direction: column;\n",
       "}\n",
       "\n",
       "#sk-container-id-2 div.sk-parallel-item:first-child::after {\n",
       "  align-self: flex-end;\n",
       "  width: 50%;\n",
       "}\n",
       "\n",
       "#sk-container-id-2 div.sk-parallel-item:last-child::after {\n",
       "  align-self: flex-start;\n",
       "  width: 50%;\n",
       "}\n",
       "\n",
       "#sk-container-id-2 div.sk-parallel-item:only-child::after {\n",
       "  width: 0;\n",
       "}\n",
       "\n",
       "/* Serial-specific style estimator block */\n",
       "\n",
       "#sk-container-id-2 div.sk-serial {\n",
       "  display: flex;\n",
       "  flex-direction: column;\n",
       "  align-items: center;\n",
       "  background-color: var(--sklearn-color-background);\n",
       "  padding-right: 1em;\n",
       "  padding-left: 1em;\n",
       "}\n",
       "\n",
       "\n",
       "/* Toggleable style: style used for estimator/Pipeline/ColumnTransformer box that is\n",
       "clickable and can be expanded/collapsed.\n",
       "- Pipeline and ColumnTransformer use this feature and define the default style\n",
       "- Estimators will overwrite some part of the style using the `sk-estimator` class\n",
       "*/\n",
       "\n",
       "/* Pipeline and ColumnTransformer style (default) */\n",
       "\n",
       "#sk-container-id-2 div.sk-toggleable {\n",
       "  /* Default theme specific background. It is overwritten whether we have a\n",
       "  specific estimator or a Pipeline/ColumnTransformer */\n",
       "  background-color: var(--sklearn-color-background);\n",
       "}\n",
       "\n",
       "/* Toggleable label */\n",
       "#sk-container-id-2 label.sk-toggleable__label {\n",
       "  cursor: pointer;\n",
       "  display: block;\n",
       "  width: 100%;\n",
       "  margin-bottom: 0;\n",
       "  padding: 0.5em;\n",
       "  box-sizing: border-box;\n",
       "  text-align: center;\n",
       "}\n",
       "\n",
       "#sk-container-id-2 label.sk-toggleable__label-arrow:before {\n",
       "  /* Arrow on the left of the label */\n",
       "  content: \"▸\";\n",
       "  float: left;\n",
       "  margin-right: 0.25em;\n",
       "  color: var(--sklearn-color-icon);\n",
       "}\n",
       "\n",
       "#sk-container-id-2 label.sk-toggleable__label-arrow:hover:before {\n",
       "  color: var(--sklearn-color-text);\n",
       "}\n",
       "\n",
       "/* Toggleable content - dropdown */\n",
       "\n",
       "#sk-container-id-2 div.sk-toggleable__content {\n",
       "  max-height: 0;\n",
       "  max-width: 0;\n",
       "  overflow: hidden;\n",
       "  text-align: left;\n",
       "  /* unfitted */\n",
       "  background-color: var(--sklearn-color-unfitted-level-0);\n",
       "}\n",
       "\n",
       "#sk-container-id-2 div.sk-toggleable__content.fitted {\n",
       "  /* fitted */\n",
       "  background-color: var(--sklearn-color-fitted-level-0);\n",
       "}\n",
       "\n",
       "#sk-container-id-2 div.sk-toggleable__content pre {\n",
       "  margin: 0.2em;\n",
       "  border-radius: 0.25em;\n",
       "  color: var(--sklearn-color-text);\n",
       "  /* unfitted */\n",
       "  background-color: var(--sklearn-color-unfitted-level-0);\n",
       "}\n",
       "\n",
       "#sk-container-id-2 div.sk-toggleable__content.fitted pre {\n",
       "  /* unfitted */\n",
       "  background-color: var(--sklearn-color-fitted-level-0);\n",
       "}\n",
       "\n",
       "#sk-container-id-2 input.sk-toggleable__control:checked~div.sk-toggleable__content {\n",
       "  /* Expand drop-down */\n",
       "  max-height: 200px;\n",
       "  max-width: 100%;\n",
       "  overflow: auto;\n",
       "}\n",
       "\n",
       "#sk-container-id-2 input.sk-toggleable__control:checked~label.sk-toggleable__label-arrow:before {\n",
       "  content: \"▾\";\n",
       "}\n",
       "\n",
       "/* Pipeline/ColumnTransformer-specific style */\n",
       "\n",
       "#sk-container-id-2 div.sk-label input.sk-toggleable__control:checked~label.sk-toggleable__label {\n",
       "  color: var(--sklearn-color-text);\n",
       "  background-color: var(--sklearn-color-unfitted-level-2);\n",
       "}\n",
       "\n",
       "#sk-container-id-2 div.sk-label.fitted input.sk-toggleable__control:checked~label.sk-toggleable__label {\n",
       "  background-color: var(--sklearn-color-fitted-level-2);\n",
       "}\n",
       "\n",
       "/* Estimator-specific style */\n",
       "\n",
       "/* Colorize estimator box */\n",
       "#sk-container-id-2 div.sk-estimator input.sk-toggleable__control:checked~label.sk-toggleable__label {\n",
       "  /* unfitted */\n",
       "  background-color: var(--sklearn-color-unfitted-level-2);\n",
       "}\n",
       "\n",
       "#sk-container-id-2 div.sk-estimator.fitted input.sk-toggleable__control:checked~label.sk-toggleable__label {\n",
       "  /* fitted */\n",
       "  background-color: var(--sklearn-color-fitted-level-2);\n",
       "}\n",
       "\n",
       "#sk-container-id-2 div.sk-label label.sk-toggleable__label,\n",
       "#sk-container-id-2 div.sk-label label {\n",
       "  /* The background is the default theme color */\n",
       "  color: var(--sklearn-color-text-on-default-background);\n",
       "}\n",
       "\n",
       "/* On hover, darken the color of the background */\n",
       "#sk-container-id-2 div.sk-label:hover label.sk-toggleable__label {\n",
       "  color: var(--sklearn-color-text);\n",
       "  background-color: var(--sklearn-color-unfitted-level-2);\n",
       "}\n",
       "\n",
       "/* Label box, darken color on hover, fitted */\n",
       "#sk-container-id-2 div.sk-label.fitted:hover label.sk-toggleable__label.fitted {\n",
       "  color: var(--sklearn-color-text);\n",
       "  background-color: var(--sklearn-color-fitted-level-2);\n",
       "}\n",
       "\n",
       "/* Estimator label */\n",
       "\n",
       "#sk-container-id-2 div.sk-label label {\n",
       "  font-family: monospace;\n",
       "  font-weight: bold;\n",
       "  display: inline-block;\n",
       "  line-height: 1.2em;\n",
       "}\n",
       "\n",
       "#sk-container-id-2 div.sk-label-container {\n",
       "  text-align: center;\n",
       "}\n",
       "\n",
       "/* Estimator-specific */\n",
       "#sk-container-id-2 div.sk-estimator {\n",
       "  font-family: monospace;\n",
       "  border: 1px dotted var(--sklearn-color-border-box);\n",
       "  border-radius: 0.25em;\n",
       "  box-sizing: border-box;\n",
       "  margin-bottom: 0.5em;\n",
       "  /* unfitted */\n",
       "  background-color: var(--sklearn-color-unfitted-level-0);\n",
       "}\n",
       "\n",
       "#sk-container-id-2 div.sk-estimator.fitted {\n",
       "  /* fitted */\n",
       "  background-color: var(--sklearn-color-fitted-level-0);\n",
       "}\n",
       "\n",
       "/* on hover */\n",
       "#sk-container-id-2 div.sk-estimator:hover {\n",
       "  /* unfitted */\n",
       "  background-color: var(--sklearn-color-unfitted-level-2);\n",
       "}\n",
       "\n",
       "#sk-container-id-2 div.sk-estimator.fitted:hover {\n",
       "  /* fitted */\n",
       "  background-color: var(--sklearn-color-fitted-level-2);\n",
       "}\n",
       "\n",
       "/* Specification for estimator info (e.g. \"i\" and \"?\") */\n",
       "\n",
       "/* Common style for \"i\" and \"?\" */\n",
       "\n",
       ".sk-estimator-doc-link,\n",
       "a:link.sk-estimator-doc-link,\n",
       "a:visited.sk-estimator-doc-link {\n",
       "  float: right;\n",
       "  font-size: smaller;\n",
       "  line-height: 1em;\n",
       "  font-family: monospace;\n",
       "  background-color: var(--sklearn-color-background);\n",
       "  border-radius: 1em;\n",
       "  height: 1em;\n",
       "  width: 1em;\n",
       "  text-decoration: none !important;\n",
       "  margin-left: 1ex;\n",
       "  /* unfitted */\n",
       "  border: var(--sklearn-color-unfitted-level-1) 1pt solid;\n",
       "  color: var(--sklearn-color-unfitted-level-1);\n",
       "}\n",
       "\n",
       ".sk-estimator-doc-link.fitted,\n",
       "a:link.sk-estimator-doc-link.fitted,\n",
       "a:visited.sk-estimator-doc-link.fitted {\n",
       "  /* fitted */\n",
       "  border: var(--sklearn-color-fitted-level-1) 1pt solid;\n",
       "  color: var(--sklearn-color-fitted-level-1);\n",
       "}\n",
       "\n",
       "/* On hover */\n",
       "div.sk-estimator:hover .sk-estimator-doc-link:hover,\n",
       ".sk-estimator-doc-link:hover,\n",
       "div.sk-label-container:hover .sk-estimator-doc-link:hover,\n",
       ".sk-estimator-doc-link:hover {\n",
       "  /* unfitted */\n",
       "  background-color: var(--sklearn-color-unfitted-level-3);\n",
       "  color: var(--sklearn-color-background);\n",
       "  text-decoration: none;\n",
       "}\n",
       "\n",
       "div.sk-estimator.fitted:hover .sk-estimator-doc-link.fitted:hover,\n",
       ".sk-estimator-doc-link.fitted:hover,\n",
       "div.sk-label-container:hover .sk-estimator-doc-link.fitted:hover,\n",
       ".sk-estimator-doc-link.fitted:hover {\n",
       "  /* fitted */\n",
       "  background-color: var(--sklearn-color-fitted-level-3);\n",
       "  color: var(--sklearn-color-background);\n",
       "  text-decoration: none;\n",
       "}\n",
       "\n",
       "/* Span, style for the box shown on hovering the info icon */\n",
       ".sk-estimator-doc-link span {\n",
       "  display: none;\n",
       "  z-index: 9999;\n",
       "  position: relative;\n",
       "  font-weight: normal;\n",
       "  right: .2ex;\n",
       "  padding: .5ex;\n",
       "  margin: .5ex;\n",
       "  width: min-content;\n",
       "  min-width: 20ex;\n",
       "  max-width: 50ex;\n",
       "  color: var(--sklearn-color-text);\n",
       "  box-shadow: 2pt 2pt 4pt #999;\n",
       "  /* unfitted */\n",
       "  background: var(--sklearn-color-unfitted-level-0);\n",
       "  border: .5pt solid var(--sklearn-color-unfitted-level-3);\n",
       "}\n",
       "\n",
       ".sk-estimator-doc-link.fitted span {\n",
       "  /* fitted */\n",
       "  background: var(--sklearn-color-fitted-level-0);\n",
       "  border: var(--sklearn-color-fitted-level-3);\n",
       "}\n",
       "\n",
       ".sk-estimator-doc-link:hover span {\n",
       "  display: block;\n",
       "}\n",
       "\n",
       "/* \"?\"-specific style due to the `<a>` HTML tag */\n",
       "\n",
       "#sk-container-id-2 a.estimator_doc_link {\n",
       "  float: right;\n",
       "  font-size: 1rem;\n",
       "  line-height: 1em;\n",
       "  font-family: monospace;\n",
       "  background-color: var(--sklearn-color-background);\n",
       "  border-radius: 1rem;\n",
       "  height: 1rem;\n",
       "  width: 1rem;\n",
       "  text-decoration: none;\n",
       "  /* unfitted */\n",
       "  color: var(--sklearn-color-unfitted-level-1);\n",
       "  border: var(--sklearn-color-unfitted-level-1) 1pt solid;\n",
       "}\n",
       "\n",
       "#sk-container-id-2 a.estimator_doc_link.fitted {\n",
       "  /* fitted */\n",
       "  border: var(--sklearn-color-fitted-level-1) 1pt solid;\n",
       "  color: var(--sklearn-color-fitted-level-1);\n",
       "}\n",
       "\n",
       "/* On hover */\n",
       "#sk-container-id-2 a.estimator_doc_link:hover {\n",
       "  /* unfitted */\n",
       "  background-color: var(--sklearn-color-unfitted-level-3);\n",
       "  color: var(--sklearn-color-background);\n",
       "  text-decoration: none;\n",
       "}\n",
       "\n",
       "#sk-container-id-2 a.estimator_doc_link.fitted:hover {\n",
       "  /* fitted */\n",
       "  background-color: var(--sklearn-color-fitted-level-3);\n",
       "}\n",
       "</style><div id=\"sk-container-id-2\" class=\"sk-top-container\"><div class=\"sk-text-repr-fallback\"><pre>LinearRegression(n_jobs=-1)</pre><b>In a Jupyter environment, please rerun this cell to show the HTML representation or trust the notebook. <br />On GitHub, the HTML representation is unable to render, please try loading this page with nbviewer.org.</b></div><div class=\"sk-container\" hidden><div class=\"sk-item\"><div class=\"sk-estimator fitted sk-toggleable\"><input class=\"sk-toggleable__control sk-hidden--visually\" id=\"sk-estimator-id-2\" type=\"checkbox\" checked><label for=\"sk-estimator-id-2\" class=\"sk-toggleable__label fitted sk-toggleable__label-arrow fitted\">&nbsp;&nbsp;LinearRegression<a class=\"sk-estimator-doc-link fitted\" rel=\"noreferrer\" target=\"_blank\" href=\"https://scikit-learn.org/1.4/modules/generated/sklearn.linear_model.LinearRegression.html\">?<span>Documentation for LinearRegression</span></a><span class=\"sk-estimator-doc-link fitted\">i<span>Fitted</span></span></label><div class=\"sk-toggleable__content fitted\"><pre>LinearRegression(n_jobs=-1)</pre></div> </div></div></div></div>"
      ],
      "text/plain": [
       "LinearRegression(n_jobs=-1)"
      ]
     },
     "execution_count": 19,
     "metadata": {},
     "output_type": "execute_result"
    }
   ],
   "source": [
    "# Train the model\n",
    "md1.fit(X_train, y_train)"
   ]
  },
  {
   "cell_type": "markdown",
   "id": "bd1ef632-96da-4fd4-918d-b2eed368278d",
   "metadata": {},
   "source": [
    "## Predict y-hat"
   ]
  },
  {
   "cell_type": "code",
   "execution_count": 20,
   "id": "8a09dd09-d631-420e-9ca7-f946d19d680b",
   "metadata": {},
   "outputs": [
    {
     "data": {
      "text/plain": [
       "51"
      ]
     },
     "execution_count": 20,
     "metadata": {},
     "output_type": "execute_result"
    }
   ],
   "source": [
    "# Assigning y_hat variable\n",
    "y_hat = md1.predict(X_test)\n",
    "len(y_hat)\n"
   ]
  },
  {
   "cell_type": "code",
   "execution_count": 21,
   "id": "1b70c1ef-e160-4207-a861-c6e8c2b5ac4e",
   "metadata": {},
   "outputs": [
    {
     "data": {
      "text/plain": [
       "array([ 9.96937445e+02,  5.86670727e+02,  1.27949652e+03,  4.43184905e+00,\n",
       "        2.84606847e+02,  4.95639584e+01,  2.66182236e+01,  9.73265098e+01,\n",
       "        6.95297982e+02,  1.77168486e+01,  2.42936996e+01,  5.27277930e+01,\n",
       "        6.73827887e+02,  5.56960693e+00,  1.82627541e+00,  2.48260271e+02,\n",
       "        5.54580954e+02,  1.26962700e+03,  6.66940240e+02,  2.22070312e+01,\n",
       "        5.08142663e+01,  3.23019881e+02,  3.42615505e+01,  1.27747062e+03,\n",
       "        3.62419130e+01,  3.02107839e+02,  3.49329010e+01,  2.25072145e+01,\n",
       "        3.79221498e+01,  1.33056081e+01,  1.12098525e+01,  3.61762248e+02,\n",
       "        1.45113993e+02,  8.59500984e+01,  2.54185089e+02,  2.08286094e+01,\n",
       "        4.87932259e+02,  3.29345006e+02,  1.34578227e+01,  1.06860651e+03,\n",
       "        6.83596421e+02,  4.21871070e+01,  1.99771174e+02,  2.68940669e+03,\n",
       "        4.71863096e+01,  8.68136771e+00,  9.48239617e+02,  3.16777996e+02,\n",
       "        1.73929824e+02,  1.27746941e+03,  1.96592000e+03,  1.03200363e+03,\n",
       "        6.54107447e+02,  5.24387437e+01,  6.00921453e+00,  3.47461647e+02,\n",
       "        6.80493008e+00,  7.89107634e+02,  4.71675037e+01,  1.09515751e+01,\n",
       "        9.77221727e+01,  9.73259045e+01,  9.46139253e+00,  4.05906526e+01,\n",
       "        5.55934112e+00,  3.44292650e+01,  2.98605031e+01,  6.16878080e+02,\n",
       "        7.30302215e+00,  4.08625307e+02,  2.02041584e+02,  7.79325001e+02,\n",
       "        8.94324610e+02,  3.85551067e+02,  4.96759300e+01,  1.93427342e+03,\n",
       "        1.46246971e+01,  1.39626632e+03,  2.61250385e+03,  7.48372258e+02,\n",
       "        1.61795144e+03,  3.91148328e+01,  6.69843039e+02,  3.78600320e+02,\n",
       "        6.78252847e+02,  8.88825856e+02,  2.68940790e+03, -1.15650651e+00,\n",
       "        1.22889761e+03,  5.22519586e+01,  1.09502832e+03,  1.35038792e+03,\n",
       "        4.76741362e+01,  3.55190257e+02,  1.03172119e+01,  2.51004950e+03,\n",
       "        1.96431582e+03,  1.85643607e+02,  1.55293974e+01,  1.95918343e+03,\n",
       "       -1.96579225e-01,  5.14608607e+01,  6.75320314e+02,  1.79543792e+02,\n",
       "        8.39351902e+02,  1.02349865e+03,  6.21379516e+02,  2.56793352e+01,\n",
       "        3.10882177e+02,  5.37941371e+01,  3.00516766e+02,  1.18628155e+03,\n",
       "        7.98720286e+00,  2.98611084e+01,  1.19062478e+03,  1.38290941e+03,\n",
       "        4.19773729e+02,  8.61642141e+02])"
      ]
     },
     "execution_count": 21,
     "metadata": {},
     "output_type": "execute_result"
    }
   ],
   "source": [
    "y_pred = md1.predict(X_train)\n",
    "y_pred"
   ]
  },
  {
   "cell_type": "markdown",
   "id": "fa40d458-1df8-483f-8ea1-921f52f3628d",
   "metadata": {},
   "source": [
    "## Evaluating residuals "
   ]
  },
  {
   "cell_type": "code",
   "execution_count": 22,
   "id": "7d649400-b2b3-42fa-9455-0252e1eb28b9",
   "metadata": {},
   "outputs": [
    {
     "data": {
      "text/html": [
       "<div>\n",
       "<style scoped>\n",
       "    .dataframe tbody tr th:only-of-type {\n",
       "        vertical-align: middle;\n",
       "    }\n",
       "\n",
       "    .dataframe tbody tr th {\n",
       "        vertical-align: top;\n",
       "    }\n",
       "\n",
       "    .dataframe thead th {\n",
       "        text-align: right;\n",
       "    }\n",
       "</style>\n",
       "<table border=\"1\" class=\"dataframe\">\n",
       "  <thead>\n",
       "    <tr style=\"text-align: right;\">\n",
       "      <th></th>\n",
       "      <th>Actuals</th>\n",
       "      <th>Preds</th>\n",
       "      <th>abs_diff</th>\n",
       "      <th>residuals</th>\n",
       "    </tr>\n",
       "  </thead>\n",
       "  <tbody>\n",
       "    <tr>\n",
       "      <th>138</th>\n",
       "      <td>672.3000</td>\n",
       "      <td>672.367145</td>\n",
       "      <td>0.067145</td>\n",
       "      <td>-0.067145</td>\n",
       "    </tr>\n",
       "    <tr>\n",
       "      <th>30</th>\n",
       "      <td>1.4000</td>\n",
       "      <td>1.513520</td>\n",
       "      <td>0.113520</td>\n",
       "      <td>-0.113520</td>\n",
       "    </tr>\n",
       "    <tr>\n",
       "      <th>119</th>\n",
       "      <td>117.7125</td>\n",
       "      <td>117.567840</td>\n",
       "      <td>0.144660</td>\n",
       "      <td>0.144660</td>\n",
       "    </tr>\n",
       "    <tr>\n",
       "      <th>29</th>\n",
       "      <td>1.0000</td>\n",
       "      <td>1.220262</td>\n",
       "      <td>0.220262</td>\n",
       "      <td>-0.220262</td>\n",
       "    </tr>\n",
       "    <tr>\n",
       "      <th>143</th>\n",
       "      <td>708.1000</td>\n",
       "      <td>708.069045</td>\n",
       "      <td>0.030955</td>\n",
       "      <td>0.030955</td>\n",
       "    </tr>\n",
       "  </tbody>\n",
       "</table>\n",
       "</div>"
      ],
      "text/plain": [
       "      Actuals       Preds  abs_diff  residuals\n",
       "138  672.3000  672.367145  0.067145  -0.067145\n",
       "30     1.4000    1.513520  0.113520  -0.113520\n",
       "119  117.7125  117.567840  0.144660   0.144660\n",
       "29     1.0000    1.220262  0.220262  -0.220262\n",
       "143  708.1000  708.069045  0.030955   0.030955"
      ]
     },
     "execution_count": 22,
     "metadata": {},
     "output_type": "execute_result"
    }
   ],
   "source": [
    "eval_df = pd.DataFrame({'Actuals': y_test, 'Preds': y_hat})\n",
    "eval_df['abs_diff'] = np.abs(eval_df['Actuals'] - eval_df['Preds'])\n",
    "eval_df['residuals'] = eval_df['Actuals'] - eval_df['Preds']\n",
    "eval_df.head()"
   ]
  },
  {
   "cell_type": "markdown",
   "id": "1b964b35-7761-4f3c-b75a-34f1a4e92124",
   "metadata": {},
   "source": [
    "## Mean Absolute Error (MAE)"
   ]
  },
  {
   "cell_type": "code",
   "execution_count": 23,
   "id": "1160aca9-2ec9-473d-81c2-f9b62e1a001b",
   "metadata": {},
   "outputs": [
    {
     "name": "stdout",
     "output_type": "stream",
     "text": [
      "The MAE of the LinearRegression model: 0.06 \n",
      "Unformated Value: 0.057864218422024764\n"
     ]
    }
   ],
   "source": [
    "# how far off on avg?\n",
    "mae = mean_absolute_error(y_test, y_hat)\n",
    "print(f\"The MAE of the {md1_selected} model: {mae:.2f} \\nUnformated Value: {mae}\")"
   ]
  },
  {
   "cell_type": "markdown",
   "id": "76cf23d8-18b2-4135-821d-e2019c480a8c",
   "metadata": {},
   "source": [
    "## Predict Root Mean Squared Error (RMSE)"
   ]
  },
  {
   "cell_type": "code",
   "execution_count": 24,
   "id": "d09ccd0d-50ed-4fe0-bee0-f3cc3f55050c",
   "metadata": {},
   "outputs": [
    {
     "name": "stdout",
     "output_type": "stream",
     "text": [
      "The RMSE of the LinearRegression model: 0.08\n",
      "Unformated Value: 0.079068170080318\n"
     ]
    }
   ],
   "source": [
    "#  now take into account a few points being far off ....\n",
    "# RMSE - analogous to std of your predictions...\n",
    "rmse = np.sqrt(mean_squared_error(y_test, y_hat))\n",
    "print(f\"The RMSE of the {md1_selected} model: {rmse:.2f}\\nUnformated Value: {rmse}\")"
   ]
  },
  {
   "cell_type": "markdown",
   "id": "b4b0556f-2027-4bf9-af18-cd3780f4d66a",
   "metadata": {},
   "source": [
    "## Coefficient of Determination (R2) and Adjusted-(R2)"
   ]
  },
  {
   "cell_type": "code",
   "execution_count": 25,
   "id": "a1da9b60-3604-47ff-b846-18e6db63e67d",
   "metadata": {},
   "outputs": [
    {
     "name": "stdout",
     "output_type": "stream",
     "text": [
      "The r-squared of the LinearRegression model: 1.00 \n",
      "Unformated value:0.9999999835527777\n"
     ]
    }
   ],
   "source": [
    "# coffiecient of determination\n",
    "r2 = r2_score(y_test,y_hat)\n",
    "print( f\"The r-squared of the {md1_selected} model: {r2:.2f} \\nUnformated value:{r2}\")\n"
   ]
  },
  {
   "cell_type": "code",
   "execution_count": 26,
   "id": "cb09b05b-c933-49d8-9e1e-16df2532259e",
   "metadata": {},
   "outputs": [
    {
     "name": "stdout",
     "output_type": "stream",
     "text": [
      "The adjusted r-squared of the LinearRegression model: 1.00 \n",
      "Unformatted value: 0.9999999706299603\n"
     ]
    }
   ],
   "source": [
    "# Applying my saved function\n",
    "adj_r2 = myfuns.adj_r2(r2, len(y_test), X_test.shape[1])\n",
    "\n",
    "print(f\"The adjusted r-squared of the {md1_selected} model: {adj_r2:.2f} \\nUnformatted value: {adj_r2}\")\n"
   ]
  },
  {
   "cell_type": "code",
   "execution_count": 27,
   "id": "ac2d832f-4a1f-4fbe-9a15-4dbad6aa9a71",
   "metadata": {},
   "outputs": [
    {
     "name": "stdout",
     "output_type": "stream",
     "text": [
      "100.00% of the variabilty in the dependent variable is explained by the independent variable(s).\n"
     ]
    }
   ],
   "source": [
    "# Expressing r-squared score as pct of variability explained by the independent variable(s).\n",
    "print (f\"{r2_score(y_test, y_hat)*100:.2f}% of the variabilty in the dependent variable is explained by the independent variable(s).\")"
   ]
  },
  {
   "cell_type": "markdown",
   "id": "d30b0d3b-c190-4fcd-8db7-b7ca0130986c",
   "metadata": {},
   "source": [
    "## Mean Squared Error"
   ]
  },
  {
   "cell_type": "code",
   "execution_count": 28,
   "id": "75aa795a-3864-461c-b98a-c994e587c6ba",
   "metadata": {},
   "outputs": [],
   "source": [
    "actual_values = eval_df['Actuals']\n",
    "predicted_values =eval_df['Preds']"
   ]
  },
  {
   "cell_type": "code",
   "execution_count": 29,
   "id": "b5ec2456-045e-4f07-97c5-82f02f2192cc",
   "metadata": {},
   "outputs": [
    {
     "name": "stdout",
     "output_type": "stream",
     "text": [
      "The MSE of the LinearRegression model: 0.06 \n",
      "Unformated Value: 0.006251775519850093\n"
     ]
    }
   ],
   "source": [
    "# Calculate MSE\n",
    "mse = mean_squared_error(actual_values , predicted_values)\n",
    "\n",
    "# Print MSE\n",
    "print(f\"The MSE of the {md1_selected} model: {mae:.2f} \\nUnformated Value: {mse}\")"
   ]
  },
  {
   "cell_type": "markdown",
   "id": "59f887f7-5b40-4fb9-930b-f096878fac68",
   "metadata": {},
   "source": [
    "## Root Mean Squared Logarithmic Error (RMSLE)"
   ]
  },
  {
   "cell_type": "code",
   "execution_count": 30,
   "id": "e8c5daa6-d693-4ce0-9695-3ddca84696e8",
   "metadata": {},
   "outputs": [
    {
     "name": "stdout",
     "output_type": "stream",
     "text": [
      "The RMSLE of the LinearRegression model: 0.06 \n",
      "Unformated Value: 0.020236089227208248\n"
     ]
    }
   ],
   "source": [
    "# Calculate RMSLE\n",
    "RMSLE = np.sqrt(mean_squared_log_error(actual_values, predicted_values))\n",
    "\n",
    "# Print MSE\n",
    "print(f\"The RMSLE of the {md1_selected} model: {mae:.2f} \\nUnformated Value: {RMSLE}\")"
   ]
  },
  {
   "cell_type": "markdown",
   "id": "41ce5eda-b54c-4f49-b7cf-f5c8460d1bde",
   "metadata": {},
   "source": [
    "## Mean Absolute Percentage Error"
   ]
  },
  {
   "cell_type": "code",
   "execution_count": 31,
   "id": "0663631a-6368-4c44-a331-3d89aa2bcf14",
   "metadata": {},
   "outputs": [
    {
     "name": "stdout",
     "output_type": "stream",
     "text": [
      "Mean Absolute Percentage Error (MAPE): 1.08%\n"
     ]
    }
   ],
   "source": [
    "# Calculate MAPE\n",
    "mape = np.mean(np.abs((np.array(actual_values) - np.array(predicted_values)) / np.array(actual_values))) * 100\n",
    "\n",
    "print(f\"Mean Absolute Percentage Error (MAPE): {mape:.2f}%\")\n"
   ]
  },
  {
   "cell_type": "code",
   "execution_count": 32,
   "id": "336d8e8c-fe8f-41ea-8714-78e1cefff3f9",
   "metadata": {},
   "outputs": [
    {
     "data": {
      "text/html": [
       "<div>\n",
       "<style scoped>\n",
       "    .dataframe tbody tr th:only-of-type {\n",
       "        vertical-align: middle;\n",
       "    }\n",
       "\n",
       "    .dataframe tbody tr th {\n",
       "        vertical-align: top;\n",
       "    }\n",
       "\n",
       "    .dataframe thead th {\n",
       "        text-align: right;\n",
       "    }\n",
       "</style>\n",
       "<table border=\"1\" class=\"dataframe\">\n",
       "  <thead>\n",
       "    <tr style=\"text-align: right;\">\n",
       "      <th></th>\n",
       "      <th>count</th>\n",
       "      <th>mean</th>\n",
       "      <th>std</th>\n",
       "      <th>min</th>\n",
       "      <th>25%</th>\n",
       "      <th>50%</th>\n",
       "      <th>75%</th>\n",
       "      <th>max</th>\n",
       "    </tr>\n",
       "  </thead>\n",
       "  <tbody>\n",
       "    <tr>\n",
       "      <th>Actuals</th>\n",
       "      <td>51.0</td>\n",
       "      <td>518.571431</td>\n",
       "      <td>622.666489</td>\n",
       "      <td>0.912500</td>\n",
       "      <td>17.113250</td>\n",
       "      <td>312.732000</td>\n",
       "      <td>718.150000</td>\n",
       "      <td>2689.430300</td>\n",
       "    </tr>\n",
       "    <tr>\n",
       "      <th>Preds</th>\n",
       "      <td>51.0</td>\n",
       "      <td>518.559300</td>\n",
       "      <td>622.671261</td>\n",
       "      <td>0.848267</td>\n",
       "      <td>17.071949</td>\n",
       "      <td>312.820248</td>\n",
       "      <td>718.256990</td>\n",
       "      <td>2689.409107</td>\n",
       "    </tr>\n",
       "    <tr>\n",
       "      <th>abs_diff</th>\n",
       "      <td>51.0</td>\n",
       "      <td>0.057864</td>\n",
       "      <td>0.054420</td>\n",
       "      <td>0.001279</td>\n",
       "      <td>0.022297</td>\n",
       "      <td>0.049885</td>\n",
       "      <td>0.074253</td>\n",
       "      <td>0.291953</td>\n",
       "    </tr>\n",
       "    <tr>\n",
       "      <th>residuals</th>\n",
       "      <td>51.0</td>\n",
       "      <td>0.012132</td>\n",
       "      <td>0.078909</td>\n",
       "      <td>-0.220262</td>\n",
       "      <td>-0.022819</td>\n",
       "      <td>0.021193</td>\n",
       "      <td>0.055022</td>\n",
       "      <td>0.291953</td>\n",
       "    </tr>\n",
       "  </tbody>\n",
       "</table>\n",
       "</div>"
      ],
      "text/plain": [
       "           count        mean         std       min        25%         50%  \\\n",
       "Actuals     51.0  518.571431  622.666489  0.912500  17.113250  312.732000   \n",
       "Preds       51.0  518.559300  622.671261  0.848267  17.071949  312.820248   \n",
       "abs_diff    51.0    0.057864    0.054420  0.001279   0.022297    0.049885   \n",
       "residuals   51.0    0.012132    0.078909 -0.220262  -0.022819    0.021193   \n",
       "\n",
       "                  75%          max  \n",
       "Actuals    718.150000  2689.430300  \n",
       "Preds      718.256990  2689.409107  \n",
       "abs_diff     0.074253     0.291953  \n",
       "residuals    0.055022     0.291953  "
      ]
     },
     "execution_count": 32,
     "metadata": {},
     "output_type": "execute_result"
    }
   ],
   "source": [
    "eval_df.describe().T"
   ]
  },
  {
   "cell_type": "code",
   "execution_count": 33,
   "id": "4836f4e9-6708-453a-9e93-ee48a4a9ee03",
   "metadata": {},
   "outputs": [
    {
     "data": {
      "text/plain": [
       "Actuals      518.571431\n",
       "Preds        518.559300\n",
       "abs_diff       0.057864\n",
       "residuals      0.012132\n",
       "dtype: float64"
      ]
     },
     "execution_count": 33,
     "metadata": {},
     "output_type": "execute_result"
    }
   ],
   "source": [
    "eval_df.mean()"
   ]
  },
  {
   "cell_type": "markdown",
   "id": "2e90f315-e4ae-4639-96c0-4cf7ee34f80f",
   "metadata": {},
   "source": [
    "## Residual Visualizations"
   ]
  },
  {
   "cell_type": "code",
   "execution_count": 34,
   "id": "05342bb7-380b-4f80-91e5-0fca0d7032ef",
   "metadata": {},
   "outputs": [
    {
     "data": {
      "image/png": "[encoded data removed]",
      "text/plain": [
       "<Figure size 800x600 with 4 Axes>"
      ]
     },
     "metadata": {},
     "output_type": "display_data"
    }
   ],
   "source": [
    "fig,axes = plt.subplots(nrows=2, ncols=2, figsize=(8,6))\n",
    "sns.boxplot(data=eval_df[['Actuals', 'Preds']], ax=axes[0,0]) \n",
    "sns.boxplot(data=eval_df[['abs_diff', 'residuals']], ax=axes[0,1])\n",
    "sns.histplot(data=eval_df['residuals'], kde=True, bins=8, ax=axes[1,0])\n",
    "sns.scatterplot(data=eval_df['residuals'], ax=axes[1,1])\n",
    " \n",
    "plt.tight_layout()\n",
    "plt.show()\n",
    " "
   ]
  },
  {
   "cell_type": "markdown",
   "id": "75484a65-2c25-4765-a349-b19cfbd31cd6",
   "metadata": {},
   "source": [
    "## Probability Plot/QQ Plot\n",
    "\n",
    "#### Assumption: the distribuction is normal or near normal"
   ]
  },
  {
   "cell_type": "code",
   "execution_count": 35,
   "id": "75cbeef7-add0-4a74-8cbc-c3896cdf6d89",
   "metadata": {},
   "outputs": [
    {
     "data": {
      "image/png": "[encoded data removed]",
      "text/plain": [
       "<Figure size 600x800 with 1 Axes>"
      ]
     },
     "metadata": {},
     "output_type": "display_data"
    }
   ],
   "source": [
    "# Need scipy for the probability plot below (optional)\n",
    "\n",
    "import scipy as sp\n",
    " \n",
    "# probability plot (more stats / R based concept)\n",
    "fig, ax = plt.subplots(figsize=(6,8))\n",
    "_ = sp.stats.probplot(eval_df['residuals'],dist ='norm',plot=ax)\n",
    "\n",
    "# red line represent a perfect normal distribution\n",
    "ax.set_title('QQ Plot')\n",
    "ax.set_xlabel('Theoritical Quantiles')\n",
    "ax.set_ylabel('Sample Quantiles')\n",
    "plt.show()\n",
    " "
   ]
  },
  {
   "cell_type": "markdown",
   "id": "cdc1f09a-4a67-4eb6-8907-cf1db55f17d2",
   "metadata": {},
   "source": [
    "## Using plot_model function to generate plots individually."
   ]
  },
  {
   "cell_type": "markdown",
   "id": "0432b29f-4e34-40ef-8a9f-6e5384a4d2f5",
   "metadata": {},
   "source": [
    "### Prediction error plot"
   ]
  },
  {
   "cell_type": "code",
   "execution_count": null,
   "id": "cae91411-273c-40e1-83c0-a56291808ccf",
   "metadata": {},
   "outputs": [],
   "source": []
  },
  {
   "cell_type": "code",
   "execution_count": 36,
   "id": "1601e1aa-0591-4015-b2b6-c8e9079f345e",
   "metadata": {},
   "outputs": [
    {
     "data": {
      "image/png": "[encoded data removed]",
      "text/plain": [
       "<Figure size 800x500 with 1 Axes>"
      ]
     },
     "metadata": {},
     "output_type": "display_data"
    }
   ],
   "source": [
    "# Calculate the prediction error\n",
    "prediction_error = y_train - y_pred  \n",
    "\n",
    "# Create a Seaborn plot for the prediction error\n",
    "plt.figure(figsize=(8, 5))\n",
    "sns.histplot(prediction_error, kde=True, color='skyblue', bins=30)  # Use prediction_error here\n",
    "\n",
    "# Add labels and title\n",
    "plt.axvline(0, color='black', linestyle='--', linewidth=1)  # Zero reference line\n",
    "plt.xlabel(\"Prediction Error\")\n",
    "plt.ylabel(\"Frequency\")\n",
    "plt.title(\"Prediction Error Distribution\")\n",
    "\n",
    "plt.show()"
   ]
  },
  {
   "cell_type": "markdown",
   "id": "a64e5d77-0fda-42ce-98a4-33305c689e2a",
   "metadata": {},
   "source": [
    "## A Learning Curve plot"
   ]
  },
  {
   "cell_type": "code",
   "execution_count": 37,
   "id": "c5fc24d6-cdce-4657-9946-197cfa8a994c",
   "metadata": {},
   "outputs": [
    {
     "data": {
      "image/png": "[encoded data removed]",
      "text/plain": [
       "<Figure size 800x500 with 1 Axes>"
      ]
     },
     "metadata": {},
     "output_type": "display_data"
    }
   ],
   "source": [
    "\n",
    "# Define model and data\n",
    "model =md1  # Replace with your trained model\n",
    "X = X_train  # Feature matrix\n",
    "y = y_train  # Target variable\n",
    "\n",
    "# Generate learning curve data\n",
    "train_sizes, train_scores, test_scores = learning_curve(model, X, y, cv=5, scoring=\"r2\", train_sizes=np.linspace(0.1, 1.0, 10))\n",
    "\n",
    "# Compute mean and standard deviation\n",
    "train_mean = np.mean(train_scores, axis=1)\n",
    "train_std = np.std(train_scores, axis=1)\n",
    "test_mean = np.mean(test_scores, axis=1)\n",
    "test_std = np.std(test_scores, axis=1)\n",
    "\n",
    "# Plot learning curve\n",
    "plt.figure(figsize=(8, 5))\n",
    "sns.lineplot(x=train_sizes, y=train_mean, label=\"Training Score\", marker='o')\n",
    "sns.lineplot(x=train_sizes, y=test_mean, label=\"Validation Score\", marker='o')\n",
    "\n",
    "# Fill the area between mean ± std\n",
    "plt.fill_between(train_sizes, train_mean - train_std, train_mean + train_std, alpha=0.2)\n",
    "plt.fill_between(train_sizes, test_mean - test_std, test_mean + test_std, alpha=0.2)\n",
    "\n",
    "plt.xlabel(\"Training Set Size\")\n",
    "plt.ylabel(\"R² Score\")\n",
    "plt.title(\"Learning Curve\")\n",
    "plt.legend()\n",
    "plt.show()\n"
   ]
  },
  {
   "cell_type": "markdown",
   "id": "c5c5daf9-d612-47da-88ec-194071791bd4",
   "metadata": {},
   "source": [
    "## A Hyperparameter plot"
   ]
  },
  {
   "cell_type": "code",
   "execution_count": 38,
   "id": "ea62f1b6-7aee-433c-a0b2-ec63bcb687cc",
   "metadata": {},
   "outputs": [
    {
     "name": "stdout",
     "output_type": "stream",
     "text": [
      "{'copy_X': True, 'fit_intercept': True, 'n_jobs': -1, 'positive': False}\n"
     ]
    },
    {
     "data": {
      "image/png": "[encoded data removed]",
      "text/plain": [
       "<Figure size 1000x500 with 1 Axes>"
      ]
     },
     "metadata": {},
     "output_type": "display_data"
    }
   ],
   "source": [
    "# Extract tuning results \n",
    "tuning_results = md1.get_params()  # Get hyperparameter values\n",
    "print(tuning_results)  # Check available parameters\n",
    "\n",
    "# Example: Convert results to a DataFrame (manually create if using GridSearchCV)\n",
    "df = pd.DataFrame.from_dict(tuning_results, orient='index', columns=['Value']).reset_index()\n",
    "df.columns = ['Hyperparameter', 'Value']\n",
    "\n",
    "# Seaborn barplot for hyperparameter importance\n",
    "plt.figure(figsize=(10, 5))\n",
    "sns.barplot(x=\"Value\", y=\"Hyperparameter\", data=df)\n",
    "plt.xlabel(\"Hyperparameter Value\")\n",
    "plt.ylabel(\"Hyperparameter Name\")\n",
    "plt.title(\"Hyperparameter Tuning Results\")\n",
    "plt.show()\n"
   ]
  },
  {
   "cell_type": "markdown",
   "id": "bc787170-83f4-485b-a574-794f0ab06c16",
   "metadata": {},
   "source": [
    "## Findings /Summary"
   ]
  },
  {
   "cell_type": "markdown",
   "id": "16a45721-a1a6-4b4b-a52d-b25f060c13e0",
   "metadata": {},
   "source": [
    "## Key Observations\n",
    "The absolute differences and residuals are extremely small (close to zero), indicating an excellent fit of the model to the data.\n",
    "\n",
    "The predicted values align almost perfectly with the actual values, suggesting that the model captures the relationship between production and emissions effectively.\n",
    "\n",
    "No significant errors or deviations were observed in the predictions, which validates the accuracy of the regression model.\n",
    "\n",
    "\n",
    "## Model Performance Metrics between Pycaret and Scikit-learn:\n",
    "### The performance metrics for the Linear Regression model:\n",
    "\n",
    "**MAE (Mean Absolute Error)**: 0.0564(Pycaret) & 0.0578(Scki-learn)\n",
    "\n",
    "This value indicates the average absolute error between predicted and actual values. Since this value is low, it suggests that on average, the model's predictions are off by just apprx 0.0564 units.\n",
    "\n",
    "**MSE (Mean Squared Error)**: 0.0061(Pycaret) & 0.0062(Scki-learn)\n",
    "\n",
    "This indicates that the average squared error between the predicted and actual values is low. A smaller MSE means that the model is performing well in terms of minimizing large errors.\n",
    "\n",
    "**RMSE (Root Mean Squared Error)**: 0.0780(Pycaret) & 0.0790(Scki-learn)\n",
    "\n",
    "RMSE is a measure of the model's prediction error, with smaller values indicating better accuracy. In this case, the RMSE value is relatively low, which also suggests good predictive performance.\n",
    "\n",
    "**R² (Coefficient of Determination)**: 1.0000(Pycaret) & 0.9999(Scki-learn)\n",
    "\n",
    "This indicates a perfect fit. A value of 1 means that the model can explain 100% of the variance in the target variable, implying that the model fits the data extremely well.\n",
    "\n",
    "**RMSLE (Root Mean Squared Logarithmic Error)**: 0.0199(Pycaret) & 0.0202(Scki-learn) \n",
    "\n",
    "This metric penalizes underestimations more than overestimations. The small value indicates that the model's logarithmic error is also quite low, suggesting a good fit.\n",
    "\n",
    "**MAPE (Mean Absolute Percentage Error)**: 0.0106\n",
    "\n",
    "This percentage error is very small, indicating that the model's predictions are almost identical to the actual values, with an average error of about 1.06%(Pycaret) & 1.08%(Scki-learn)\n",
    "\n",
    "\n",
    "## Conclusion & Implications\n",
    "Based on the findings, the Linear Regression Model is highly accurate in predicting total emissions (MtCO2e) from the production data. This suggests that: Production volume is a strong predictor of total emissions.\n",
    "\n",
    "The model can be used for forecasting future emissions trends.\n",
    "\n",
    "Organizations can rely on the model for emission reduction strategies and regulatory reporting.\n",
    "\n",
    "Further analysis can explore the impact of different emission sources to optimize carbon management strategies.\n",
    "\n",
    "This analysis provides a strong foundation for data-driven decision-making in emissions management and climate action initiatives."
   ]
  }
 ],
 "metadata": {
  "kernelspec": {
   "display_name": "Python 3 (ipykernel)",
   "language": "python",
   "name": "python3"
  },
  "language_info": {
   "codemirror_mode": {
    "name": "ipython",
    "version": 3
   },
   "file_extension": ".py",
   "mimetype": "text/x-python",
   "name": "python",
   "nbconvert_exporter": "python",
   "pygments_lexer": "ipython3",
   "version": "3.11.11"
  }
 },
 "nbformat": 4,
 "nbformat_minor": 5
}
